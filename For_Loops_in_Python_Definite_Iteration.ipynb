{
 "cells": [
  {
   "cell_type": "code",
   "execution_count": 3,
   "metadata": {},
   "outputs": [
    {
     "name": "stderr",
     "output_type": "stream",
     "text": [
      "C:\\Users\\Ransingh\\AppData\\Local\\Temp\\ipykernel_37860\\2162656668.py:1: DeprecationWarning: \n",
      "Pyarrow will become a required dependency of pandas in the next major release of pandas (pandas 3.0),\n",
      "(to allow more performant data types, such as the Arrow string type, and better interoperability with other libraries)\n",
      "but was not found to be installed on your system.\n",
      "If this would cause problems for you,\n",
      "please provide us feedback at https://github.com/pandas-dev/pandas/issues/54466\n",
      "        \n",
      "  import pandas as pd\n"
     ]
    }
   ],
   "source": [
    "import pandas as pd\n",
    "import numpy as np"
   ]
  },
  {
   "cell_type": "markdown",
   "metadata": {},
   "source": [
    "1. For loop on df\n",
    "2. on list\n",
    "3. on string\n",
    "4. on dictionary\n",
    "5. enumerate, items, iterrows, range\n",
    "6. for else\n",
    "7. for (if else) else"
   ]
  },
  {
   "cell_type": "markdown",
   "metadata": {},
   "source": [
    "1. for i in list, tuple, dict keys or values\n",
    "2. for i,j in dict.items()\n",
    "3. for i in range(start, end)\n",
    "4. for i in df.columns\n",
    "5. for row_index, row_data in df.iterrows()\n",
    "6. for column_name, column_data in df.items()\n",
    "7. for index, element in enumerate -> list, tuple, set, string, np.array\n",
    "8. appending inside for + if elif loop\n",
    "9. indexing concept in string vs list , what could be done what could'nt be\n",
    "10. what function or feature on string helps in iterating over it - split, join, compile in re, replace,\n",
    "11. function + for\n",
    "12. function + for + (if + elif + else)\n",
    "13. function + for + (if + elif + else) + else\n",
    "14. function with try :for + (if + elif + else) + break + else except\n",
    "15. how to know how many parts an iterable has ?\n",
    "16. mapping every thing to list comprehension\n",
    "17. for with zip\n",
    "18. fot with if (when we have some condition ) we use it in place of for else"
   ]
  },
  {
   "cell_type": "code",
   "execution_count": 4,
   "metadata": {},
   "outputs": [
    {
     "ename": "TypeError",
     "evalue": "cannot unpack non-iterable int object",
     "output_type": "error",
     "traceback": [
      "\u001b[1;31m---------------------------------------------------------------------------\u001b[0m",
      "\u001b[1;31mTypeError\u001b[0m                                 Traceback (most recent call last)",
      "Cell \u001b[1;32mIn[4], line 1\u001b[0m\n\u001b[1;32m----> 1\u001b[0m \u001b[38;5;28;01mfor\u001b[39;00m i, j \u001b[38;5;129;01min\u001b[39;00m [\u001b[38;5;241m4\u001b[39m, \u001b[38;5;241m3\u001b[39m, \u001b[38;5;241m2\u001b[39m, \u001b[38;5;241m1\u001b[39m]:\n\u001b[0;32m      2\u001b[0m     \u001b[38;5;28mprint\u001b[39m(\u001b[38;5;124mf\u001b[39m\u001b[38;5;124m\"\u001b[39m\u001b[38;5;124mi: \u001b[39m\u001b[38;5;132;01m{\u001b[39;00mi\u001b[38;5;132;01m}\u001b[39;00m\u001b[38;5;124m, j: \u001b[39m\u001b[38;5;132;01m{\u001b[39;00mj\u001b[38;5;132;01m}\u001b[39;00m\u001b[38;5;124m\"\u001b[39m)\n",
      "\u001b[1;31mTypeError\u001b[0m: cannot unpack non-iterable int object"
     ]
    }
   ],
   "source": [
    "for i, j in [4, 3, 2, 1]:\n",
    "    print(f\"i: {i}, j: {j}\")"
   ]
  },
  {
   "cell_type": "code",
   "execution_count": null,
   "metadata": {},
   "outputs": [
    {
     "name": "stdout",
     "output_type": "stream",
     "text": [
      "Item: 4\n",
      "Item: 3\n",
      "Item: 2\n",
      "Item: 1\n"
     ]
    }
   ],
   "source": [
    "for item in [4, 3, 2, 1]:\n",
    "    print(f\"Item: {item}\")"
   ]
  },
  {
   "cell_type": "code",
   "execution_count": null,
   "metadata": {},
   "outputs": [
    {
     "name": "stdout",
     "output_type": "stream",
     "text": [
      "i: 4, j: four\n",
      "i: 3, j: three\n",
      "i: 2, j: two\n",
      "i: 1, j: one\n"
     ]
    }
   ],
   "source": [
    "for i, j in [(4, 'four'), (3, 'three'), (2, 'two'), (1, 'one')]:\n",
    "    print(f\"i: {i}, j: {j}\")"
   ]
  },
  {
   "cell_type": "code",
   "execution_count": null,
   "metadata": {},
   "outputs": [
    {
     "data": {
      "text/html": [
       "<div>\n",
       "<style scoped>\n",
       "    .dataframe tbody tr th:only-of-type {\n",
       "        vertical-align: middle;\n",
       "    }\n",
       "\n",
       "    .dataframe tbody tr th {\n",
       "        vertical-align: top;\n",
       "    }\n",
       "\n",
       "    .dataframe thead th {\n",
       "        text-align: right;\n",
       "    }\n",
       "</style>\n",
       "<table border=\"1\" class=\"dataframe\">\n",
       "  <thead>\n",
       "    <tr style=\"text-align: right;\">\n",
       "      <th></th>\n",
       "      <th>Col1</th>\n",
       "      <th>Col2</th>\n",
       "    </tr>\n",
       "  </thead>\n",
       "  <tbody>\n",
       "    <tr>\n",
       "      <th>0</th>\n",
       "      <td>b</td>\n",
       "      <td>20</td>\n",
       "    </tr>\n",
       "    <tr>\n",
       "      <th>1</th>\n",
       "      <td>b</td>\n",
       "      <td>30</td>\n",
       "    </tr>\n",
       "    <tr>\n",
       "      <th>2</th>\n",
       "      <td>nan</td>\n",
       "      <td>76</td>\n",
       "    </tr>\n",
       "    <tr>\n",
       "      <th>3</th>\n",
       "      <td>nan</td>\n",
       "      <td>75</td>\n",
       "    </tr>\n",
       "    <tr>\n",
       "      <th>4</th>\n",
       "      <td>b</td>\n",
       "      <td>89</td>\n",
       "    </tr>\n",
       "    <tr>\n",
       "      <th>5</th>\n",
       "      <td>a</td>\n",
       "      <td>84</td>\n",
       "    </tr>\n",
       "    <tr>\n",
       "      <th>6</th>\n",
       "      <td>nan</td>\n",
       "      <td>19</td>\n",
       "    </tr>\n",
       "    <tr>\n",
       "      <th>7</th>\n",
       "      <td>a</td>\n",
       "      <td>36</td>\n",
       "    </tr>\n",
       "    <tr>\n",
       "      <th>8</th>\n",
       "      <td>b</td>\n",
       "      <td>82</td>\n",
       "    </tr>\n",
       "    <tr>\n",
       "      <th>9</th>\n",
       "      <td>a</td>\n",
       "      <td>58</td>\n",
       "    </tr>\n",
       "    <tr>\n",
       "      <th>10</th>\n",
       "      <td>b</td>\n",
       "      <td>23</td>\n",
       "    </tr>\n",
       "    <tr>\n",
       "      <th>11</th>\n",
       "      <td>a</td>\n",
       "      <td>35</td>\n",
       "    </tr>\n",
       "    <tr>\n",
       "      <th>12</th>\n",
       "      <td>b</td>\n",
       "      <td>56</td>\n",
       "    </tr>\n",
       "    <tr>\n",
       "      <th>13</th>\n",
       "      <td>a</td>\n",
       "      <td>25</td>\n",
       "    </tr>\n",
       "    <tr>\n",
       "      <th>14</th>\n",
       "      <td>nan</td>\n",
       "      <td>64</td>\n",
       "    </tr>\n",
       "    <tr>\n",
       "      <th>15</th>\n",
       "      <td>b</td>\n",
       "      <td>5</td>\n",
       "    </tr>\n",
       "    <tr>\n",
       "      <th>16</th>\n",
       "      <td>b</td>\n",
       "      <td>75</td>\n",
       "    </tr>\n",
       "    <tr>\n",
       "      <th>17</th>\n",
       "      <td>b</td>\n",
       "      <td>96</td>\n",
       "    </tr>\n",
       "    <tr>\n",
       "      <th>18</th>\n",
       "      <td>b</td>\n",
       "      <td>80</td>\n",
       "    </tr>\n",
       "    <tr>\n",
       "      <th>19</th>\n",
       "      <td>a</td>\n",
       "      <td>34</td>\n",
       "    </tr>\n",
       "    <tr>\n",
       "      <th>20</th>\n",
       "      <td>b</td>\n",
       "      <td>39</td>\n",
       "    </tr>\n",
       "    <tr>\n",
       "      <th>21</th>\n",
       "      <td>a</td>\n",
       "      <td>83</td>\n",
       "    </tr>\n",
       "    <tr>\n",
       "      <th>22</th>\n",
       "      <td>nan</td>\n",
       "      <td>14</td>\n",
       "    </tr>\n",
       "    <tr>\n",
       "      <th>23</th>\n",
       "      <td>a</td>\n",
       "      <td>42</td>\n",
       "    </tr>\n",
       "    <tr>\n",
       "      <th>24</th>\n",
       "      <td>nan</td>\n",
       "      <td>14</td>\n",
       "    </tr>\n",
       "    <tr>\n",
       "      <th>25</th>\n",
       "      <td>a</td>\n",
       "      <td>53</td>\n",
       "    </tr>\n",
       "    <tr>\n",
       "      <th>26</th>\n",
       "      <td>a</td>\n",
       "      <td>19</td>\n",
       "    </tr>\n",
       "    <tr>\n",
       "      <th>27</th>\n",
       "      <td>b</td>\n",
       "      <td>29</td>\n",
       "    </tr>\n",
       "    <tr>\n",
       "      <th>28</th>\n",
       "      <td>b</td>\n",
       "      <td>37</td>\n",
       "    </tr>\n",
       "    <tr>\n",
       "      <th>29</th>\n",
       "      <td>b</td>\n",
       "      <td>43</td>\n",
       "    </tr>\n",
       "    <tr>\n",
       "      <th>30</th>\n",
       "      <td>nan</td>\n",
       "      <td>61</td>\n",
       "    </tr>\n",
       "    <tr>\n",
       "      <th>31</th>\n",
       "      <td>b</td>\n",
       "      <td>44</td>\n",
       "    </tr>\n",
       "    <tr>\n",
       "      <th>32</th>\n",
       "      <td>b</td>\n",
       "      <td>83</td>\n",
       "    </tr>\n",
       "    <tr>\n",
       "      <th>33</th>\n",
       "      <td>b</td>\n",
       "      <td>61</td>\n",
       "    </tr>\n",
       "    <tr>\n",
       "      <th>34</th>\n",
       "      <td>nan</td>\n",
       "      <td>3</td>\n",
       "    </tr>\n",
       "    <tr>\n",
       "      <th>35</th>\n",
       "      <td>b</td>\n",
       "      <td>84</td>\n",
       "    </tr>\n",
       "    <tr>\n",
       "      <th>36</th>\n",
       "      <td>a</td>\n",
       "      <td>24</td>\n",
       "    </tr>\n",
       "    <tr>\n",
       "      <th>37</th>\n",
       "      <td>a</td>\n",
       "      <td>90</td>\n",
       "    </tr>\n",
       "    <tr>\n",
       "      <th>38</th>\n",
       "      <td>a</td>\n",
       "      <td>62</td>\n",
       "    </tr>\n",
       "    <tr>\n",
       "      <th>39</th>\n",
       "      <td>b</td>\n",
       "      <td>41</td>\n",
       "    </tr>\n",
       "    <tr>\n",
       "      <th>40</th>\n",
       "      <td>b</td>\n",
       "      <td>35</td>\n",
       "    </tr>\n",
       "    <tr>\n",
       "      <th>41</th>\n",
       "      <td>a</td>\n",
       "      <td>36</td>\n",
       "    </tr>\n",
       "    <tr>\n",
       "      <th>42</th>\n",
       "      <td>b</td>\n",
       "      <td>27</td>\n",
       "    </tr>\n",
       "    <tr>\n",
       "      <th>43</th>\n",
       "      <td>b</td>\n",
       "      <td>2</td>\n",
       "    </tr>\n",
       "    <tr>\n",
       "      <th>44</th>\n",
       "      <td>b</td>\n",
       "      <td>29</td>\n",
       "    </tr>\n",
       "    <tr>\n",
       "      <th>45</th>\n",
       "      <td>b</td>\n",
       "      <td>92</td>\n",
       "    </tr>\n",
       "    <tr>\n",
       "      <th>46</th>\n",
       "      <td>b</td>\n",
       "      <td>79</td>\n",
       "    </tr>\n",
       "    <tr>\n",
       "      <th>47</th>\n",
       "      <td>a</td>\n",
       "      <td>84</td>\n",
       "    </tr>\n",
       "    <tr>\n",
       "      <th>48</th>\n",
       "      <td>b</td>\n",
       "      <td>43</td>\n",
       "    </tr>\n",
       "    <tr>\n",
       "      <th>49</th>\n",
       "      <td>nan</td>\n",
       "      <td>32</td>\n",
       "    </tr>\n",
       "    <tr>\n",
       "      <th>50</th>\n",
       "      <td>a</td>\n",
       "      <td>93</td>\n",
       "    </tr>\n",
       "    <tr>\n",
       "      <th>51</th>\n",
       "      <td>a</td>\n",
       "      <td>93</td>\n",
       "    </tr>\n",
       "    <tr>\n",
       "      <th>52</th>\n",
       "      <td>a</td>\n",
       "      <td>13</td>\n",
       "    </tr>\n",
       "    <tr>\n",
       "      <th>53</th>\n",
       "      <td>a</td>\n",
       "      <td>21</td>\n",
       "    </tr>\n",
       "    <tr>\n",
       "      <th>54</th>\n",
       "      <td>b</td>\n",
       "      <td>25</td>\n",
       "    </tr>\n",
       "    <tr>\n",
       "      <th>55</th>\n",
       "      <td>b</td>\n",
       "      <td>37</td>\n",
       "    </tr>\n",
       "    <tr>\n",
       "      <th>56</th>\n",
       "      <td>nan</td>\n",
       "      <td>73</td>\n",
       "    </tr>\n",
       "    <tr>\n",
       "      <th>57</th>\n",
       "      <td>b</td>\n",
       "      <td>69</td>\n",
       "    </tr>\n",
       "    <tr>\n",
       "      <th>58</th>\n",
       "      <td>b</td>\n",
       "      <td>48</td>\n",
       "    </tr>\n",
       "    <tr>\n",
       "      <th>59</th>\n",
       "      <td>a</td>\n",
       "      <td>99</td>\n",
       "    </tr>\n",
       "  </tbody>\n",
       "</table>\n",
       "</div>"
      ],
      "text/plain": [
       "   Col1  Col2\n",
       "0     b    20\n",
       "1     b    30\n",
       "2   nan    76\n",
       "3   nan    75\n",
       "4     b    89\n",
       "5     a    84\n",
       "6   nan    19\n",
       "7     a    36\n",
       "8     b    82\n",
       "9     a    58\n",
       "10    b    23\n",
       "11    a    35\n",
       "12    b    56\n",
       "13    a    25\n",
       "14  nan    64\n",
       "15    b     5\n",
       "16    b    75\n",
       "17    b    96\n",
       "18    b    80\n",
       "19    a    34\n",
       "20    b    39\n",
       "21    a    83\n",
       "22  nan    14\n",
       "23    a    42\n",
       "24  nan    14\n",
       "25    a    53\n",
       "26    a    19\n",
       "27    b    29\n",
       "28    b    37\n",
       "29    b    43\n",
       "30  nan    61\n",
       "31    b    44\n",
       "32    b    83\n",
       "33    b    61\n",
       "34  nan     3\n",
       "35    b    84\n",
       "36    a    24\n",
       "37    a    90\n",
       "38    a    62\n",
       "39    b    41\n",
       "40    b    35\n",
       "41    a    36\n",
       "42    b    27\n",
       "43    b     2\n",
       "44    b    29\n",
       "45    b    92\n",
       "46    b    79\n",
       "47    a    84\n",
       "48    b    43\n",
       "49  nan    32\n",
       "50    a    93\n",
       "51    a    93\n",
       "52    a    13\n",
       "53    a    21\n",
       "54    b    25\n",
       "55    b    37\n",
       "56  nan    73\n",
       "57    b    69\n",
       "58    b    48\n",
       "59    a    99"
      ]
     },
     "execution_count": 8,
     "metadata": {},
     "output_type": "execute_result"
    }
   ],
   "source": [
    "import pandas as pd\n",
    "import numpy as np\n",
    "import random\n",
    "\n",
    "data1 = pd.DataFrame({\n",
    "    \"Col1\": np.array(random.sample([\"a\",\"b\",np.nan], counts=[20,30,10], k=60)),\n",
    "    \"Col2\": np.random.randint(1,100,60)\n",
    "})\n",
    "\n",
    "data1"
   ]
  },
  {
   "cell_type": "code",
   "execution_count": null,
   "metadata": {},
   "outputs": [],
   "source": [
    "dict= {\n",
    "    \"Col1\": np.array(random.sample([\"a\",\"b\",np.nan], counts=[20,30,10], k=60)),\n",
    "    \"Col2\": np.random.randint(1,100,60)\n",
    "}"
   ]
  },
  {
   "cell_type": "code",
   "execution_count": null,
   "metadata": {},
   "outputs": [
    {
     "data": {
      "text/plain": [
       "{'Col1': array(['a', 'a', 'b', 'a', 'b', 'b', 'a', 'b', 'b', 'b', 'a', 'b', 'b',\n",
       "        'b', 'b', 'a', 'b', 'b', 'b', 'nan', 'a', 'a', 'b', 'a', 'b', 'b',\n",
       "        'nan', 'a', 'b', 'b', 'nan', 'a', 'b', 'nan', 'a', 'b', 'b', 'a',\n",
       "        'b', 'b', 'nan', 'b', 'a', 'a', 'b', 'nan', 'b', 'b', 'a', 'b',\n",
       "        'nan', 'a', 'nan', 'a', 'nan', 'b', 'nan', 'a', 'a', 'b'],\n",
       "       dtype='<U32'),\n",
       " 'Col2': array([51, 61, 81, 54, 17, 75, 62, 42,  6,  8, 43,  7, 57, 87, 40, 46, 33,\n",
       "        65, 34, 93, 70, 98, 83, 62, 23, 78, 91, 74, 36, 47, 40, 48, 77, 59,\n",
       "        50, 65, 63, 31, 55, 95, 94, 19, 62, 83, 53,  3, 32, 96, 90, 89, 39,\n",
       "        10, 42, 96, 28, 80, 87,  7, 58, 86])}"
      ]
     },
     "execution_count": 10,
     "metadata": {},
     "output_type": "execute_result"
    }
   ],
   "source": [
    "dict"
   ]
  },
  {
   "cell_type": "code",
   "execution_count": null,
   "metadata": {},
   "outputs": [],
   "source": [
    "# np.nan is used for integer float, if it is used on string then it makes the column unassigned integer type for which many\n",
    "# operation might not take place easily. The missing values in dictionary are given by null"
   ]
  },
  {
   "cell_type": "code",
   "execution_count": null,
   "metadata": {},
   "outputs": [
    {
     "name": "stdout",
     "output_type": "stream",
     "text": [
      "Col1\n",
      "Col2\n"
     ]
    }
   ],
   "source": [
    "for i in dict:\n",
    "    print(i)"
   ]
  },
  {
   "cell_type": "code",
   "execution_count": null,
   "metadata": {},
   "outputs": [
    {
     "name": "stdout",
     "output_type": "stream",
     "text": [
      "Col1\n",
      "Col2\n"
     ]
    }
   ],
   "source": [
    "for i in dict.keys():\n",
    "    print(i)"
   ]
  },
  {
   "cell_type": "code",
   "execution_count": null,
   "metadata": {},
   "outputs": [
    {
     "name": "stdout",
     "output_type": "stream",
     "text": [
      "['a' 'a' 'b' 'a' 'b' 'b' 'a' 'b' 'b' 'b' 'a' 'b' 'b' 'b' 'b' 'a' 'b' 'b'\n",
      " 'b' 'nan' 'a' 'a' 'b' 'a' 'b' 'b' 'nan' 'a' 'b' 'b' 'nan' 'a' 'b' 'nan'\n",
      " 'a' 'b' 'b' 'a' 'b' 'b' 'nan' 'b' 'a' 'a' 'b' 'nan' 'b' 'b' 'a' 'b' 'nan'\n",
      " 'a' 'nan' 'a' 'nan' 'b' 'nan' 'a' 'a' 'b']\n",
      "[51 61 81 54 17 75 62 42  6  8 43  7 57 87 40 46 33 65 34 93 70 98 83 62\n",
      " 23 78 91 74 36 47 40 48 77 59 50 65 63 31 55 95 94 19 62 83 53  3 32 96\n",
      " 90 89 39 10 42 96 28 80 87  7 58 86]\n"
     ]
    }
   ],
   "source": [
    "for j in dict.values():\n",
    "    print(j)"
   ]
  },
  {
   "cell_type": "code",
   "execution_count": null,
   "metadata": {},
   "outputs": [],
   "source": [
    "for i in dict[\"Col2\"]:\n",
    "    print(i)"
   ]
  },
  {
   "cell_type": "code",
   "execution_count": null,
   "metadata": {},
   "outputs": [
    {
     "name": "stdout",
     "output_type": "stream",
     "text": [
      "Col1 has ['a' 'a' 'b' 'a' 'b' 'b' 'a' 'b' 'b' 'b' 'a' 'b' 'b' 'b' 'b' 'a' 'b' 'b'\n",
      " 'b' 'nan' 'a' 'a' 'b' 'a' 'b' 'b' 'nan' 'a' 'b' 'b' 'nan' 'a' 'b' 'nan'\n",
      " 'a' 'b' 'b' 'a' 'b' 'b' 'nan' 'b' 'a' 'a' 'b' 'nan' 'b' 'b' 'a' 'b' 'nan'\n",
      " 'a' 'nan' 'a' 'nan' 'b' 'nan' 'a' 'a' 'b']\n",
      "Col2 has [51 61 81 54 17 75 62 42  6  8 43  7 57 87 40 46 33 65 34 93 70 98 83 62\n",
      " 23 78 91 74 36 47 40 48 77 59 50 65 63 31 55 95 94 19 62 83 53  3 32 96\n",
      " 90 89 39 10 42 96 28 80 87  7 58 86]\n"
     ]
    }
   ],
   "source": [
    "for i,j in dict.items():\n",
    "    print(i, \"has\", j)\n"
   ]
  },
  {
   "cell_type": "code",
   "execution_count": null,
   "metadata": {},
   "outputs": [],
   "source": [
    "# How to check what is there in the item"
   ]
  },
  {
   "cell_type": "code",
   "execution_count": null,
   "metadata": {},
   "outputs": [
    {
     "name": "stdout",
     "output_type": "stream",
     "text": [
      "[51 61 81 54 17 75 62 42  6  8 43  7 57 87 40 46 33 65 34 93 70 98 83 62\n",
      " 23 78 91 74 36 47 40 48 77 59 50 65 63 31 55 95 94 19 62 83 53  3 32 96\n",
      " 90 89 39 10 42 96 28 80 87  7 58 86]\n"
     ]
    }
   ],
   "source": [
    "# printing only for column Col2\n",
    "for col,val in dict.items():\n",
    "    if col==\"Col2\":\n",
    "        print(val)"
   ]
  },
  {
   "cell_type": "code",
   "execution_count": null,
   "metadata": {},
   "outputs": [
    {
     "name": "stdout",
     "output_type": "stream",
     "text": [
      "54\n",
      "62\n",
      "42\n",
      "6\n",
      "8\n",
      "40\n",
      "46\n",
      "34\n",
      "70\n",
      "98\n",
      "62\n",
      "78\n",
      "74\n",
      "36\n",
      "40\n",
      "48\n",
      "50\n",
      "94\n",
      "62\n",
      "32\n",
      "96\n",
      "90\n",
      "10\n",
      "42\n",
      "96\n",
      "28\n",
      "80\n",
      "58\n",
      "86\n"
     ]
    }
   ],
   "source": [
    "# printing for column col2 and values divisible by 2\n",
    "for col, val in dict.items():\n",
    "    if col == \"Col2\":\n",
    "        for val_items in val:\n",
    "            if val_items%2 == 0:\n",
    "                print(val_items)"
   ]
  },
  {
   "cell_type": "code",
   "execution_count": null,
   "metadata": {},
   "outputs": [
    {
     "data": {
      "text/plain": [
       "dict_items([('Col1', array(['a', 'a', 'b', 'a', 'b', 'b', 'a', 'b', 'b', 'b', 'a', 'b', 'b',\n",
       "       'b', 'b', 'a', 'b', 'b', 'b', 'nan', 'a', 'a', 'b', 'a', 'b', 'b',\n",
       "       'nan', 'a', 'b', 'b', 'nan', 'a', 'b', 'nan', 'a', 'b', 'b', 'a',\n",
       "       'b', 'b', 'nan', 'b', 'a', 'a', 'b', 'nan', 'b', 'b', 'a', 'b',\n",
       "       'nan', 'a', 'nan', 'a', 'nan', 'b', 'nan', 'a', 'a', 'b'],\n",
       "      dtype='<U32')), ('Col2', array([51, 61, 81, 54, 17, 75, 62, 42,  6,  8, 43,  7, 57, 87, 40, 46, 33,\n",
       "       65, 34, 93, 70, 98, 83, 62, 23, 78, 91, 74, 36, 47, 40, 48, 77, 59,\n",
       "       50, 65, 63, 31, 55, 95, 94, 19, 62, 83, 53,  3, 32, 96, 90, 89, 39,\n",
       "       10, 42, 96, 28, 80, 87,  7, 58, 86]))])"
      ]
     },
     "execution_count": 47,
     "metadata": {},
     "output_type": "execute_result"
    }
   ],
   "source": [
    "dict.items()"
   ]
  },
  {
   "cell_type": "code",
   "execution_count": null,
   "metadata": {},
   "outputs": [
    {
     "data": {
      "text/plain": [
       "[(1, [1, 2, 3]), (2, [4, 5, 6])]"
      ]
     },
     "execution_count": 56,
     "metadata": {},
     "output_type": "execute_result"
    }
   ],
   "source": [
    "a = [1,2,3]\n",
    "b = {\"a\":[1,2,3],\n",
    "     \"c\":[4,5,6]}\n",
    "\n",
    "list(zip(a,b.values())) # b alone means keys"
   ]
  },
  {
   "cell_type": "code",
   "execution_count": null,
   "metadata": {},
   "outputs": [
    {
     "data": {
      "text/plain": [
       "[(1, 'a'), (2, 'b'), (3, 'c')]"
      ]
     },
     "execution_count": 58,
     "metadata": {},
     "output_type": "execute_result"
    }
   ],
   "source": [
    "my_list = [1, 2, 3]\n",
    "my_dict = {'a': 'apple', 'b': 'banana', 'c': 'cherry'}\n",
    "\n",
    "result = list(zip(my_list, my_dict))\n",
    "result "
   ]
  },
  {
   "cell_type": "code",
   "execution_count": null,
   "metadata": {},
   "outputs": [
    {
     "data": {
      "text/plain": [
       "[(1, 'a'), (2, 'b'), (3, 'c')]"
      ]
     },
     "execution_count": 59,
     "metadata": {},
     "output_type": "execute_result"
    }
   ],
   "source": [
    "my_list = [1, 2, 3, 4]\n",
    "my_dict = {'a': 'apple', 'b': 'banana', 'c': 'cherry'}\n",
    "\n",
    "result = list(zip(my_list, my_dict))\n",
    "result "
   ]
  },
  {
   "cell_type": "code",
   "execution_count": null,
   "metadata": {},
   "outputs": [
    {
     "data": {
      "text/plain": [
       "[(1, 'a'), (2, 'b'), (3, 'c'), (4, 'd')]"
      ]
     },
     "execution_count": 60,
     "metadata": {},
     "output_type": "execute_result"
    }
   ],
   "source": [
    "my_list = [1, 2, 3, 4]\n",
    "my_dict = {'a': 'apple', 'b': 'banana', 'c': 'cherry','d':'x','e':'y'}\n",
    "\n",
    "result = list(zip(my_list, my_dict))\n",
    "result "
   ]
  },
  {
   "cell_type": "code",
   "execution_count": null,
   "metadata": {},
   "outputs": [],
   "source": [
    "# For those indices pair can be formed are included in zip"
   ]
  },
  {
   "cell_type": "code",
   "execution_count": null,
   "metadata": {},
   "outputs": [
    {
     "data": {
      "text/plain": [
       "(array(['a', 'a', 'b', 'a', 'b', 'b', 'a', 'b', 'b', 'b', 'a', 'b', 'b',\n",
       "        'b', 'b', 'a', 'b', 'b', 'b', 'nan', 'a', 'a', 'b', 'a', 'b', 'b',\n",
       "        'nan', 'a', 'b', 'b', 'nan', 'a', 'b', 'nan', 'a', 'b', 'b', 'a',\n",
       "        'b', 'b', 'nan', 'b', 'a', 'a', 'b', 'nan', 'b', 'b', 'a', 'b',\n",
       "        'nan', 'a', 'nan', 'a', 'nan', 'b', 'nan', 'a', 'a', 'b'],\n",
       "       dtype='<U32'),\n",
       " 51)"
      ]
     },
     "execution_count": 68,
     "metadata": {},
     "output_type": "execute_result"
    }
   ],
   "source": [
    "list(zip(dict.values(),dict[\"Col2\"]))[0]"
   ]
  },
  {
   "cell_type": "code",
   "execution_count": null,
   "metadata": {},
   "outputs": [
    {
     "name": "stdout",
     "output_type": "stream",
     "text": [
      "54\n",
      "62\n",
      "46\n",
      "70\n",
      "98\n",
      "62\n",
      "74\n",
      "48\n",
      "50\n",
      "62\n",
      "90\n",
      "10\n",
      "96\n",
      "58\n"
     ]
    }
   ],
   "source": [
    "# printing for column col2 and values divisible by 2 and where col1 is a\n",
    "# Iterate through the dictionary using items()\n",
    "for key, values in dict.items():\n",
    "    # Check if the current key is \"Col1\"\n",
    "    if key == \"Col1\":\n",
    "        # Iterate through the values and corresponding values in \"Col2\"\n",
    "        for val1, val2 in zip(values, dict[\"Col2\"]): # the pair id formed for attributes in col1 and col2\n",
    "            # Check if the value in \"Col1\" is 'a' and the value in \"Col2\" is divisible by 2\n",
    "            if val1 == 'a' and val2 % 2 == 0:\n",
    "                print(val2)"
   ]
  },
  {
   "cell_type": "code",
   "execution_count": null,
   "metadata": {},
   "outputs": [
    {
     "data": {
      "text/plain": [
       "{'Col1': array(['a', 'a', 'b', 'a', 'b', 'b', 'a', 'b', 'b', 'b', 'a', 'b', 'b',\n",
       "        'b', 'b', 'a', 'b', 'b', 'b', 'nan', 'a', 'a', 'b', 'a', 'b', 'b',\n",
       "        'nan', 'a', 'b', 'b', 'nan', 'a', 'b', 'nan', 'a', 'b', 'b', 'a',\n",
       "        'b', 'b', 'nan', 'b', 'a', 'a', 'b', 'nan', 'b', 'b', 'a', 'b',\n",
       "        'nan', 'a', 'nan', 'a', 'nan', 'b', 'nan', 'a', 'a', 'b'],\n",
       "       dtype='<U32'),\n",
       " 'Col2': array([51, 61, 81, 54, 17, 75, 62, 42,  6,  8, 43,  7, 57, 87, 40, 46, 33,\n",
       "        65, 34, 93, 70, 98, 83, 62, 23, 78, 91, 74, 36, 47, 40, 48, 77, 59,\n",
       "        50, 65, 63, 31, 55, 95, 94, 19, 62, 83, 53,  3, 32, 96, 90, 89, 39,\n",
       "        10, 42, 96, 28, 80, 87,  7, 58, 86])}"
      ]
     },
     "execution_count": 92,
     "metadata": {},
     "output_type": "execute_result"
    }
   ],
   "source": [
    "dict"
   ]
  },
  {
   "cell_type": "code",
   "execution_count": null,
   "metadata": {},
   "outputs": [
    {
     "name": "stdout",
     "output_type": "stream",
     "text": [
      "a is  54\n",
      "a is  62\n",
      "b is  42\n",
      "b is  6\n",
      "b is  8\n",
      "b is  40\n",
      "a is  46\n",
      "b is  34\n",
      "a is  70\n",
      "a is  98\n",
      "a is  62\n",
      "b is  78\n",
      "a is  74\n",
      "b is  36\n",
      "a is  48\n",
      "a is  50\n",
      "a is  62\n",
      "b is  32\n",
      "b is  96\n",
      "a is  90\n",
      "a is  10\n",
      "a is  96\n",
      "b is  80\n",
      "a is  58\n",
      "b is  86\n"
     ]
    }
   ],
   "source": [
    "# printing for column col2, col1 and values divisible by 2 and where col1 is a, print the pairs\n",
    "for val1, val2 in zip(dict['Col1'],dict['Col2']):\n",
    "    if val1 in [\"a\",\"b\"] and val2%2 == 0:\n",
    "        print(val1,\"is \", val2)"
   ]
  },
  {
   "cell_type": "code",
   "execution_count": null,
   "metadata": {},
   "outputs": [
    {
     "data": {
      "text/plain": [
       "[([1, 2, 3], [2, 3, 4])]"
      ]
     },
     "execution_count": 70,
     "metadata": {},
     "output_type": "execute_result"
    }
   ],
   "source": [
    "my_dict = {'key1': [1,2,3], 'key2': [2,3,4], 'key3': [3,4,5]}\n",
    "key_name = 'key2'\n",
    "\n",
    "result = list(zip(my_dict.values(), [my_dict[key_name]]))\n",
    "result"
   ]
  },
  {
   "cell_type": "code",
   "execution_count": null,
   "metadata": {},
   "outputs": [
    {
     "data": {
      "text/plain": [
       "dict_values([[1, 2, 3], [2, 3, 4], [3, 4, 5]])"
      ]
     },
     "execution_count": 72,
     "metadata": {},
     "output_type": "execute_result"
    }
   ],
   "source": [
    "my_dict.values()"
   ]
  },
  {
   "cell_type": "code",
   "execution_count": null,
   "metadata": {},
   "outputs": [
    {
     "data": {
      "text/plain": [
       "[2, 3, 4]"
      ]
     },
     "execution_count": 73,
     "metadata": {},
     "output_type": "execute_result"
    }
   ],
   "source": [
    "my_dict[key_name]"
   ]
  },
  {
   "cell_type": "code",
   "execution_count": null,
   "metadata": {},
   "outputs": [
    {
     "data": {
      "text/plain": [
       "{'Col1': array(['a', 'a', 'b', 'a', 'b', 'b', 'a', 'b', 'b', 'b', 'a', 'b', 'b',\n",
       "        'b', 'b', 'a', 'b', 'b', 'b', 'nan', 'a', 'a', 'b', 'a', 'b', 'b',\n",
       "        'nan', 'a', 'b', 'b', 'nan', 'a', 'b', 'nan', 'a', 'b', 'b', 'a',\n",
       "        'b', 'b', 'nan', 'b', 'a', 'a', 'b', 'nan', 'b', 'b', 'a', 'b',\n",
       "        'nan', 'a', 'nan', 'a', 'nan', 'b', 'nan', 'a', 'a', 'b'],\n",
       "       dtype='<U32'),\n",
       " 'Col2': array([51, 61, 81, 54, 17, 75, 62, 42,  6,  8, 43,  7, 57, 87, 40, 46, 33,\n",
       "        65, 34, 93, 70, 98, 83, 62, 23, 78, 91, 74, 36, 47, 40, 48, 77, 59,\n",
       "        50, 65, 63, 31, 55, 95, 94, 19, 62, 83, 53,  3, 32, 96, 90, 89, 39,\n",
       "        10, 42, 96, 28, 80, 87,  7, 58, 86])}"
      ]
     },
     "execution_count": 74,
     "metadata": {},
     "output_type": "execute_result"
    }
   ],
   "source": [
    "dict"
   ]
  },
  {
   "cell_type": "code",
   "execution_count": null,
   "metadata": {},
   "outputs": [
    {
     "name": "stdout",
     "output_type": "stream",
     "text": [
      "b\n",
      "<class 'numpy.str_'>\n",
      "81\n",
      "<class 'numpy.int32'>\n"
     ]
    }
   ],
   "source": [
    "for col,val in dict.items():# all values stays in col and all values remain in val\n",
    "    print(val[2]) # this gives values for Col1 and Col2 2nd element\n",
    "    print(type(val[2])) # shows separately \n",
    "    "
   ]
  },
  {
   "cell_type": "code",
   "execution_count": null,
   "metadata": {},
   "outputs": [
    {
     "data": {
      "text/plain": [
       "{'Col1': array(['a', 'b', 'nan', 'a', 'b'], dtype='<U32'),\n",
       " 'Col2': array([39, 13, 48, 68, 76])}"
      ]
     },
     "execution_count": 87,
     "metadata": {},
     "output_type": "execute_result"
    }
   ],
   "source": [
    "my_dict"
   ]
  },
  {
   "cell_type": "code",
   "execution_count": null,
   "metadata": {},
   "outputs": [
    {
     "data": {
      "text/plain": [
       "{'Col1': array(['a', 'a', 'b', 'a', 'b', 'b', 'a', 'b', 'b', 'b', 'a', 'b', 'b',\n",
       "        'b', 'b', 'a', 'b', 'b', 'b', 'nan', 'a', 'a', 'b', 'a', 'b', 'b',\n",
       "        'nan', 'a', 'b', 'b', 'nan', 'a', 'b', 'nan', 'a', 'b', 'b', 'a',\n",
       "        'b', 'b', 'nan', 'b', 'a', 'a', 'b', 'nan', 'b', 'b', 'a', 'b',\n",
       "        'nan', 'a', 'nan', 'a', 'nan', 'b', 'nan', 'a', 'a', 'b'],\n",
       "       dtype='<U32'),\n",
       " 'Col2': array([51, 61, 81, 54, 17, 75, 62, 42,  6,  8, 43,  7, 57, 87, 40, 46, 33,\n",
       "        65, 34, 93, 70, 98, 83, 62, 23, 78, 91, 74, 36, 47, 40, 48, 77, 59,\n",
       "        50, 65, 63, 31, 55, 95, 94, 19, 62, 83, 53,  3, 32, 96, 90, 89, 39,\n",
       "        10, 42, 96, 28, 80, 87,  7, 58, 86])}"
      ]
     },
     "execution_count": 116,
     "metadata": {},
     "output_type": "execute_result"
    }
   ],
   "source": [
    "dict # Here the allocation of nan to string data values is not the right approach "
   ]
  },
  {
   "cell_type": "code",
   "execution_count": null,
   "metadata": {},
   "outputs": [
    {
     "name": "stdout",
     "output_type": "stream",
     "text": [
      "{'key1': ['a', 'b', nan, 'a', 'b', nan, 'a', 'b', nan, 'a', 'b', nan, 'a', 'b', nan, 'a', 'b', nan, 'a', 'b', nan, 'a', 'b', nan, 'a', 'b', nan, 'a', 'b', nan, 'a', 'b', nan, 'a', 'b', nan, 'a', 'b', nan, 'a', 'b', nan, 'a', 'b', nan, 'a', 'b', nan, 'a', 'b', nan, 'a', 'b', nan], 'key2': array([0.19615734, 0.91052928, 0.60205909, 0.88099849, 0.35272271,\n",
      "       0.89136729, 0.39858927, 0.75322531, 0.38194119, 0.08658276,\n",
      "       0.15257104, 0.58993193, 0.48780965, 0.09487376, 0.52491868,\n",
      "       0.33394694, 0.18277336, 0.63216154, 0.50881591, 0.63807984])}\n"
     ]
    }
   ],
   "source": [
    "print(data)"
   ]
  },
  {
   "cell_type": "code",
   "execution_count": null,
   "metadata": {},
   "outputs": [
    {
     "data": {
      "text/plain": [
       "dict"
      ]
     },
     "execution_count": 125,
     "metadata": {},
     "output_type": "execute_result"
    }
   ],
   "source": [
    "type(data)"
   ]
  },
  {
   "cell_type": "code",
   "execution_count": null,
   "metadata": {},
   "outputs": [
    {
     "data": {
      "text/plain": [
       "dict_keys(['Col1', 'Col2'])"
      ]
     },
     "execution_count": 126,
     "metadata": {},
     "output_type": "execute_result"
    }
   ],
   "source": [
    "dict.keys()"
   ]
  },
  {
   "cell_type": "code",
   "execution_count": null,
   "metadata": {},
   "outputs": [
    {
     "ename": "TypeError",
     "evalue": "ufunc 'isnan' not supported for the input types, and the inputs could not be safely coerced to any supported types according to the casting rule ''safe''",
     "output_type": "error",
     "traceback": [
      "\u001b[1;31m---------------------------------------------------------------------------\u001b[0m",
      "\u001b[1;31mTypeError\u001b[0m                                 Traceback (most recent call last)",
      "Cell \u001b[1;32mIn[127], line 2\u001b[0m\n\u001b[0;32m      1\u001b[0m \u001b[38;5;66;03m# Convert the missing values in key1 to boolean values using np.isnan():\u001b[39;00m\n\u001b[1;32m----> 2\u001b[0m is_missing \u001b[38;5;241m=\u001b[39m \u001b[43mnp\u001b[49m\u001b[38;5;241;43m.\u001b[39;49m\u001b[43misnan\u001b[49m\u001b[43m(\u001b[49m\u001b[43mdata\u001b[49m\u001b[43m[\u001b[49m\u001b[38;5;124;43m'\u001b[39;49m\u001b[38;5;124;43mkey1\u001b[39;49m\u001b[38;5;124;43m'\u001b[39;49m\u001b[43m]\u001b[49m\u001b[43m)\u001b[49m\n",
      "\u001b[1;31mTypeError\u001b[0m: ufunc 'isnan' not supported for the input types, and the inputs could not be safely coerced to any supported types according to the casting rule ''safe''"
     ]
    }
   ],
   "source": [
    "# Convert the missing values in key1 to boolean values using np.isnan():\n",
    "is_missing = np.isnan(data['key1'])"
   ]
  },
  {
   "cell_type": "code",
   "execution_count": null,
   "metadata": {},
   "outputs": [],
   "source": [
    "# None are used for string\n",
    "\n",
    "dict= {\n",
    "    \"Col1\": np.array(random.sample([\"a\",\"b\",None], counts=[20,30,10], k=60)),\n",
    "    \"Col2\": np.random.randint(1,100,60)\n",
    "}"
   ]
  },
  {
   "cell_type": "code",
   "execution_count": null,
   "metadata": {},
   "outputs": [
    {
     "data": {
      "text/plain": [
       "{'Col1': array(['b', 'a', 'b', 'b', 'a', 'a', 'a', 'b', 'a', 'b', 'b', 'a', 'b',\n",
       "        'a', None, None, 'b', 'a', 'a', None, None, None, None, 'a', 'a',\n",
       "        'a', 'a', 'b', None, 'b', 'a', 'b', 'a', 'b', 'b', 'a', 'b', 'b',\n",
       "        None, 'b', 'b', 'b', 'b', 'b', None, 'a', 'b', 'b', None, 'b', 'b',\n",
       "        'b', 'b', 'a', 'b', 'a', 'a', 'b', 'b', 'b'], dtype=object),\n",
       " 'Col2': array([25, 88, 93, 63, 34, 51, 42, 62,  5, 76, 25, 24, 99, 34, 48, 85, 36,\n",
       "        13,  9, 92, 71, 55, 19, 80, 94, 32, 84, 29, 81, 68, 28, 44, 84, 49,\n",
       "        72, 97,  1,  7, 44, 64, 26, 42, 44, 42, 15, 54, 71, 22, 46,  6, 46,\n",
       "        68, 47, 56, 75, 40, 87,  7, 47, 28])}"
      ]
     },
     "execution_count": 130,
     "metadata": {},
     "output_type": "execute_result"
    }
   ],
   "source": [
    "dict"
   ]
  },
  {
   "cell_type": "code",
   "execution_count": null,
   "metadata": {},
   "outputs": [
    {
     "name": "stdout",
     "output_type": "stream",
     "text": [
      "88\n",
      "34\n",
      "51\n",
      "42\n",
      "5\n",
      "24\n",
      "34\n",
      "48\n",
      "85\n",
      "13\n",
      "9\n",
      "92\n",
      "71\n",
      "55\n",
      "19\n",
      "80\n",
      "94\n",
      "32\n",
      "84\n",
      "81\n",
      "28\n",
      "84\n",
      "97\n",
      "44\n",
      "15\n",
      "54\n",
      "46\n",
      "56\n",
      "40\n",
      "87\n"
     ]
    }
   ],
   "source": [
    "# for dict find the obs in Col2 which are multiple of 4 with values in col1 either missing or a\n",
    "for val1, val2 in zip(dict['Col1'],dict['Col2']):\n",
    "    if val1 in ['a',None]:\n",
    "        print(val2)"
   ]
  },
  {
   "cell_type": "code",
   "execution_count": null,
   "metadata": {},
   "outputs": [
    {
     "name": "stdout",
     "output_type": "stream",
     "text": [
      "8\n",
      "80\n",
      "56\n"
     ]
    }
   ],
   "source": [
    "# Iterate through the values in Col1 and Col2 simultaneously\n",
    "for val1, val2 in zip(my_dict[\"Col1\"], my_dict[\"Col2\"]):\n",
    "    # Check if the value in Col2 is a multiple of 4 and the value in Col1 is either missing or 'a'\n",
    "    if val2 % 4 == 0 and (val1 is None or val1 == 'a'):\n",
    "        print(val2)"
   ]
  },
  {
   "cell_type": "code",
   "execution_count": null,
   "metadata": {},
   "outputs": [
    {
     "name": "stderr",
     "output_type": "stream",
     "text": [
      "<>:1: SyntaxWarning: invalid escape sequence '\\E'\n",
      "<>:1: SyntaxWarning: invalid escape sequence '\\E'\n",
      "C:\\Users\\Ransingh\\AppData\\Local\\Temp\\ipykernel_32604\\3988117044.py:1: SyntaxWarning: invalid escape sequence '\\E'\n",
      "  dataset = pd.read_csv(\"D:\\END_TO_END_PYTHON_PROJECT_YOUTUBE_SUPER_IMPORTANT\\Python_End_To_End_Projects\\Real Python\\stud.csv\")\n"
     ]
    }
   ],
   "source": [
    "dataset = pd.read_csv(\"D:\\END_TO_END_PYTHON_PROJECT_YOUTUBE_SUPER_IMPORTANT\\Python_End_To_End_Projects\\Real Python\\stud.csv\")"
   ]
  },
  {
   "cell_type": "code",
   "execution_count": null,
   "metadata": {},
   "outputs": [
    {
     "data": {
      "text/html": [
       "<div>\n",
       "<style scoped>\n",
       "    .dataframe tbody tr th:only-of-type {\n",
       "        vertical-align: middle;\n",
       "    }\n",
       "\n",
       "    .dataframe tbody tr th {\n",
       "        vertical-align: top;\n",
       "    }\n",
       "\n",
       "    .dataframe thead th {\n",
       "        text-align: right;\n",
       "    }\n",
       "</style>\n",
       "<table border=\"1\" class=\"dataframe\">\n",
       "  <thead>\n",
       "    <tr style=\"text-align: right;\">\n",
       "      <th></th>\n",
       "      <th>gender</th>\n",
       "      <th>race_ethnicity</th>\n",
       "      <th>parental_level_of_education</th>\n",
       "      <th>lunch</th>\n",
       "      <th>test_preparation_course</th>\n",
       "      <th>math_score</th>\n",
       "      <th>reading_score</th>\n",
       "      <th>writing_score</th>\n",
       "    </tr>\n",
       "  </thead>\n",
       "  <tbody>\n",
       "    <tr>\n",
       "      <th>0</th>\n",
       "      <td>female</td>\n",
       "      <td>group B</td>\n",
       "      <td>bachelor's degree</td>\n",
       "      <td>standard</td>\n",
       "      <td>none</td>\n",
       "      <td>72</td>\n",
       "      <td>72</td>\n",
       "      <td>74</td>\n",
       "    </tr>\n",
       "    <tr>\n",
       "      <th>1</th>\n",
       "      <td>female</td>\n",
       "      <td>group C</td>\n",
       "      <td>some college</td>\n",
       "      <td>standard</td>\n",
       "      <td>completed</td>\n",
       "      <td>69</td>\n",
       "      <td>90</td>\n",
       "      <td>88</td>\n",
       "    </tr>\n",
       "    <tr>\n",
       "      <th>2</th>\n",
       "      <td>female</td>\n",
       "      <td>group B</td>\n",
       "      <td>master's degree</td>\n",
       "      <td>standard</td>\n",
       "      <td>none</td>\n",
       "      <td>90</td>\n",
       "      <td>95</td>\n",
       "      <td>93</td>\n",
       "    </tr>\n",
       "    <tr>\n",
       "      <th>3</th>\n",
       "      <td>male</td>\n",
       "      <td>group A</td>\n",
       "      <td>associate's degree</td>\n",
       "      <td>free/reduced</td>\n",
       "      <td>none</td>\n",
       "      <td>47</td>\n",
       "      <td>57</td>\n",
       "      <td>44</td>\n",
       "    </tr>\n",
       "    <tr>\n",
       "      <th>4</th>\n",
       "      <td>male</td>\n",
       "      <td>group C</td>\n",
       "      <td>some college</td>\n",
       "      <td>standard</td>\n",
       "      <td>none</td>\n",
       "      <td>76</td>\n",
       "      <td>78</td>\n",
       "      <td>75</td>\n",
       "    </tr>\n",
       "    <tr>\n",
       "      <th>...</th>\n",
       "      <td>...</td>\n",
       "      <td>...</td>\n",
       "      <td>...</td>\n",
       "      <td>...</td>\n",
       "      <td>...</td>\n",
       "      <td>...</td>\n",
       "      <td>...</td>\n",
       "      <td>...</td>\n",
       "    </tr>\n",
       "    <tr>\n",
       "      <th>995</th>\n",
       "      <td>female</td>\n",
       "      <td>group E</td>\n",
       "      <td>master's degree</td>\n",
       "      <td>standard</td>\n",
       "      <td>completed</td>\n",
       "      <td>88</td>\n",
       "      <td>99</td>\n",
       "      <td>95</td>\n",
       "    </tr>\n",
       "    <tr>\n",
       "      <th>996</th>\n",
       "      <td>male</td>\n",
       "      <td>group C</td>\n",
       "      <td>high school</td>\n",
       "      <td>free/reduced</td>\n",
       "      <td>none</td>\n",
       "      <td>62</td>\n",
       "      <td>55</td>\n",
       "      <td>55</td>\n",
       "    </tr>\n",
       "    <tr>\n",
       "      <th>997</th>\n",
       "      <td>female</td>\n",
       "      <td>group C</td>\n",
       "      <td>high school</td>\n",
       "      <td>free/reduced</td>\n",
       "      <td>completed</td>\n",
       "      <td>59</td>\n",
       "      <td>71</td>\n",
       "      <td>65</td>\n",
       "    </tr>\n",
       "    <tr>\n",
       "      <th>998</th>\n",
       "      <td>female</td>\n",
       "      <td>group D</td>\n",
       "      <td>some college</td>\n",
       "      <td>standard</td>\n",
       "      <td>completed</td>\n",
       "      <td>68</td>\n",
       "      <td>78</td>\n",
       "      <td>77</td>\n",
       "    </tr>\n",
       "    <tr>\n",
       "      <th>999</th>\n",
       "      <td>female</td>\n",
       "      <td>group D</td>\n",
       "      <td>some college</td>\n",
       "      <td>free/reduced</td>\n",
       "      <td>none</td>\n",
       "      <td>77</td>\n",
       "      <td>86</td>\n",
       "      <td>86</td>\n",
       "    </tr>\n",
       "  </tbody>\n",
       "</table>\n",
       "<p>1000 rows × 8 columns</p>\n",
       "</div>"
      ],
      "text/plain": [
       "     gender race_ethnicity parental_level_of_education         lunch  \\\n",
       "0    female        group B           bachelor's degree      standard   \n",
       "1    female        group C                some college      standard   \n",
       "2    female        group B             master's degree      standard   \n",
       "3      male        group A          associate's degree  free/reduced   \n",
       "4      male        group C                some college      standard   \n",
       "..      ...            ...                         ...           ...   \n",
       "995  female        group E             master's degree      standard   \n",
       "996    male        group C                 high school  free/reduced   \n",
       "997  female        group C                 high school  free/reduced   \n",
       "998  female        group D                some college      standard   \n",
       "999  female        group D                some college  free/reduced   \n",
       "\n",
       "    test_preparation_course  math_score  reading_score  writing_score  \n",
       "0                      none          72             72             74  \n",
       "1                 completed          69             90             88  \n",
       "2                      none          90             95             93  \n",
       "3                      none          47             57             44  \n",
       "4                      none          76             78             75  \n",
       "..                      ...         ...            ...            ...  \n",
       "995               completed          88             99             95  \n",
       "996                    none          62             55             55  \n",
       "997               completed          59             71             65  \n",
       "998               completed          68             78             77  \n",
       "999                    none          77             86             86  \n",
       "\n",
       "[1000 rows x 8 columns]"
      ]
     },
     "execution_count": 136,
     "metadata": {},
     "output_type": "execute_result"
    }
   ],
   "source": [
    "dataset"
   ]
  },
  {
   "cell_type": "code",
   "execution_count": null,
   "metadata": {},
   "outputs": [
    {
     "data": {
      "text/plain": [
       "{'Col1': array(['b', 'a', 'b', 'b', 'a', 'a', 'a', 'b', 'a', 'b', 'b', 'a', 'b',\n",
       "        'a', None, None, 'b', 'a', 'a', None, None, None, None, 'a', 'a',\n",
       "        'a', 'a', 'b', None, 'b', 'a', 'b', 'a', 'b', 'b', 'a', 'b', 'b',\n",
       "        None, 'b', 'b', 'b', 'b', 'b', None, 'a', 'b', 'b', None, 'b', 'b',\n",
       "        'b', 'b', 'a', 'b', 'a', 'a', 'b', 'b', 'b'], dtype=object),\n",
       " 'Col2': array([25, 88, 93, 63, 34, 51, 42, 62,  5, 76, 25, 24, 99, 34, 48, 85, 36,\n",
       "        13,  9, 92, 71, 55, 19, 80, 94, 32, 84, 29, 81, 68, 28, 44, 84, 49,\n",
       "        72, 97,  1,  7, 44, 64, 26, 42, 44, 42, 15, 54, 71, 22, 46,  6, 46,\n",
       "        68, 47, 56, 75, 40, 87,  7, 47, 28])}"
      ]
     },
     "execution_count": 137,
     "metadata": {},
     "output_type": "execute_result"
    }
   ],
   "source": [
    "dict"
   ]
  },
  {
   "cell_type": "code",
   "execution_count": null,
   "metadata": {},
   "outputs": [],
   "source": [
    "for i in range(1,len(dict['Col1'])):\n",
    "    print(i)"
   ]
  },
  {
   "cell_type": "code",
   "execution_count": null,
   "metadata": {},
   "outputs": [
    {
     "data": {
      "text/html": [
       "<div>\n",
       "<style scoped>\n",
       "    .dataframe tbody tr th:only-of-type {\n",
       "        vertical-align: middle;\n",
       "    }\n",
       "\n",
       "    .dataframe tbody tr th {\n",
       "        vertical-align: top;\n",
       "    }\n",
       "\n",
       "    .dataframe thead th {\n",
       "        text-align: right;\n",
       "    }\n",
       "</style>\n",
       "<table border=\"1\" class=\"dataframe\">\n",
       "  <thead>\n",
       "    <tr style=\"text-align: right;\">\n",
       "      <th></th>\n",
       "      <th>gender</th>\n",
       "      <th>race_ethnicity</th>\n",
       "      <th>parental_level_of_education</th>\n",
       "      <th>lunch</th>\n",
       "      <th>test_preparation_course</th>\n",
       "      <th>math_score</th>\n",
       "      <th>reading_score</th>\n",
       "      <th>writing_score</th>\n",
       "    </tr>\n",
       "  </thead>\n",
       "  <tbody>\n",
       "    <tr>\n",
       "      <th>0</th>\n",
       "      <td>female</td>\n",
       "      <td>group B</td>\n",
       "      <td>bachelor's degree</td>\n",
       "      <td>standard</td>\n",
       "      <td>none</td>\n",
       "      <td>72</td>\n",
       "      <td>72</td>\n",
       "      <td>74</td>\n",
       "    </tr>\n",
       "    <tr>\n",
       "      <th>1</th>\n",
       "      <td>female</td>\n",
       "      <td>group C</td>\n",
       "      <td>some college</td>\n",
       "      <td>standard</td>\n",
       "      <td>completed</td>\n",
       "      <td>69</td>\n",
       "      <td>90</td>\n",
       "      <td>88</td>\n",
       "    </tr>\n",
       "    <tr>\n",
       "      <th>2</th>\n",
       "      <td>female</td>\n",
       "      <td>group B</td>\n",
       "      <td>master's degree</td>\n",
       "      <td>standard</td>\n",
       "      <td>none</td>\n",
       "      <td>90</td>\n",
       "      <td>95</td>\n",
       "      <td>93</td>\n",
       "    </tr>\n",
       "    <tr>\n",
       "      <th>3</th>\n",
       "      <td>male</td>\n",
       "      <td>group A</td>\n",
       "      <td>associate's degree</td>\n",
       "      <td>free/reduced</td>\n",
       "      <td>none</td>\n",
       "      <td>47</td>\n",
       "      <td>57</td>\n",
       "      <td>44</td>\n",
       "    </tr>\n",
       "    <tr>\n",
       "      <th>4</th>\n",
       "      <td>male</td>\n",
       "      <td>group C</td>\n",
       "      <td>some college</td>\n",
       "      <td>standard</td>\n",
       "      <td>none</td>\n",
       "      <td>76</td>\n",
       "      <td>78</td>\n",
       "      <td>75</td>\n",
       "    </tr>\n",
       "    <tr>\n",
       "      <th>...</th>\n",
       "      <td>...</td>\n",
       "      <td>...</td>\n",
       "      <td>...</td>\n",
       "      <td>...</td>\n",
       "      <td>...</td>\n",
       "      <td>...</td>\n",
       "      <td>...</td>\n",
       "      <td>...</td>\n",
       "    </tr>\n",
       "    <tr>\n",
       "      <th>995</th>\n",
       "      <td>female</td>\n",
       "      <td>group E</td>\n",
       "      <td>master's degree</td>\n",
       "      <td>standard</td>\n",
       "      <td>completed</td>\n",
       "      <td>88</td>\n",
       "      <td>99</td>\n",
       "      <td>95</td>\n",
       "    </tr>\n",
       "    <tr>\n",
       "      <th>996</th>\n",
       "      <td>male</td>\n",
       "      <td>group C</td>\n",
       "      <td>high school</td>\n",
       "      <td>free/reduced</td>\n",
       "      <td>none</td>\n",
       "      <td>62</td>\n",
       "      <td>55</td>\n",
       "      <td>55</td>\n",
       "    </tr>\n",
       "    <tr>\n",
       "      <th>997</th>\n",
       "      <td>female</td>\n",
       "      <td>group C</td>\n",
       "      <td>high school</td>\n",
       "      <td>free/reduced</td>\n",
       "      <td>completed</td>\n",
       "      <td>59</td>\n",
       "      <td>71</td>\n",
       "      <td>65</td>\n",
       "    </tr>\n",
       "    <tr>\n",
       "      <th>998</th>\n",
       "      <td>female</td>\n",
       "      <td>group D</td>\n",
       "      <td>some college</td>\n",
       "      <td>standard</td>\n",
       "      <td>completed</td>\n",
       "      <td>68</td>\n",
       "      <td>78</td>\n",
       "      <td>77</td>\n",
       "    </tr>\n",
       "    <tr>\n",
       "      <th>999</th>\n",
       "      <td>female</td>\n",
       "      <td>group D</td>\n",
       "      <td>some college</td>\n",
       "      <td>free/reduced</td>\n",
       "      <td>none</td>\n",
       "      <td>77</td>\n",
       "      <td>86</td>\n",
       "      <td>86</td>\n",
       "    </tr>\n",
       "  </tbody>\n",
       "</table>\n",
       "<p>1000 rows × 8 columns</p>\n",
       "</div>"
      ],
      "text/plain": [
       "     gender race_ethnicity parental_level_of_education         lunch  \\\n",
       "0    female        group B           bachelor's degree      standard   \n",
       "1    female        group C                some college      standard   \n",
       "2    female        group B             master's degree      standard   \n",
       "3      male        group A          associate's degree  free/reduced   \n",
       "4      male        group C                some college      standard   \n",
       "..      ...            ...                         ...           ...   \n",
       "995  female        group E             master's degree      standard   \n",
       "996    male        group C                 high school  free/reduced   \n",
       "997  female        group C                 high school  free/reduced   \n",
       "998  female        group D                some college      standard   \n",
       "999  female        group D                some college  free/reduced   \n",
       "\n",
       "    test_preparation_course  math_score  reading_score  writing_score  \n",
       "0                      none          72             72             74  \n",
       "1                 completed          69             90             88  \n",
       "2                      none          90             95             93  \n",
       "3                      none          47             57             44  \n",
       "4                      none          76             78             75  \n",
       "..                      ...         ...            ...            ...  \n",
       "995               completed          88             99             95  \n",
       "996                    none          62             55             55  \n",
       "997               completed          59             71             65  \n",
       "998               completed          68             78             77  \n",
       "999                    none          77             86             86  \n",
       "\n",
       "[1000 rows x 8 columns]"
      ]
     },
     "execution_count": 141,
     "metadata": {},
     "output_type": "execute_result"
    }
   ],
   "source": [
    "dataset"
   ]
  },
  {
   "cell_type": "code",
   "execution_count": null,
   "metadata": {},
   "outputs": [
    {
     "name": "stdout",
     "output_type": "stream",
     "text": [
      "gender\n",
      "race_ethnicity\n",
      "parental_level_of_education\n",
      "lunch\n",
      "test_preparation_course\n",
      "math_score\n",
      "reading_score\n",
      "writing_score\n"
     ]
    }
   ],
   "source": [
    "for i in dataset.columns:\n",
    "    print(i)"
   ]
  },
  {
   "cell_type": "code",
   "execution_count": null,
   "metadata": {},
   "outputs": [],
   "source": [
    "# filtering rows using for loop\n",
    "filtered_row = list() \n",
    "for rw_indx, row in dataset.iterrows(): # here row contains information on column name also, as list element index\n",
    "    if row['gender']=='male':\n",
    "        filtered_row.append(row)\n",
    "        \n",
    "result_df = pd.DataFrame(filtered_row) # it automatically assigns column names       \n",
    "        "
   ]
  },
  {
   "cell_type": "code",
   "execution_count": null,
   "metadata": {},
   "outputs": [
    {
     "data": {
      "text/html": [
       "<div>\n",
       "<style scoped>\n",
       "    .dataframe tbody tr th:only-of-type {\n",
       "        vertical-align: middle;\n",
       "    }\n",
       "\n",
       "    .dataframe tbody tr th {\n",
       "        vertical-align: top;\n",
       "    }\n",
       "\n",
       "    .dataframe thead th {\n",
       "        text-align: right;\n",
       "    }\n",
       "</style>\n",
       "<table border=\"1\" class=\"dataframe\">\n",
       "  <thead>\n",
       "    <tr style=\"text-align: right;\">\n",
       "      <th></th>\n",
       "      <th>gender</th>\n",
       "      <th>race_ethnicity</th>\n",
       "      <th>parental_level_of_education</th>\n",
       "      <th>lunch</th>\n",
       "      <th>test_preparation_course</th>\n",
       "      <th>math_score</th>\n",
       "      <th>reading_score</th>\n",
       "      <th>writing_score</th>\n",
       "    </tr>\n",
       "  </thead>\n",
       "  <tbody>\n",
       "    <tr>\n",
       "      <th>3</th>\n",
       "      <td>male</td>\n",
       "      <td>group A</td>\n",
       "      <td>associate's degree</td>\n",
       "      <td>free/reduced</td>\n",
       "      <td>none</td>\n",
       "      <td>47</td>\n",
       "      <td>57</td>\n",
       "      <td>44</td>\n",
       "    </tr>\n",
       "    <tr>\n",
       "      <th>4</th>\n",
       "      <td>male</td>\n",
       "      <td>group C</td>\n",
       "      <td>some college</td>\n",
       "      <td>standard</td>\n",
       "      <td>none</td>\n",
       "      <td>76</td>\n",
       "      <td>78</td>\n",
       "      <td>75</td>\n",
       "    </tr>\n",
       "    <tr>\n",
       "      <th>7</th>\n",
       "      <td>male</td>\n",
       "      <td>group B</td>\n",
       "      <td>some college</td>\n",
       "      <td>free/reduced</td>\n",
       "      <td>none</td>\n",
       "      <td>40</td>\n",
       "      <td>43</td>\n",
       "      <td>39</td>\n",
       "    </tr>\n",
       "    <tr>\n",
       "      <th>8</th>\n",
       "      <td>male</td>\n",
       "      <td>group D</td>\n",
       "      <td>high school</td>\n",
       "      <td>free/reduced</td>\n",
       "      <td>completed</td>\n",
       "      <td>64</td>\n",
       "      <td>64</td>\n",
       "      <td>67</td>\n",
       "    </tr>\n",
       "    <tr>\n",
       "      <th>10</th>\n",
       "      <td>male</td>\n",
       "      <td>group C</td>\n",
       "      <td>associate's degree</td>\n",
       "      <td>standard</td>\n",
       "      <td>none</td>\n",
       "      <td>58</td>\n",
       "      <td>54</td>\n",
       "      <td>52</td>\n",
       "    </tr>\n",
       "    <tr>\n",
       "      <th>...</th>\n",
       "      <td>...</td>\n",
       "      <td>...</td>\n",
       "      <td>...</td>\n",
       "      <td>...</td>\n",
       "      <td>...</td>\n",
       "      <td>...</td>\n",
       "      <td>...</td>\n",
       "      <td>...</td>\n",
       "    </tr>\n",
       "    <tr>\n",
       "      <th>985</th>\n",
       "      <td>male</td>\n",
       "      <td>group A</td>\n",
       "      <td>high school</td>\n",
       "      <td>standard</td>\n",
       "      <td>none</td>\n",
       "      <td>57</td>\n",
       "      <td>51</td>\n",
       "      <td>54</td>\n",
       "    </tr>\n",
       "    <tr>\n",
       "      <th>987</th>\n",
       "      <td>male</td>\n",
       "      <td>group E</td>\n",
       "      <td>some high school</td>\n",
       "      <td>standard</td>\n",
       "      <td>completed</td>\n",
       "      <td>81</td>\n",
       "      <td>75</td>\n",
       "      <td>76</td>\n",
       "    </tr>\n",
       "    <tr>\n",
       "      <th>990</th>\n",
       "      <td>male</td>\n",
       "      <td>group E</td>\n",
       "      <td>high school</td>\n",
       "      <td>free/reduced</td>\n",
       "      <td>completed</td>\n",
       "      <td>86</td>\n",
       "      <td>81</td>\n",
       "      <td>75</td>\n",
       "    </tr>\n",
       "    <tr>\n",
       "      <th>994</th>\n",
       "      <td>male</td>\n",
       "      <td>group A</td>\n",
       "      <td>high school</td>\n",
       "      <td>standard</td>\n",
       "      <td>none</td>\n",
       "      <td>63</td>\n",
       "      <td>63</td>\n",
       "      <td>62</td>\n",
       "    </tr>\n",
       "    <tr>\n",
       "      <th>996</th>\n",
       "      <td>male</td>\n",
       "      <td>group C</td>\n",
       "      <td>high school</td>\n",
       "      <td>free/reduced</td>\n",
       "      <td>none</td>\n",
       "      <td>62</td>\n",
       "      <td>55</td>\n",
       "      <td>55</td>\n",
       "    </tr>\n",
       "  </tbody>\n",
       "</table>\n",
       "<p>482 rows × 8 columns</p>\n",
       "</div>"
      ],
      "text/plain": [
       "    gender race_ethnicity parental_level_of_education         lunch  \\\n",
       "3     male        group A          associate's degree  free/reduced   \n",
       "4     male        group C                some college      standard   \n",
       "7     male        group B                some college  free/reduced   \n",
       "8     male        group D                 high school  free/reduced   \n",
       "10    male        group C          associate's degree      standard   \n",
       "..     ...            ...                         ...           ...   \n",
       "985   male        group A                 high school      standard   \n",
       "987   male        group E            some high school      standard   \n",
       "990   male        group E                 high school  free/reduced   \n",
       "994   male        group A                 high school      standard   \n",
       "996   male        group C                 high school  free/reduced   \n",
       "\n",
       "    test_preparation_course  math_score  reading_score  writing_score  \n",
       "3                      none          47             57             44  \n",
       "4                      none          76             78             75  \n",
       "7                      none          40             43             39  \n",
       "8                 completed          64             64             67  \n",
       "10                     none          58             54             52  \n",
       "..                      ...         ...            ...            ...  \n",
       "985                    none          57             51             54  \n",
       "987               completed          81             75             76  \n",
       "990               completed          86             81             75  \n",
       "994                    none          63             63             62  \n",
       "996                    none          62             55             55  \n",
       "\n",
       "[482 rows x 8 columns]"
      ]
     },
     "execution_count": 145,
     "metadata": {},
     "output_type": "execute_result"
    }
   ],
   "source": [
    "result_df"
   ]
  },
  {
   "cell_type": "code",
   "execution_count": null,
   "metadata": {},
   "outputs": [
    {
     "data": {
      "text/html": [
       "<div>\n",
       "<style scoped>\n",
       "    .dataframe tbody tr th:only-of-type {\n",
       "        vertical-align: middle;\n",
       "    }\n",
       "\n",
       "    .dataframe tbody tr th {\n",
       "        vertical-align: top;\n",
       "    }\n",
       "\n",
       "    .dataframe thead th {\n",
       "        text-align: right;\n",
       "    }\n",
       "</style>\n",
       "<table border=\"1\" class=\"dataframe\">\n",
       "  <thead>\n",
       "    <tr style=\"text-align: right;\">\n",
       "      <th></th>\n",
       "      <th>gender</th>\n",
       "      <th>race_ethnicity</th>\n",
       "      <th>parental_level_of_education</th>\n",
       "      <th>lunch</th>\n",
       "      <th>test_preparation_course</th>\n",
       "      <th>math_score</th>\n",
       "      <th>reading_score</th>\n",
       "      <th>writing_score</th>\n",
       "    </tr>\n",
       "  </thead>\n",
       "  <tbody>\n",
       "    <tr>\n",
       "      <th>0</th>\n",
       "      <td>female</td>\n",
       "      <td>group B</td>\n",
       "      <td>bachelor's degree</td>\n",
       "      <td>standard</td>\n",
       "      <td>none</td>\n",
       "      <td>72</td>\n",
       "      <td>72</td>\n",
       "      <td>74</td>\n",
       "    </tr>\n",
       "    <tr>\n",
       "      <th>2</th>\n",
       "      <td>female</td>\n",
       "      <td>group B</td>\n",
       "      <td>master's degree</td>\n",
       "      <td>standard</td>\n",
       "      <td>none</td>\n",
       "      <td>90</td>\n",
       "      <td>95</td>\n",
       "      <td>93</td>\n",
       "    </tr>\n",
       "    <tr>\n",
       "      <th>6</th>\n",
       "      <td>female</td>\n",
       "      <td>group B</td>\n",
       "      <td>some college</td>\n",
       "      <td>standard</td>\n",
       "      <td>completed</td>\n",
       "      <td>88</td>\n",
       "      <td>95</td>\n",
       "      <td>92</td>\n",
       "    </tr>\n",
       "    <tr>\n",
       "      <th>12</th>\n",
       "      <td>female</td>\n",
       "      <td>group B</td>\n",
       "      <td>high school</td>\n",
       "      <td>standard</td>\n",
       "      <td>none</td>\n",
       "      <td>65</td>\n",
       "      <td>81</td>\n",
       "      <td>73</td>\n",
       "    </tr>\n",
       "    <tr>\n",
       "      <th>14</th>\n",
       "      <td>female</td>\n",
       "      <td>group A</td>\n",
       "      <td>master's degree</td>\n",
       "      <td>standard</td>\n",
       "      <td>none</td>\n",
       "      <td>50</td>\n",
       "      <td>53</td>\n",
       "      <td>58</td>\n",
       "    </tr>\n",
       "    <tr>\n",
       "      <th>...</th>\n",
       "      <td>...</td>\n",
       "      <td>...</td>\n",
       "      <td>...</td>\n",
       "      <td>...</td>\n",
       "      <td>...</td>\n",
       "      <td>...</td>\n",
       "      <td>...</td>\n",
       "      <td>...</td>\n",
       "    </tr>\n",
       "    <tr>\n",
       "      <th>976</th>\n",
       "      <td>male</td>\n",
       "      <td>group B</td>\n",
       "      <td>some college</td>\n",
       "      <td>free/reduced</td>\n",
       "      <td>completed</td>\n",
       "      <td>60</td>\n",
       "      <td>62</td>\n",
       "      <td>60</td>\n",
       "    </tr>\n",
       "    <tr>\n",
       "      <th>980</th>\n",
       "      <td>female</td>\n",
       "      <td>group B</td>\n",
       "      <td>high school</td>\n",
       "      <td>free/reduced</td>\n",
       "      <td>none</td>\n",
       "      <td>8</td>\n",
       "      <td>24</td>\n",
       "      <td>23</td>\n",
       "    </tr>\n",
       "    <tr>\n",
       "      <th>982</th>\n",
       "      <td>male</td>\n",
       "      <td>group B</td>\n",
       "      <td>some high school</td>\n",
       "      <td>standard</td>\n",
       "      <td>completed</td>\n",
       "      <td>79</td>\n",
       "      <td>85</td>\n",
       "      <td>86</td>\n",
       "    </tr>\n",
       "    <tr>\n",
       "      <th>988</th>\n",
       "      <td>female</td>\n",
       "      <td>group A</td>\n",
       "      <td>some high school</td>\n",
       "      <td>free/reduced</td>\n",
       "      <td>none</td>\n",
       "      <td>44</td>\n",
       "      <td>45</td>\n",
       "      <td>45</td>\n",
       "    </tr>\n",
       "    <tr>\n",
       "      <th>994</th>\n",
       "      <td>male</td>\n",
       "      <td>group A</td>\n",
       "      <td>high school</td>\n",
       "      <td>standard</td>\n",
       "      <td>none</td>\n",
       "      <td>63</td>\n",
       "      <td>63</td>\n",
       "      <td>62</td>\n",
       "    </tr>\n",
       "  </tbody>\n",
       "</table>\n",
       "<p>152 rows × 8 columns</p>\n",
       "</div>"
      ],
      "text/plain": [
       "     gender race_ethnicity parental_level_of_education         lunch  \\\n",
       "0    female        group B           bachelor's degree      standard   \n",
       "2    female        group B             master's degree      standard   \n",
       "6    female        group B                some college      standard   \n",
       "12   female        group B                 high school      standard   \n",
       "14   female        group A             master's degree      standard   \n",
       "..      ...            ...                         ...           ...   \n",
       "976    male        group B                some college  free/reduced   \n",
       "980  female        group B                 high school  free/reduced   \n",
       "982    male        group B            some high school      standard   \n",
       "988  female        group A            some high school  free/reduced   \n",
       "994    male        group A                 high school      standard   \n",
       "\n",
       "    test_preparation_course  math_score  reading_score  writing_score  \n",
       "0                      none          72             72             74  \n",
       "2                      none          90             95             93  \n",
       "6                 completed          88             95             92  \n",
       "12                     none          65             81             73  \n",
       "14                     none          50             53             58  \n",
       "..                      ...         ...            ...            ...  \n",
       "976               completed          60             62             60  \n",
       "980                    none           8             24             23  \n",
       "982               completed          79             85             86  \n",
       "988                    none          44             45             45  \n",
       "994                    none          63             63             62  \n",
       "\n",
       "[152 rows x 8 columns]"
      ]
     },
     "execution_count": 157,
     "metadata": {},
     "output_type": "execute_result"
    }
   ],
   "source": [
    "# We usually use append to combine list output when we want row as output\n",
    "list_for_keeping_filtered_element = list()\n",
    "for row_index , row in dataset.iterrows():\n",
    "    if row_index%2 == 0 and row['race_ethnicity'] in ['group A', 'group B']:\n",
    "        list_for_keeping_filtered_element.append(row_index)\n",
    "        \n",
    "dataset.iloc[list_for_keeping_filtered_element,]\n",
    "        "
   ]
  },
  {
   "cell_type": "code",
   "execution_count": null,
   "metadata": {},
   "outputs": [
    {
     "data": {
      "text/plain": [
       "'race_ethnicity'"
      ]
     },
     "execution_count": 173,
     "metadata": {},
     "output_type": "execute_result"
    }
   ],
   "source": [
    "list(dataset.items())[1][0]"
   ]
  },
  {
   "cell_type": "code",
   "execution_count": null,
   "metadata": {},
   "outputs": [
    {
     "data": {
      "text/plain": [
       "<generator object DataFrame.iterrows at 0x00000224C20B3EF0>"
      ]
     },
     "execution_count": 186,
     "metadata": {},
     "output_type": "execute_result"
    }
   ],
   "source": [
    "dataset.iterrows()"
   ]
  },
  {
   "cell_type": "code",
   "execution_count": null,
   "metadata": {},
   "outputs": [
    {
     "name": "stdout",
     "output_type": "stream",
     "text": [
      "('race_ethnicity', 0      group B\n",
      "1      group C\n",
      "2      group B\n",
      "3      group A\n",
      "4      group C\n",
      "        ...   \n",
      "995    group E\n",
      "996    group C\n",
      "997    group C\n",
      "998    group D\n",
      "999    group D\n",
      "Name: race_ethnicity, Length: 1000, dtype: object)\n"
     ]
    }
   ],
   "source": [
    "print(list(dataset.items())[1])"
   ]
  },
  {
   "cell_type": "code",
   "execution_count": null,
   "metadata": {},
   "outputs": [],
   "source": [
    "# The best usage of dataframe.items is doing any string operation on the column names directly:\n",
    "for column_name, column_value in dataset.items(): \n",
    "    # we cannot use isinstance here as dataset.items() is a generator object\n",
    "    # and the yields an object combining column name and column value in pair and thus is of object type, so we cannot filter\n",
    "    # int and float type and if we select object then all variable are selected.\n",
    "    if pd.api.types.is_numeric_dtype(column_value):\n",
    "        dataset[column_name] = column_value * 10"
   ]
  },
  {
   "cell_type": "code",
   "execution_count": null,
   "metadata": {},
   "outputs": [
    {
     "data": {
      "text/html": [
       "<div>\n",
       "<style scoped>\n",
       "    .dataframe tbody tr th:only-of-type {\n",
       "        vertical-align: middle;\n",
       "    }\n",
       "\n",
       "    .dataframe tbody tr th {\n",
       "        vertical-align: top;\n",
       "    }\n",
       "\n",
       "    .dataframe thead th {\n",
       "        text-align: right;\n",
       "    }\n",
       "</style>\n",
       "<table border=\"1\" class=\"dataframe\">\n",
       "  <thead>\n",
       "    <tr style=\"text-align: right;\">\n",
       "      <th></th>\n",
       "      <th>gender</th>\n",
       "      <th>race_ethnicity</th>\n",
       "      <th>parental_level_of_education</th>\n",
       "      <th>lunch</th>\n",
       "      <th>test_preparation_course</th>\n",
       "      <th>math_score</th>\n",
       "      <th>reading_score</th>\n",
       "      <th>writing_score</th>\n",
       "    </tr>\n",
       "  </thead>\n",
       "  <tbody>\n",
       "    <tr>\n",
       "      <th>0</th>\n",
       "      <td>female</td>\n",
       "      <td>group B</td>\n",
       "      <td>bachelor's degree</td>\n",
       "      <td>standard</td>\n",
       "      <td>none</td>\n",
       "      <td>720</td>\n",
       "      <td>720</td>\n",
       "      <td>740</td>\n",
       "    </tr>\n",
       "    <tr>\n",
       "      <th>1</th>\n",
       "      <td>female</td>\n",
       "      <td>group C</td>\n",
       "      <td>some college</td>\n",
       "      <td>standard</td>\n",
       "      <td>completed</td>\n",
       "      <td>690</td>\n",
       "      <td>900</td>\n",
       "      <td>880</td>\n",
       "    </tr>\n",
       "    <tr>\n",
       "      <th>2</th>\n",
       "      <td>female</td>\n",
       "      <td>group B</td>\n",
       "      <td>master's degree</td>\n",
       "      <td>standard</td>\n",
       "      <td>none</td>\n",
       "      <td>900</td>\n",
       "      <td>950</td>\n",
       "      <td>930</td>\n",
       "    </tr>\n",
       "    <tr>\n",
       "      <th>3</th>\n",
       "      <td>male</td>\n",
       "      <td>group A</td>\n",
       "      <td>associate's degree</td>\n",
       "      <td>free/reduced</td>\n",
       "      <td>none</td>\n",
       "      <td>470</td>\n",
       "      <td>570</td>\n",
       "      <td>440</td>\n",
       "    </tr>\n",
       "    <tr>\n",
       "      <th>4</th>\n",
       "      <td>male</td>\n",
       "      <td>group C</td>\n",
       "      <td>some college</td>\n",
       "      <td>standard</td>\n",
       "      <td>none</td>\n",
       "      <td>760</td>\n",
       "      <td>780</td>\n",
       "      <td>750</td>\n",
       "    </tr>\n",
       "    <tr>\n",
       "      <th>...</th>\n",
       "      <td>...</td>\n",
       "      <td>...</td>\n",
       "      <td>...</td>\n",
       "      <td>...</td>\n",
       "      <td>...</td>\n",
       "      <td>...</td>\n",
       "      <td>...</td>\n",
       "      <td>...</td>\n",
       "    </tr>\n",
       "    <tr>\n",
       "      <th>995</th>\n",
       "      <td>female</td>\n",
       "      <td>group E</td>\n",
       "      <td>master's degree</td>\n",
       "      <td>standard</td>\n",
       "      <td>completed</td>\n",
       "      <td>880</td>\n",
       "      <td>990</td>\n",
       "      <td>950</td>\n",
       "    </tr>\n",
       "    <tr>\n",
       "      <th>996</th>\n",
       "      <td>male</td>\n",
       "      <td>group C</td>\n",
       "      <td>high school</td>\n",
       "      <td>free/reduced</td>\n",
       "      <td>none</td>\n",
       "      <td>620</td>\n",
       "      <td>550</td>\n",
       "      <td>550</td>\n",
       "    </tr>\n",
       "    <tr>\n",
       "      <th>997</th>\n",
       "      <td>female</td>\n",
       "      <td>group C</td>\n",
       "      <td>high school</td>\n",
       "      <td>free/reduced</td>\n",
       "      <td>completed</td>\n",
       "      <td>590</td>\n",
       "      <td>710</td>\n",
       "      <td>650</td>\n",
       "    </tr>\n",
       "    <tr>\n",
       "      <th>998</th>\n",
       "      <td>female</td>\n",
       "      <td>group D</td>\n",
       "      <td>some college</td>\n",
       "      <td>standard</td>\n",
       "      <td>completed</td>\n",
       "      <td>680</td>\n",
       "      <td>780</td>\n",
       "      <td>770</td>\n",
       "    </tr>\n",
       "    <tr>\n",
       "      <th>999</th>\n",
       "      <td>female</td>\n",
       "      <td>group D</td>\n",
       "      <td>some college</td>\n",
       "      <td>free/reduced</td>\n",
       "      <td>none</td>\n",
       "      <td>770</td>\n",
       "      <td>860</td>\n",
       "      <td>860</td>\n",
       "    </tr>\n",
       "  </tbody>\n",
       "</table>\n",
       "<p>1000 rows × 8 columns</p>\n",
       "</div>"
      ],
      "text/plain": [
       "     gender race_ethnicity parental_level_of_education         lunch  \\\n",
       "0    female        group B           bachelor's degree      standard   \n",
       "1    female        group C                some college      standard   \n",
       "2    female        group B             master's degree      standard   \n",
       "3      male        group A          associate's degree  free/reduced   \n",
       "4      male        group C                some college      standard   \n",
       "..      ...            ...                         ...           ...   \n",
       "995  female        group E             master's degree      standard   \n",
       "996    male        group C                 high school  free/reduced   \n",
       "997  female        group C                 high school  free/reduced   \n",
       "998  female        group D                some college      standard   \n",
       "999  female        group D                some college  free/reduced   \n",
       "\n",
       "    test_preparation_course  math_score  reading_score  writing_score  \n",
       "0                      none         720            720            740  \n",
       "1                 completed         690            900            880  \n",
       "2                      none         900            950            930  \n",
       "3                      none         470            570            440  \n",
       "4                      none         760            780            750  \n",
       "..                      ...         ...            ...            ...  \n",
       "995               completed         880            990            950  \n",
       "996                    none         620            550            550  \n",
       "997               completed         590            710            650  \n",
       "998               completed         680            780            770  \n",
       "999                    none         770            860            860  \n",
       "\n",
       "[1000 rows x 8 columns]"
      ]
     },
     "execution_count": 176,
     "metadata": {},
     "output_type": "execute_result"
    }
   ],
   "source": [
    "dataset"
   ]
  },
  {
   "cell_type": "code",
   "execution_count": null,
   "metadata": {},
   "outputs": [
    {
     "data": {
      "text/html": [
       "<div>\n",
       "<style scoped>\n",
       "    .dataframe tbody tr th:only-of-type {\n",
       "        vertical-align: middle;\n",
       "    }\n",
       "\n",
       "    .dataframe tbody tr th {\n",
       "        vertical-align: top;\n",
       "    }\n",
       "\n",
       "    .dataframe thead th {\n",
       "        text-align: right;\n",
       "    }\n",
       "</style>\n",
       "<table border=\"1\" class=\"dataframe\">\n",
       "  <thead>\n",
       "    <tr style=\"text-align: right;\">\n",
       "      <th></th>\n",
       "      <th>gender</th>\n",
       "      <th>race_ethnicity</th>\n",
       "      <th>parental_level_of_education</th>\n",
       "      <th>lunch</th>\n",
       "      <th>test_preparation_course</th>\n",
       "      <th>math_score</th>\n",
       "      <th>reading_score</th>\n",
       "      <th>writing_score</th>\n",
       "    </tr>\n",
       "  </thead>\n",
       "  <tbody>\n",
       "    <tr>\n",
       "      <th>0</th>\n",
       "      <td>female</td>\n",
       "      <td>group B</td>\n",
       "      <td>bachelor's degree</td>\n",
       "      <td>standard</td>\n",
       "      <td>none</td>\n",
       "      <td>7200</td>\n",
       "      <td>7200</td>\n",
       "      <td>7400</td>\n",
       "    </tr>\n",
       "    <tr>\n",
       "      <th>1</th>\n",
       "      <td>female</td>\n",
       "      <td>group C</td>\n",
       "      <td>some college</td>\n",
       "      <td>standard</td>\n",
       "      <td>completed</td>\n",
       "      <td>6900</td>\n",
       "      <td>9000</td>\n",
       "      <td>8800</td>\n",
       "    </tr>\n",
       "    <tr>\n",
       "      <th>2</th>\n",
       "      <td>female</td>\n",
       "      <td>group B</td>\n",
       "      <td>master's degree</td>\n",
       "      <td>standard</td>\n",
       "      <td>none</td>\n",
       "      <td>9000</td>\n",
       "      <td>9500</td>\n",
       "      <td>9300</td>\n",
       "    </tr>\n",
       "    <tr>\n",
       "      <th>3</th>\n",
       "      <td>male</td>\n",
       "      <td>group A</td>\n",
       "      <td>associate's degree</td>\n",
       "      <td>free/reduced</td>\n",
       "      <td>none</td>\n",
       "      <td>4700</td>\n",
       "      <td>5700</td>\n",
       "      <td>4400</td>\n",
       "    </tr>\n",
       "    <tr>\n",
       "      <th>4</th>\n",
       "      <td>male</td>\n",
       "      <td>group C</td>\n",
       "      <td>some college</td>\n",
       "      <td>standard</td>\n",
       "      <td>none</td>\n",
       "      <td>7600</td>\n",
       "      <td>7800</td>\n",
       "      <td>7500</td>\n",
       "    </tr>\n",
       "    <tr>\n",
       "      <th>...</th>\n",
       "      <td>...</td>\n",
       "      <td>...</td>\n",
       "      <td>...</td>\n",
       "      <td>...</td>\n",
       "      <td>...</td>\n",
       "      <td>...</td>\n",
       "      <td>...</td>\n",
       "      <td>...</td>\n",
       "    </tr>\n",
       "    <tr>\n",
       "      <th>995</th>\n",
       "      <td>female</td>\n",
       "      <td>group E</td>\n",
       "      <td>master's degree</td>\n",
       "      <td>standard</td>\n",
       "      <td>completed</td>\n",
       "      <td>8800</td>\n",
       "      <td>9900</td>\n",
       "      <td>9500</td>\n",
       "    </tr>\n",
       "    <tr>\n",
       "      <th>996</th>\n",
       "      <td>male</td>\n",
       "      <td>group C</td>\n",
       "      <td>high school</td>\n",
       "      <td>free/reduced</td>\n",
       "      <td>none</td>\n",
       "      <td>6200</td>\n",
       "      <td>5500</td>\n",
       "      <td>5500</td>\n",
       "    </tr>\n",
       "    <tr>\n",
       "      <th>997</th>\n",
       "      <td>female</td>\n",
       "      <td>group C</td>\n",
       "      <td>high school</td>\n",
       "      <td>free/reduced</td>\n",
       "      <td>completed</td>\n",
       "      <td>5900</td>\n",
       "      <td>7100</td>\n",
       "      <td>6500</td>\n",
       "    </tr>\n",
       "    <tr>\n",
       "      <th>998</th>\n",
       "      <td>female</td>\n",
       "      <td>group D</td>\n",
       "      <td>some college</td>\n",
       "      <td>standard</td>\n",
       "      <td>completed</td>\n",
       "      <td>6800</td>\n",
       "      <td>7800</td>\n",
       "      <td>7700</td>\n",
       "    </tr>\n",
       "    <tr>\n",
       "      <th>999</th>\n",
       "      <td>female</td>\n",
       "      <td>group D</td>\n",
       "      <td>some college</td>\n",
       "      <td>free/reduced</td>\n",
       "      <td>none</td>\n",
       "      <td>7700</td>\n",
       "      <td>8600</td>\n",
       "      <td>8600</td>\n",
       "    </tr>\n",
       "  </tbody>\n",
       "</table>\n",
       "<p>1000 rows × 8 columns</p>\n",
       "</div>"
      ],
      "text/plain": [
       "     gender race_ethnicity parental_level_of_education         lunch  \\\n",
       "0    female        group B           bachelor's degree      standard   \n",
       "1    female        group C                some college      standard   \n",
       "2    female        group B             master's degree      standard   \n",
       "3      male        group A          associate's degree  free/reduced   \n",
       "4      male        group C                some college      standard   \n",
       "..      ...            ...                         ...           ...   \n",
       "995  female        group E             master's degree      standard   \n",
       "996    male        group C                 high school  free/reduced   \n",
       "997  female        group C                 high school  free/reduced   \n",
       "998  female        group D                some college      standard   \n",
       "999  female        group D                some college  free/reduced   \n",
       "\n",
       "    test_preparation_course  math_score  reading_score  writing_score  \n",
       "0                      none        7200           7200           7400  \n",
       "1                 completed        6900           9000           8800  \n",
       "2                      none        9000           9500           9300  \n",
       "3                      none        4700           5700           4400  \n",
       "4                      none        7600           7800           7500  \n",
       "..                      ...         ...            ...            ...  \n",
       "995               completed        8800           9900           9500  \n",
       "996                    none        6200           5500           5500  \n",
       "997               completed        5900           7100           6500  \n",
       "998               completed        6800           7800           7700  \n",
       "999                    none        7700           8600           8600  \n",
       "\n",
       "[1000 rows x 8 columns]"
      ]
     },
     "execution_count": 200,
     "metadata": {},
     "output_type": "execute_result"
    }
   ],
   "source": [
    "# If some pattern is there in the column_name\n",
    "for column_name, column_value in dataset.items():\n",
    "    if 'score' in column_name:\n",
    "        dataset.loc[:,column_name]*=10\n",
    "        \n",
    "dataset        "
   ]
  },
  {
   "cell_type": "markdown",
   "metadata": {},
   "source": [
    "why not ????\n",
    " \n",
    " \n",
    "for col, value in df.items():\n",
    "\n",
    "    if col.contains('score')==True:\n",
    "\n",
    "        df.loc[:, col] *= 10\n",
    "        \n",
    "\n",
    "Incorrect Method: DataFrame objects don't have a method named contains(). The appropriate method to check for substrings within column names is startswith().\n"
   ]
  },
  {
   "cell_type": "code",
   "execution_count": null,
   "metadata": {},
   "outputs": [
    {
     "data": {
      "text/html": [
       "<div>\n",
       "<style scoped>\n",
       "    .dataframe tbody tr th:only-of-type {\n",
       "        vertical-align: middle;\n",
       "    }\n",
       "\n",
       "    .dataframe tbody tr th {\n",
       "        vertical-align: top;\n",
       "    }\n",
       "\n",
       "    .dataframe thead th {\n",
       "        text-align: right;\n",
       "    }\n",
       "</style>\n",
       "<table border=\"1\" class=\"dataframe\">\n",
       "  <thead>\n",
       "    <tr style=\"text-align: right;\">\n",
       "      <th></th>\n",
       "      <th>gender</th>\n",
       "      <th>race_ethnicity</th>\n",
       "      <th>parental_level_of_education</th>\n",
       "      <th>lunch</th>\n",
       "      <th>test_preparation_course</th>\n",
       "      <th>math_score</th>\n",
       "      <th>reading_score</th>\n",
       "      <th>writing_score</th>\n",
       "    </tr>\n",
       "  </thead>\n",
       "  <tbody>\n",
       "    <tr>\n",
       "      <th>0</th>\n",
       "      <td>female</td>\n",
       "      <td>group B</td>\n",
       "      <td>bachelor's degree</td>\n",
       "      <td>standard</td>\n",
       "      <td>none</td>\n",
       "      <td>72000</td>\n",
       "      <td>72000</td>\n",
       "      <td>74000</td>\n",
       "    </tr>\n",
       "    <tr>\n",
       "      <th>1</th>\n",
       "      <td>female</td>\n",
       "      <td>group C</td>\n",
       "      <td>some college</td>\n",
       "      <td>standard</td>\n",
       "      <td>completed</td>\n",
       "      <td>69000</td>\n",
       "      <td>90000</td>\n",
       "      <td>88000</td>\n",
       "    </tr>\n",
       "    <tr>\n",
       "      <th>2</th>\n",
       "      <td>female</td>\n",
       "      <td>group B</td>\n",
       "      <td>master's degree</td>\n",
       "      <td>standard</td>\n",
       "      <td>none</td>\n",
       "      <td>90000</td>\n",
       "      <td>95000</td>\n",
       "      <td>93000</td>\n",
       "    </tr>\n",
       "    <tr>\n",
       "      <th>3</th>\n",
       "      <td>male</td>\n",
       "      <td>group A</td>\n",
       "      <td>associate's degree</td>\n",
       "      <td>free/reduced</td>\n",
       "      <td>none</td>\n",
       "      <td>47000</td>\n",
       "      <td>57000</td>\n",
       "      <td>44000</td>\n",
       "    </tr>\n",
       "    <tr>\n",
       "      <th>4</th>\n",
       "      <td>male</td>\n",
       "      <td>group C</td>\n",
       "      <td>some college</td>\n",
       "      <td>standard</td>\n",
       "      <td>none</td>\n",
       "      <td>76000</td>\n",
       "      <td>78000</td>\n",
       "      <td>75000</td>\n",
       "    </tr>\n",
       "    <tr>\n",
       "      <th>...</th>\n",
       "      <td>...</td>\n",
       "      <td>...</td>\n",
       "      <td>...</td>\n",
       "      <td>...</td>\n",
       "      <td>...</td>\n",
       "      <td>...</td>\n",
       "      <td>...</td>\n",
       "      <td>...</td>\n",
       "    </tr>\n",
       "    <tr>\n",
       "      <th>995</th>\n",
       "      <td>female</td>\n",
       "      <td>group E</td>\n",
       "      <td>master's degree</td>\n",
       "      <td>standard</td>\n",
       "      <td>completed</td>\n",
       "      <td>88000</td>\n",
       "      <td>99000</td>\n",
       "      <td>95000</td>\n",
       "    </tr>\n",
       "    <tr>\n",
       "      <th>996</th>\n",
       "      <td>male</td>\n",
       "      <td>group C</td>\n",
       "      <td>high school</td>\n",
       "      <td>free/reduced</td>\n",
       "      <td>none</td>\n",
       "      <td>62000</td>\n",
       "      <td>55000</td>\n",
       "      <td>55000</td>\n",
       "    </tr>\n",
       "    <tr>\n",
       "      <th>997</th>\n",
       "      <td>female</td>\n",
       "      <td>group C</td>\n",
       "      <td>high school</td>\n",
       "      <td>free/reduced</td>\n",
       "      <td>completed</td>\n",
       "      <td>59000</td>\n",
       "      <td>71000</td>\n",
       "      <td>65000</td>\n",
       "    </tr>\n",
       "    <tr>\n",
       "      <th>998</th>\n",
       "      <td>female</td>\n",
       "      <td>group D</td>\n",
       "      <td>some college</td>\n",
       "      <td>standard</td>\n",
       "      <td>completed</td>\n",
       "      <td>68000</td>\n",
       "      <td>78000</td>\n",
       "      <td>77000</td>\n",
       "    </tr>\n",
       "    <tr>\n",
       "      <th>999</th>\n",
       "      <td>female</td>\n",
       "      <td>group D</td>\n",
       "      <td>some college</td>\n",
       "      <td>free/reduced</td>\n",
       "      <td>none</td>\n",
       "      <td>77000</td>\n",
       "      <td>86000</td>\n",
       "      <td>86000</td>\n",
       "    </tr>\n",
       "  </tbody>\n",
       "</table>\n",
       "<p>1000 rows × 8 columns</p>\n",
       "</div>"
      ],
      "text/plain": [
       "     gender race_ethnicity parental_level_of_education         lunch  \\\n",
       "0    female        group B           bachelor's degree      standard   \n",
       "1    female        group C                some college      standard   \n",
       "2    female        group B             master's degree      standard   \n",
       "3      male        group A          associate's degree  free/reduced   \n",
       "4      male        group C                some college      standard   \n",
       "..      ...            ...                         ...           ...   \n",
       "995  female        group E             master's degree      standard   \n",
       "996    male        group C                 high school  free/reduced   \n",
       "997  female        group C                 high school  free/reduced   \n",
       "998  female        group D                some college      standard   \n",
       "999  female        group D                some college  free/reduced   \n",
       "\n",
       "    test_preparation_course  math_score  reading_score  writing_score  \n",
       "0                      none       72000          72000          74000  \n",
       "1                 completed       69000          90000          88000  \n",
       "2                      none       90000          95000          93000  \n",
       "3                      none       47000          57000          44000  \n",
       "4                      none       76000          78000          75000  \n",
       "..                      ...         ...            ...            ...  \n",
       "995               completed       88000          99000          95000  \n",
       "996                    none       62000          55000          55000  \n",
       "997               completed       59000          71000          65000  \n",
       "998               completed       68000          78000          77000  \n",
       "999                    none       77000          86000          86000  \n",
       "\n",
       "[1000 rows x 8 columns]"
      ]
     },
     "execution_count": 201,
     "metadata": {},
     "output_type": "execute_result"
    }
   ],
   "source": [
    "# we can also use re.search\n",
    "import re\n",
    "\n",
    "pattern = r\"score\"  # Match \"score\" or \"scare\" or similar variations\n",
    "for col, value in dataset.items():\n",
    "    if re.search(pattern, col):\n",
    "        dataset.loc[:, col] *= 10\n",
    "        \n",
    "dataset        "
   ]
  },
  {
   "cell_type": "code",
   "execution_count": null,
   "metadata": {},
   "outputs": [
    {
     "data": {
      "text/plain": [
       "['__add__',\n",
       " '__class__',\n",
       " '__contains__',\n",
       " '__delattr__',\n",
       " '__dir__',\n",
       " '__doc__',\n",
       " '__eq__',\n",
       " '__format__',\n",
       " '__ge__',\n",
       " '__getattribute__',\n",
       " '__getitem__',\n",
       " '__getnewargs__',\n",
       " '__getstate__',\n",
       " '__gt__',\n",
       " '__hash__',\n",
       " '__init__',\n",
       " '__init_subclass__',\n",
       " '__iter__',\n",
       " '__le__',\n",
       " '__len__',\n",
       " '__lt__',\n",
       " '__mod__',\n",
       " '__mul__',\n",
       " '__ne__',\n",
       " '__new__',\n",
       " '__reduce__',\n",
       " '__reduce_ex__',\n",
       " '__repr__',\n",
       " '__rmod__',\n",
       " '__rmul__',\n",
       " '__setattr__',\n",
       " '__sizeof__',\n",
       " '__str__',\n",
       " '__subclasshook__',\n",
       " 'capitalize',\n",
       " 'casefold',\n",
       " 'center',\n",
       " 'count',\n",
       " 'encode',\n",
       " 'endswith',\n",
       " 'expandtabs',\n",
       " 'find',\n",
       " 'format',\n",
       " 'format_map',\n",
       " 'index',\n",
       " 'isalnum',\n",
       " 'isalpha',\n",
       " 'isascii',\n",
       " 'isdecimal',\n",
       " 'isdigit',\n",
       " 'isidentifier',\n",
       " 'islower',\n",
       " 'isnumeric',\n",
       " 'isprintable',\n",
       " 'isspace',\n",
       " 'istitle',\n",
       " 'isupper',\n",
       " 'join',\n",
       " 'ljust',\n",
       " 'lower',\n",
       " 'lstrip',\n",
       " 'maketrans',\n",
       " 'partition',\n",
       " 'removeprefix',\n",
       " 'removesuffix',\n",
       " 'replace',\n",
       " 'rfind',\n",
       " 'rindex',\n",
       " 'rjust',\n",
       " 'rpartition',\n",
       " 'rsplit',\n",
       " 'rstrip',\n",
       " 'split',\n",
       " 'splitlines',\n",
       " 'startswith',\n",
       " 'strip',\n",
       " 'swapcase',\n",
       " 'title',\n",
       " 'translate',\n",
       " 'upper',\n",
       " 'zfill']"
      ]
     },
     "execution_count": 204,
     "metadata": {},
     "output_type": "execute_result"
    }
   ],
   "source": [
    "dir(\"all\")"
   ]
  },
  {
   "cell_type": "code",
   "execution_count": null,
   "metadata": {},
   "outputs": [
    {
     "data": {
      "text/plain": [
       "['match',\n",
       " 'fullmatch',\n",
       " 'search',\n",
       " 'sub',\n",
       " 'subn',\n",
       " 'split',\n",
       " 'findall',\n",
       " 'finditer',\n",
       " 'compile',\n",
       " 'purge',\n",
       " 'template',\n",
       " 'escape',\n",
       " 'error',\n",
       " 'Pattern',\n",
       " 'Match',\n",
       " 'A',\n",
       " 'I',\n",
       " 'L',\n",
       " 'M',\n",
       " 'S',\n",
       " 'X',\n",
       " 'U',\n",
       " 'ASCII',\n",
       " 'IGNORECASE',\n",
       " 'LOCALE',\n",
       " 'MULTILINE',\n",
       " 'DOTALL',\n",
       " 'VERBOSE',\n",
       " 'UNICODE',\n",
       " 'NOFLAG',\n",
       " 'RegexFlag']"
      ]
     },
     "execution_count": 205,
     "metadata": {},
     "output_type": "execute_result"
    }
   ],
   "source": [
    "re.__all__"
   ]
  },
  {
   "cell_type": "code",
   "execution_count": null,
   "metadata": {},
   "outputs": [
    {
     "name": "stdout",
     "output_type": "stream",
     "text": [
      "Help on function sub in module re:\n",
      "\n",
      "sub(pattern, repl, string, count=0, flags=0)\n",
      "    Return the string obtained by replacing the leftmost\n",
      "    non-overlapping occurrences of the pattern in string by the\n",
      "    replacement repl.  repl can be either a string or a callable;\n",
      "    if a string, backslash escapes in it are processed.  If it is\n",
      "    a callable, it's passed the Match object and must return\n",
      "    a replacement string to be used.\n",
      "\n"
     ]
    }
   ],
   "source": [
    "help(re.sub)"
   ]
  },
  {
   "cell_type": "code",
   "execution_count": null,
   "metadata": {},
   "outputs": [
    {
     "name": "stdout",
     "output_type": "stream",
     "text": [
      "Return the string obtained by replacing the leftmost\n",
      "    non-overlapping occurrences of the pattern in string by the\n",
      "    replacement repl.  repl can be either a string or a callable;\n",
      "    if a string, backslash escapes in it are processed.  If it is\n",
      "    a callable, it's passed the Match object and must return\n",
      "    a replacement string to be used.\n"
     ]
    }
   ],
   "source": [
    "print(re.sub.__doc__)"
   ]
  },
  {
   "cell_type": "code",
   "execution_count": null,
   "metadata": {},
   "outputs": [
    {
     "data": {
      "text/plain": [
       "list"
      ]
     },
     "execution_count": 147,
     "metadata": {},
     "output_type": "execute_result"
    }
   ],
   "source": [
    "type(filtered_row)"
   ]
  },
  {
   "cell_type": "code",
   "execution_count": null,
   "metadata": {},
   "outputs": [
    {
     "data": {
      "text/plain": [
       "'male'"
      ]
     },
     "execution_count": 152,
     "metadata": {},
     "output_type": "execute_result"
    }
   ],
   "source": [
    "filtered_row[1]['gender']"
   ]
  },
  {
   "cell_type": "code",
   "execution_count": null,
   "metadata": {},
   "outputs": [
    {
     "name": "stdout",
     "output_type": "stream",
     "text": [
      "0 has gender\n",
      "1 has race_ethnicity\n",
      "2 has parental_level_of_education\n",
      "3 has lunch\n",
      "4 has test_preparation_course\n",
      "5 has math_score\n",
      "6 has reading_score\n",
      "7 has writing_score\n"
     ]
    }
   ],
   "source": [
    "for column_number, column_name in enumerate(dataset):\n",
    "    print(f\"{column_number} has {column_name}\")"
   ]
  },
  {
   "cell_type": "code",
   "execution_count": null,
   "metadata": {},
   "outputs": [
    {
     "name": "stdout",
     "output_type": "stream",
     "text": [
      "Index: 0, Row Index: 0, Row Data:\n",
      "Name       Alice\n",
      "Age           25\n",
      "City    New York\n",
      "Name: 0, dtype: object\n",
      "\n",
      "Index: 1, Row Index: 1, Row Data:\n",
      "Name              Bob\n",
      "Age                30\n",
      "City    San Francisco\n",
      "Name: 1, dtype: object\n",
      "\n",
      "Index: 2, Row Index: 2, Row Data:\n",
      "Name        Charlie\n",
      "Age              22\n",
      "City    Los Angeles\n",
      "Name: 2, dtype: object\n",
      "\n"
     ]
    }
   ],
   "source": [
    "import pandas as pd\n",
    "\n",
    "# Sample DataFrame\n",
    "data = {'Name': ['Alice', 'Bob', 'Charlie'],\n",
    "        'Age': [25, 30, 22],\n",
    "        'City': ['New York', 'San Francisco', 'Los Angeles']}\n",
    "df = pd.DataFrame(data)\n",
    "\n",
    "# Using enumerate with iterrows\n",
    "for index, (row_index, row_data) in enumerate(df.iterrows()):\n",
    "    print(f\"Index: {index}, Row Index: {row_index}, Row Data:\\n{row_data}\\n\")"
   ]
  },
  {
   "cell_type": "code",
   "execution_count": null,
   "metadata": {},
   "outputs": [],
   "source": [
    "# string/re + for loop + apply is a great combination => find for single cell then replicate that to other in a column using apply\n"
   ]
  },
  {
   "cell_type": "code",
   "execution_count": null,
   "metadata": {},
   "outputs": [
    {
     "name": "stdout",
     "output_type": "stream",
     "text": [
      "foo\n"
     ]
    }
   ],
   "source": [
    "a = ['foo', 'bar', 'baz', 'qux']\n",
    "for i in a:\n",
    "    if 'b' in i:\n",
    "        break\n",
    "    print(i)"
   ]
  },
  {
   "cell_type": "code",
   "execution_count": null,
   "metadata": {},
   "outputs": [
    {
     "name": "stdout",
     "output_type": "stream",
     "text": [
      "foo\n",
      "qux\n"
     ]
    }
   ],
   "source": [
    "for i in a:\n",
    "    if 'b' in i:\n",
    "        continue\n",
    "    print(i)"
   ]
  },
  {
   "cell_type": "code",
   "execution_count": null,
   "metadata": {},
   "outputs": [
    {
     "name": "stdout",
     "output_type": "stream",
     "text": [
      "foo\n",
      "bar\n",
      "baz\n",
      "qux\n",
      "Done\n"
     ]
    }
   ],
   "source": [
    "# The else block run only when for loop runs successfully\n",
    "for i in a:\n",
    "    print(i)\n",
    "else:\n",
    "    print('Done')    "
   ]
  },
  {
   "cell_type": "code",
   "execution_count": null,
   "metadata": {},
   "outputs": [
    {
     "name": "stdout",
     "output_type": "stream",
     "text": [
      "foo\n",
      "qux\n",
      "Done\n"
     ]
    }
   ],
   "source": [
    "for i in a:\n",
    "    if 'b' in i:\n",
    "        continue\n",
    "    print(i)\n",
    "else:\n",
    "    print('Done')     \n",
    "    "
   ]
  },
  {
   "cell_type": "code",
   "execution_count": null,
   "metadata": {},
   "outputs": [
    {
     "name": "stdout",
     "output_type": "stream",
     "text": [
      "foo\n"
     ]
    }
   ],
   "source": [
    "for i in a:\n",
    "    if 'b' in i:\n",
    "        break\n",
    "    print(i)\n",
    "else:\n",
    "    print('Done') "
   ]
  },
  {
   "cell_type": "markdown",
   "metadata": {},
   "source": [
    "In Python, an iterable is an object that you can use in an iteration. If an object is iterable, then you can pass it to the built-in \n",
    "iter()\n",
    " function, which returns \n",
    "an iterator\n",
    "."
   ]
  },
  {
   "cell_type": "code",
   "execution_count": null,
   "metadata": {},
   "outputs": [],
   "source": [
    "d = {\"foo\": 1, \"bar\": 2, \"baz\": 3}"
   ]
  },
  {
   "cell_type": "code",
   "execution_count": null,
   "metadata": {},
   "outputs": [
    {
     "name": "stdout",
     "output_type": "stream",
     "text": [
      "('foo', 1) ('bar', 2) ('baz', 3) "
     ]
    }
   ],
   "source": [
    "for x in d.items():\n",
    "    print(x, end=\" \")"
   ]
  },
  {
   "cell_type": "code",
   "execution_count": null,
   "metadata": {},
   "outputs": [
    {
     "data": {
      "text/plain": [
       "[0, -1, 2, -1, 4, -1, 6, -1, 8, -1]"
      ]
     },
     "execution_count": 17,
     "metadata": {},
     "output_type": "execute_result"
    }
   ],
   "source": [
    "# Example 1: Append even numbers, otherwise append -1\n",
    "result1 = []\n",
    "for i in range(10):\n",
    "    if i % 2 == 0:\n",
    "        result1.append(i)\n",
    "    else:\n",
    "        result1.append(-1)\n",
    "        \n",
    "result1        "
   ]
  },
  {
   "cell_type": "code",
   "execution_count": null,
   "metadata": {},
   "outputs": [
    {
     "data": {
      "text/plain": [
       "[0, 1, 2, 3, 4, 5, 36, 49, 64, 81]"
      ]
     },
     "execution_count": 18,
     "metadata": {},
     "output_type": "execute_result"
    }
   ],
   "source": [
    "# Example 2: Append squares of numbers greater than 5, otherwise append the number itself\n",
    "result2 = []\n",
    "for i in range(10):\n",
    "    if i > 5:\n",
    "        result2.append(i**2)\n",
    "    else:\n",
    "        result2.append(i)\n",
    "result2"
   ]
  },
  {
   "cell_type": "code",
   "execution_count": null,
   "metadata": {},
   "outputs": [
    {
     "data": {
      "text/plain": [
       "['even', 'odd', 'even', 'odd', 'even']"
      ]
     },
     "execution_count": 19,
     "metadata": {},
     "output_type": "execute_result"
    }
   ],
   "source": [
    "# Example 3: Append 'even' or 'odd' based on the number\n",
    "result3 = []\n",
    "for i in range(5):\n",
    "    if i % 2 == 0:\n",
    "        result3.append('even')\n",
    "    else:\n",
    "        result3.append('odd')\n",
    "        \n",
    "result3        "
   ]
  },
  {
   "cell_type": "code",
   "execution_count": null,
   "metadata": {},
   "outputs": [
    {
     "data": {
      "text/plain": [
       "[0,\n",
       " 'not a multiple',\n",
       " 'not a multiple',\n",
       " 3,\n",
       " 'not a multiple',\n",
       " 'not a multiple',\n",
       " 6,\n",
       " 'not a multiple',\n",
       " 'not a multiple',\n",
       " 9]"
      ]
     },
     "execution_count": 20,
     "metadata": {},
     "output_type": "execute_result"
    }
   ],
   "source": [
    "# Example 4: Append multiples of 3, otherwise append 'not a multiple'\n",
    "result4 = []\n",
    "for i in range(10):\n",
    "    if i % 3 == 0:\n",
    "        result4.append(i)\n",
    "    else:\n",
    "        result4.append('not a multiple')\n",
    "result4        "
   ]
  },
  {
   "cell_type": "code",
   "execution_count": null,
   "metadata": {},
   "outputs": [
    {
     "data": {
      "text/plain": [
       "['negative',\n",
       " 'negative',\n",
       " 'negative',\n",
       " 'negative',\n",
       " 'positive',\n",
       " 'positive',\n",
       " 'positive']"
      ]
     },
     "execution_count": 21,
     "metadata": {},
     "output_type": "execute_result"
    }
   ],
   "source": [
    "# Example 5: Append 'positive' or 'negative' based on the number\n",
    "result5 = []\n",
    "for i in range(-3, 4):\n",
    "    if i > 0:\n",
    "        result5.append('positive')\n",
    "    else:\n",
    "        result5.append('negative')\n",
    "result5        "
   ]
  },
  {
   "cell_type": "code",
   "execution_count": null,
   "metadata": {},
   "outputs": [
    {
     "data": {
      "text/plain": [
       "[0,\n",
       " 'not divisible',\n",
       " 'not divisible',\n",
       " 'not divisible',\n",
       " 'not divisible',\n",
       " 'not divisible',\n",
       " 6,\n",
       " 'not divisible',\n",
       " 'not divisible',\n",
       " 'not divisible']"
      ]
     },
     "execution_count": 22,
     "metadata": {},
     "output_type": "execute_result"
    }
   ],
   "source": [
    "# Example 6: Append numbers divisible by 2 and 3, otherwise append 'not divisible'\n",
    "result6 = []\n",
    "for i in range(10):\n",
    "    if i % 2 == 0 and i % 3 == 0:\n",
    "        result6.append(i)\n",
    "    else:\n",
    "        result6.append('not divisible')\n",
    "result6        "
   ]
  },
  {
   "cell_type": "code",
   "execution_count": null,
   "metadata": {},
   "outputs": [
    {
     "data": {
      "text/plain": [
       "['upper',\n",
       " 'lower',\n",
       " 'lower',\n",
       " 'lower',\n",
       " 'lower',\n",
       " 'lower',\n",
       " 'upper',\n",
       " 'lower',\n",
       " 'lower',\n",
       " 'lower',\n",
       " 'lower']"
      ]
     },
     "execution_count": 23,
     "metadata": {},
     "output_type": "execute_result"
    }
   ],
   "source": [
    "# Example 7: Append 'upper' or 'lower' based on the character case\n",
    "result7 = []\n",
    "for char in 'Hello World':\n",
    "    if char.isupper():\n",
    "        result7.append('upper')\n",
    "    else:\n",
    "        result7.append('lower')\n",
    "result7"
   ]
  },
  {
   "cell_type": "code",
   "execution_count": null,
   "metadata": {},
   "outputs": [
    {
     "data": {
      "text/plain": [
       "['B', 'A', 'C', 'F', 'F', 'A']"
      ]
     },
     "execution_count": 24,
     "metadata": {},
     "output_type": "execute_result"
    }
   ],
   "source": [
    "# Example 8: Append grades based on score\n",
    "scores = [85, 92, 78, 60, 45, 95]\n",
    "grades = []\n",
    "for score in scores:\n",
    "    if score >= 90:\n",
    "        grades.append('A')\n",
    "    elif 80 <= score < 90:\n",
    "        grades.append('B')\n",
    "    elif 70 <= score < 80:\n",
    "        grades.append('C')\n",
    "    else:\n",
    "        grades.append('F')\n",
    "        \n",
    "grades        "
   ]
  },
  {
   "cell_type": "code",
   "execution_count": null,
   "metadata": {},
   "outputs": [
    {
     "data": {
      "text/plain": [
       "[1, 4, 3, 16, 5]"
      ]
     },
     "execution_count": 25,
     "metadata": {},
     "output_type": "execute_result"
    }
   ],
   "source": [
    "# Example 9: Append numbers or their squares based on condition\n",
    "numbers = [1, 2, 3, 4, 5]\n",
    "result9 = []\n",
    "for num in numbers:\n",
    "    if num % 2 == 0:\n",
    "        result9.append(num**2)\n",
    "    else:\n",
    "        result9.append(num)\n",
    "        \n",
    "result9        "
   ]
  },
  {
   "cell_type": "code",
   "execution_count": null,
   "metadata": {},
   "outputs": [
    {
     "data": {
      "text/plain": [
       "['negative', 'zero', 'positive', 'negative', 'positive']"
      ]
     },
     "execution_count": 26,
     "metadata": {},
     "output_type": "execute_result"
    }
   ],
   "source": [
    "# Example 10: Append 'positive', 'negative', or 'zero' based on the number\n",
    "result10 = []\n",
    "for i in [-2, 0, 3, -5, 1]:\n",
    "    if i > 0:\n",
    "        result10.append('positive')\n",
    "    elif i < 0:\n",
    "        result10.append('negative')\n",
    "    else:\n",
    "        result10.append('zero')\n",
    "result10        "
   ]
  },
  {
   "cell_type": "code",
   "execution_count": null,
   "metadata": {},
   "outputs": [
    {
     "data": {
      "text/plain": [
       "['odd', 'even', 'odd', 'even']"
      ]
     },
     "execution_count": 27,
     "metadata": {},
     "output_type": "execute_result"
    }
   ],
   "source": [
    "# Example 11: Append 'even' or 'odd' based on the length of words\n",
    "words = ['apple', 'banana', 'grape', 'kiwi']\n",
    "result11 = []\n",
    "for word in words:\n",
    "    if len(word) % 2 == 0:\n",
    "        result11.append('even')\n",
    "    else:\n",
    "        result11.append('odd')\n",
    "result11        "
   ]
  },
  {
   "cell_type": "code",
   "execution_count": null,
   "metadata": {},
   "outputs": [
    {
     "data": {
      "text/plain": [
       "[16, -3, 49, -1, 0]"
      ]
     },
     "execution_count": 28,
     "metadata": {},
     "output_type": "execute_result"
    }
   ],
   "source": [
    "# Example 12: Append numbers squared if positive, otherwise append the original number\n",
    "numbers2 = [4, -3, 7, -1, 0]\n",
    "result12 = []\n",
    "for num in numbers2:\n",
    "    if num > 0:\n",
    "        result12.append(num**2)\n",
    "    else:\n",
    "        result12.append(num)\n",
    "result12        "
   ]
  },
  {
   "cell_type": "code",
   "execution_count": null,
   "metadata": {},
   "outputs": [
    {
     "data": {
      "text/plain": [
       "['odd', 'even', 'even', 'odd']"
      ]
     },
     "execution_count": 29,
     "metadata": {},
     "output_type": "execute_result"
    }
   ],
   "source": [
    "# Example 17: Append 'even' or 'odd' based on the sum of two numbers\n",
    "numbers5 = [(2, 5), (1, 3), (6, 2), (7, 4)]\n",
    "result17 = []\n",
    "for num1, num2 in numbers5:\n",
    "    if (num1 + num2) % 2 == 0:\n",
    "        result17.append('even')\n",
    "    else:\n",
    "        result17.append('odd')\n",
    "result17        \n"
   ]
  },
  {
   "cell_type": "code",
   "execution_count": null,
   "metadata": {},
   "outputs": [
    {
     "name": "stdout",
     "output_type": "stream",
     "text": [
      "pos\n",
      "gos\n",
      "pos_1\n"
     ]
    }
   ],
   "source": [
    "\n",
    "a = [\"pos\", \"gos\", \"pos_1\"]\n",
    "\n",
    "for i in a:\n",
    "    print(i)"
   ]
  },
  {
   "cell_type": "code",
   "execution_count": null,
   "metadata": {},
   "outputs": [
    {
     "name": "stdout",
     "output_type": "stream",
     "text": [
      "pos\n",
      "gos\n",
      "pos_1\n"
     ]
    }
   ],
   "source": [
    "for i in range(0, len(a)):\n",
    "    print(a[i])"
   ]
  },
  {
   "cell_type": "code",
   "execution_count": null,
   "metadata": {},
   "outputs": [
    {
     "data": {
      "text/plain": [
       "['pos_updated', 'gos', 'pos_1']"
      ]
     },
     "execution_count": 40,
     "metadata": {},
     "output_type": "execute_result"
    }
   ],
   "source": [
    "# replace pos with pos_updated\n",
    "updated = list()\n",
    "for item in a:\n",
    "    if item == 'pos':\n",
    "        updated_item = \"pos_updated\"\n",
    "    else:\n",
    "        updated_item = item\n",
    "    updated.append(updated_item)\n",
    "updated            "
   ]
  },
  {
   "cell_type": "code",
   "execution_count": null,
   "metadata": {},
   "outputs": [
    {
     "data": {
      "text/plain": [
       "['pos_updated', 'gos', 'pos_updated_1']"
      ]
     },
     "execution_count": 42,
     "metadata": {},
     "output_type": "execute_result"
    }
   ],
   "source": [
    "# replace where pattern pos is found with pos_updated\n",
    "updated_data = []\n",
    "for item in a:\n",
    "    if \"pos\" in item:\n",
    "        updated_item = item.replace(\"pos\", \"pos_updated\")\n",
    "    else:\n",
    "        updated_item = item\n",
    "    updated_data.append(updated_item)\n",
    "updated_data"
   ]
  },
  {
   "cell_type": "code",
   "execution_count": null,
   "metadata": {},
   "outputs": [],
   "source": [
    "import pandas as pd\n",
    "judge = pd.read_csv(\"./basketball/judge.csv\")\n",
    "stanton = pd.read_csv(\"./basketball/stanton.csv\")"
   ]
  },
  {
   "cell_type": "code",
   "execution_count": null,
   "metadata": {},
   "outputs": [
    {
     "data": {
      "text/html": [
       "<div>\n",
       "<style scoped>\n",
       "    .dataframe tbody tr th:only-of-type {\n",
       "        vertical-align: middle;\n",
       "    }\n",
       "\n",
       "    .dataframe tbody tr th {\n",
       "        vertical-align: top;\n",
       "    }\n",
       "\n",
       "    .dataframe thead th {\n",
       "        text-align: right;\n",
       "    }\n",
       "</style>\n",
       "<table border=\"1\" class=\"dataframe\">\n",
       "  <thead>\n",
       "    <tr style=\"text-align: right;\">\n",
       "      <th></th>\n",
       "      <th>pitch_type</th>\n",
       "      <th>game_date</th>\n",
       "      <th>release_speed</th>\n",
       "      <th>release_pos_x</th>\n",
       "      <th>release_pos_z</th>\n",
       "      <th>player_name</th>\n",
       "      <th>batter</th>\n",
       "      <th>pitcher</th>\n",
       "      <th>events</th>\n",
       "      <th>description</th>\n",
       "      <th>...</th>\n",
       "      <th>release_pos_y</th>\n",
       "      <th>estimated_ba_using_speedangle</th>\n",
       "      <th>estimated_woba_using_speedangle</th>\n",
       "      <th>woba_value</th>\n",
       "      <th>woba_denom</th>\n",
       "      <th>babip_value</th>\n",
       "      <th>iso_value</th>\n",
       "      <th>launch_speed_angle</th>\n",
       "      <th>at_bat_number</th>\n",
       "      <th>pitch_number</th>\n",
       "    </tr>\n",
       "  </thead>\n",
       "  <tbody>\n",
       "    <tr>\n",
       "      <th>0</th>\n",
       "      <td>FF</td>\n",
       "      <td>2017-09-30</td>\n",
       "      <td>95.7</td>\n",
       "      <td>-2.3581</td>\n",
       "      <td>5.9240</td>\n",
       "      <td>Aaron Judge</td>\n",
       "      <td>592450</td>\n",
       "      <td>608678</td>\n",
       "      <td>strikeout</td>\n",
       "      <td>swinging_strike</td>\n",
       "      <td>...</td>\n",
       "      <td>54.0129</td>\n",
       "      <td>0.0</td>\n",
       "      <td>0.0</td>\n",
       "      <td>0.0</td>\n",
       "      <td>1.0</td>\n",
       "      <td>0.0</td>\n",
       "      <td>0.0</td>\n",
       "      <td>NaN</td>\n",
       "      <td>53</td>\n",
       "      <td>3</td>\n",
       "    </tr>\n",
       "    <tr>\n",
       "      <th>1</th>\n",
       "      <td>FF</td>\n",
       "      <td>2017-09-30</td>\n",
       "      <td>96.3</td>\n",
       "      <td>-2.5577</td>\n",
       "      <td>5.9023</td>\n",
       "      <td>Aaron Judge</td>\n",
       "      <td>592450</td>\n",
       "      <td>608678</td>\n",
       "      <td>NaN</td>\n",
       "      <td>called_strike</td>\n",
       "      <td>...</td>\n",
       "      <td>54.1114</td>\n",
       "      <td>0.0</td>\n",
       "      <td>0.0</td>\n",
       "      <td>NaN</td>\n",
       "      <td>NaN</td>\n",
       "      <td>NaN</td>\n",
       "      <td>NaN</td>\n",
       "      <td>NaN</td>\n",
       "      <td>53</td>\n",
       "      <td>2</td>\n",
       "    </tr>\n",
       "    <tr>\n",
       "      <th>2</th>\n",
       "      <td>FF</td>\n",
       "      <td>2017-09-30</td>\n",
       "      <td>95.2</td>\n",
       "      <td>-2.3861</td>\n",
       "      <td>5.8346</td>\n",
       "      <td>Aaron Judge</td>\n",
       "      <td>592450</td>\n",
       "      <td>608678</td>\n",
       "      <td>NaN</td>\n",
       "      <td>called_strike</td>\n",
       "      <td>...</td>\n",
       "      <td>54.0285</td>\n",
       "      <td>0.0</td>\n",
       "      <td>0.0</td>\n",
       "      <td>NaN</td>\n",
       "      <td>NaN</td>\n",
       "      <td>NaN</td>\n",
       "      <td>NaN</td>\n",
       "      <td>NaN</td>\n",
       "      <td>53</td>\n",
       "      <td>1</td>\n",
       "    </tr>\n",
       "    <tr>\n",
       "      <th>3</th>\n",
       "      <td>FT</td>\n",
       "      <td>2017-09-30</td>\n",
       "      <td>93.4</td>\n",
       "      <td>4.2502</td>\n",
       "      <td>4.6506</td>\n",
       "      <td>Aaron Judge</td>\n",
       "      <td>592450</td>\n",
       "      <td>571901</td>\n",
       "      <td>walk</td>\n",
       "      <td>ball</td>\n",
       "      <td>...</td>\n",
       "      <td>54.7309</td>\n",
       "      <td>0.0</td>\n",
       "      <td>0.0</td>\n",
       "      <td>0.7</td>\n",
       "      <td>1.0</td>\n",
       "      <td>0.0</td>\n",
       "      <td>0.0</td>\n",
       "      <td>NaN</td>\n",
       "      <td>36</td>\n",
       "      <td>5</td>\n",
       "    </tr>\n",
       "    <tr>\n",
       "      <th>4</th>\n",
       "      <td>FT</td>\n",
       "      <td>2017-09-30</td>\n",
       "      <td>92.8</td>\n",
       "      <td>4.1144</td>\n",
       "      <td>4.4696</td>\n",
       "      <td>Aaron Judge</td>\n",
       "      <td>592450</td>\n",
       "      <td>571901</td>\n",
       "      <td>NaN</td>\n",
       "      <td>called_strike</td>\n",
       "      <td>...</td>\n",
       "      <td>54.5228</td>\n",
       "      <td>0.0</td>\n",
       "      <td>0.0</td>\n",
       "      <td>NaN</td>\n",
       "      <td>NaN</td>\n",
       "      <td>NaN</td>\n",
       "      <td>NaN</td>\n",
       "      <td>NaN</td>\n",
       "      <td>36</td>\n",
       "      <td>4</td>\n",
       "    </tr>\n",
       "  </tbody>\n",
       "</table>\n",
       "<p>5 rows × 78 columns</p>\n",
       "</div>"
      ],
      "text/plain": [
       "  pitch_type   game_date  release_speed  release_pos_x  release_pos_z  \\\n",
       "0         FF  2017-09-30           95.7        -2.3581         5.9240   \n",
       "1         FF  2017-09-30           96.3        -2.5577         5.9023   \n",
       "2         FF  2017-09-30           95.2        -2.3861         5.8346   \n",
       "3         FT  2017-09-30           93.4         4.2502         4.6506   \n",
       "4         FT  2017-09-30           92.8         4.1144         4.4696   \n",
       "\n",
       "   player_name  batter  pitcher     events      description  ...  \\\n",
       "0  Aaron Judge  592450   608678  strikeout  swinging_strike  ...   \n",
       "1  Aaron Judge  592450   608678        NaN    called_strike  ...   \n",
       "2  Aaron Judge  592450   608678        NaN    called_strike  ...   \n",
       "3  Aaron Judge  592450   571901       walk             ball  ...   \n",
       "4  Aaron Judge  592450   571901        NaN    called_strike  ...   \n",
       "\n",
       "   release_pos_y  estimated_ba_using_speedangle  \\\n",
       "0        54.0129                            0.0   \n",
       "1        54.1114                            0.0   \n",
       "2        54.0285                            0.0   \n",
       "3        54.7309                            0.0   \n",
       "4        54.5228                            0.0   \n",
       "\n",
       "   estimated_woba_using_speedangle  woba_value  woba_denom babip_value  \\\n",
       "0                              0.0         0.0         1.0         0.0   \n",
       "1                              0.0         NaN         NaN         NaN   \n",
       "2                              0.0         NaN         NaN         NaN   \n",
       "3                              0.0         0.7         1.0         0.0   \n",
       "4                              0.0         NaN         NaN         NaN   \n",
       "\n",
       "  iso_value launch_speed_angle at_bat_number pitch_number  \n",
       "0       0.0                NaN            53            3  \n",
       "1       NaN                NaN            53            2  \n",
       "2       NaN                NaN            53            1  \n",
       "3       0.0                NaN            36            5  \n",
       "4       NaN                NaN            36            4  \n",
       "\n",
       "[5 rows x 78 columns]"
      ]
     },
     "execution_count": 16,
     "metadata": {},
     "output_type": "execute_result"
    }
   ],
   "source": [
    "judge.head()"
   ]
  },
  {
   "cell_type": "code",
   "execution_count": null,
   "metadata": {},
   "outputs": [
    {
     "name": "stdout",
     "output_type": "stream",
     "text": [
      "release_pos_x\n",
      "release_pos_z\n",
      "pos2_person_id\n",
      "pos1_person_id\n",
      "pos2_person_id.1\n",
      "pos3_person_id\n",
      "pos4_person_id\n",
      "pos5_person_id\n",
      "pos6_person_id\n",
      "pos7_person_id\n",
      "pos8_person_id\n",
      "pos9_person_id\n",
      "release_pos_y\n"
     ]
    }
   ],
   "source": [
    "# 1. For loop to change the name of the column in judge where pos is present and change it to pos_updated\n",
    "for col_name, col_value in judge.items():\n",
    "    if 'pos' in col_name:\n",
    "        print(col_name)"
   ]
  },
  {
   "cell_type": "code",
   "execution_count": null,
   "metadata": {},
   "outputs": [
    {
     "name": "stdout",
     "output_type": "stream",
     "text": [
      "['pitch_type', 'game_date', 'release_speed', 'release_pos_updated_x', 'release_pos_updated_z', 'player_name', 'batter', 'pitcher', 'events', 'description', 'spin_dir', 'spin_rate_deprecated', 'break_angle_deprecated', 'break_length_deprecated', 'zone', 'des', 'game_type', 'stand', 'p_throws', 'home_team', 'away_team', 'type', 'hit_location', 'bb_type', 'balls', 'strikes', 'game_year', 'pfx_x', 'pfx_z', 'plate_x', 'plate_z', 'on_3b', 'on_2b', 'on_1b', 'outs_when_up', 'inning', 'inning_topbot', 'hc_x', 'hc_y', 'tfs_deprecated', 'tfs_zulu_deprecated', 'pos_updated2_person_id', 'umpire', 'sv_id', 'vx0', 'vy0', 'vz0', 'ax', 'ay', 'az', 'sz_top', 'sz_bot', 'hit_distance_sc', 'launch_speed', 'launch_angle', 'effective_speed', 'release_spin_rate', 'release_extension', 'game_pk', 'pos_updated1_person_id', 'pos_updated2_person_id.1', 'pos_updated3_person_id', 'pos_updated4_person_id', 'pos_updated5_person_id', 'pos_updated6_person_id', 'pos_updated7_person_id', 'pos_updated8_person_id', 'pos_updated9_person_id', 'release_pos_updated_y', 'estimated_ba_using_speedangle', 'estimated_woba_using_speedangle', 'woba_value', 'woba_denom', 'babip_value', 'iso_value', 'launch_speed_angle', 'at_bat_number', 'pitch_number']\n"
     ]
    },
    {
     "data": {
      "text/html": [
       "<div>\n",
       "<style scoped>\n",
       "    .dataframe tbody tr th:only-of-type {\n",
       "        vertical-align: middle;\n",
       "    }\n",
       "\n",
       "    .dataframe tbody tr th {\n",
       "        vertical-align: top;\n",
       "    }\n",
       "\n",
       "    .dataframe thead th {\n",
       "        text-align: right;\n",
       "    }\n",
       "</style>\n",
       "<table border=\"1\" class=\"dataframe\">\n",
       "  <thead>\n",
       "    <tr style=\"text-align: right;\">\n",
       "      <th></th>\n",
       "      <th>pitch_type</th>\n",
       "      <th>game_date</th>\n",
       "      <th>release_speed</th>\n",
       "      <th>release_pos_updated_x</th>\n",
       "      <th>release_pos_updated_z</th>\n",
       "      <th>player_name</th>\n",
       "      <th>batter</th>\n",
       "      <th>pitcher</th>\n",
       "      <th>events</th>\n",
       "      <th>description</th>\n",
       "      <th>...</th>\n",
       "      <th>release_pos_updated_y</th>\n",
       "      <th>estimated_ba_using_speedangle</th>\n",
       "      <th>estimated_woba_using_speedangle</th>\n",
       "      <th>woba_value</th>\n",
       "      <th>woba_denom</th>\n",
       "      <th>babip_value</th>\n",
       "      <th>iso_value</th>\n",
       "      <th>launch_speed_angle</th>\n",
       "      <th>at_bat_number</th>\n",
       "      <th>pitch_number</th>\n",
       "    </tr>\n",
       "  </thead>\n",
       "  <tbody>\n",
       "    <tr>\n",
       "      <th>0</th>\n",
       "      <td>FF</td>\n",
       "      <td>2017-09-30</td>\n",
       "      <td>95.7</td>\n",
       "      <td>-2.3581</td>\n",
       "      <td>5.9240</td>\n",
       "      <td>Aaron Judge</td>\n",
       "      <td>592450</td>\n",
       "      <td>608678</td>\n",
       "      <td>strikeout</td>\n",
       "      <td>swinging_strike</td>\n",
       "      <td>...</td>\n",
       "      <td>54.0129</td>\n",
       "      <td>0.00</td>\n",
       "      <td>0.000</td>\n",
       "      <td>0.0</td>\n",
       "      <td>1.0</td>\n",
       "      <td>0.0</td>\n",
       "      <td>0.0</td>\n",
       "      <td>NaN</td>\n",
       "      <td>53</td>\n",
       "      <td>3</td>\n",
       "    </tr>\n",
       "    <tr>\n",
       "      <th>1</th>\n",
       "      <td>FF</td>\n",
       "      <td>2017-09-30</td>\n",
       "      <td>96.3</td>\n",
       "      <td>-2.5577</td>\n",
       "      <td>5.9023</td>\n",
       "      <td>Aaron Judge</td>\n",
       "      <td>592450</td>\n",
       "      <td>608678</td>\n",
       "      <td>NaN</td>\n",
       "      <td>called_strike</td>\n",
       "      <td>...</td>\n",
       "      <td>54.1114</td>\n",
       "      <td>0.00</td>\n",
       "      <td>0.000</td>\n",
       "      <td>NaN</td>\n",
       "      <td>NaN</td>\n",
       "      <td>NaN</td>\n",
       "      <td>NaN</td>\n",
       "      <td>NaN</td>\n",
       "      <td>53</td>\n",
       "      <td>2</td>\n",
       "    </tr>\n",
       "    <tr>\n",
       "      <th>2</th>\n",
       "      <td>FF</td>\n",
       "      <td>2017-09-30</td>\n",
       "      <td>95.2</td>\n",
       "      <td>-2.3861</td>\n",
       "      <td>5.8346</td>\n",
       "      <td>Aaron Judge</td>\n",
       "      <td>592450</td>\n",
       "      <td>608678</td>\n",
       "      <td>NaN</td>\n",
       "      <td>called_strike</td>\n",
       "      <td>...</td>\n",
       "      <td>54.0285</td>\n",
       "      <td>0.00</td>\n",
       "      <td>0.000</td>\n",
       "      <td>NaN</td>\n",
       "      <td>NaN</td>\n",
       "      <td>NaN</td>\n",
       "      <td>NaN</td>\n",
       "      <td>NaN</td>\n",
       "      <td>53</td>\n",
       "      <td>1</td>\n",
       "    </tr>\n",
       "    <tr>\n",
       "      <th>3</th>\n",
       "      <td>FT</td>\n",
       "      <td>2017-09-30</td>\n",
       "      <td>93.4</td>\n",
       "      <td>4.2502</td>\n",
       "      <td>4.6506</td>\n",
       "      <td>Aaron Judge</td>\n",
       "      <td>592450</td>\n",
       "      <td>571901</td>\n",
       "      <td>walk</td>\n",
       "      <td>ball</td>\n",
       "      <td>...</td>\n",
       "      <td>54.7309</td>\n",
       "      <td>0.00</td>\n",
       "      <td>0.000</td>\n",
       "      <td>0.7</td>\n",
       "      <td>1.0</td>\n",
       "      <td>0.0</td>\n",
       "      <td>0.0</td>\n",
       "      <td>NaN</td>\n",
       "      <td>36</td>\n",
       "      <td>5</td>\n",
       "    </tr>\n",
       "    <tr>\n",
       "      <th>4</th>\n",
       "      <td>FT</td>\n",
       "      <td>2017-09-30</td>\n",
       "      <td>92.8</td>\n",
       "      <td>4.1144</td>\n",
       "      <td>4.4696</td>\n",
       "      <td>Aaron Judge</td>\n",
       "      <td>592450</td>\n",
       "      <td>571901</td>\n",
       "      <td>NaN</td>\n",
       "      <td>called_strike</td>\n",
       "      <td>...</td>\n",
       "      <td>54.5228</td>\n",
       "      <td>0.00</td>\n",
       "      <td>0.000</td>\n",
       "      <td>NaN</td>\n",
       "      <td>NaN</td>\n",
       "      <td>NaN</td>\n",
       "      <td>NaN</td>\n",
       "      <td>NaN</td>\n",
       "      <td>36</td>\n",
       "      <td>4</td>\n",
       "    </tr>\n",
       "    <tr>\n",
       "      <th>...</th>\n",
       "      <td>...</td>\n",
       "      <td>...</td>\n",
       "      <td>...</td>\n",
       "      <td>...</td>\n",
       "      <td>...</td>\n",
       "      <td>...</td>\n",
       "      <td>...</td>\n",
       "      <td>...</td>\n",
       "      <td>...</td>\n",
       "      <td>...</td>\n",
       "      <td>...</td>\n",
       "      <td>...</td>\n",
       "      <td>...</td>\n",
       "      <td>...</td>\n",
       "      <td>...</td>\n",
       "      <td>...</td>\n",
       "      <td>...</td>\n",
       "      <td>...</td>\n",
       "      <td>...</td>\n",
       "      <td>...</td>\n",
       "      <td>...</td>\n",
       "    </tr>\n",
       "    <tr>\n",
       "      <th>3431</th>\n",
       "      <td>CH</td>\n",
       "      <td>2016-08-13</td>\n",
       "      <td>85.6</td>\n",
       "      <td>-1.9659</td>\n",
       "      <td>5.9113</td>\n",
       "      <td>Aaron Judge</td>\n",
       "      <td>592450</td>\n",
       "      <td>542882</td>\n",
       "      <td>NaN</td>\n",
       "      <td>ball</td>\n",
       "      <td>...</td>\n",
       "      <td>54.8144</td>\n",
       "      <td>0.00</td>\n",
       "      <td>0.000</td>\n",
       "      <td>NaN</td>\n",
       "      <td>NaN</td>\n",
       "      <td>NaN</td>\n",
       "      <td>NaN</td>\n",
       "      <td>NaN</td>\n",
       "      <td>36</td>\n",
       "      <td>1</td>\n",
       "    </tr>\n",
       "    <tr>\n",
       "      <th>3432</th>\n",
       "      <td>CH</td>\n",
       "      <td>2016-08-13</td>\n",
       "      <td>87.6</td>\n",
       "      <td>-1.9318</td>\n",
       "      <td>5.9349</td>\n",
       "      <td>Aaron Judge</td>\n",
       "      <td>592450</td>\n",
       "      <td>542882</td>\n",
       "      <td>home_run</td>\n",
       "      <td>hit_into_play_score</td>\n",
       "      <td>...</td>\n",
       "      <td>54.8064</td>\n",
       "      <td>0.98</td>\n",
       "      <td>1.937</td>\n",
       "      <td>2.0</td>\n",
       "      <td>1.0</td>\n",
       "      <td>0.0</td>\n",
       "      <td>3.0</td>\n",
       "      <td>6.0</td>\n",
       "      <td>14</td>\n",
       "      <td>4</td>\n",
       "    </tr>\n",
       "    <tr>\n",
       "      <th>3433</th>\n",
       "      <td>CH</td>\n",
       "      <td>2016-08-13</td>\n",
       "      <td>87.2</td>\n",
       "      <td>-2.0285</td>\n",
       "      <td>5.8656</td>\n",
       "      <td>Aaron Judge</td>\n",
       "      <td>592450</td>\n",
       "      <td>542882</td>\n",
       "      <td>NaN</td>\n",
       "      <td>ball</td>\n",
       "      <td>...</td>\n",
       "      <td>54.7770</td>\n",
       "      <td>0.00</td>\n",
       "      <td>0.000</td>\n",
       "      <td>NaN</td>\n",
       "      <td>NaN</td>\n",
       "      <td>NaN</td>\n",
       "      <td>NaN</td>\n",
       "      <td>NaN</td>\n",
       "      <td>14</td>\n",
       "      <td>3</td>\n",
       "    </tr>\n",
       "    <tr>\n",
       "      <th>3434</th>\n",
       "      <td>CU</td>\n",
       "      <td>2016-08-13</td>\n",
       "      <td>79.7</td>\n",
       "      <td>-1.7108</td>\n",
       "      <td>6.1926</td>\n",
       "      <td>Aaron Judge</td>\n",
       "      <td>592450</td>\n",
       "      <td>542882</td>\n",
       "      <td>NaN</td>\n",
       "      <td>foul</td>\n",
       "      <td>...</td>\n",
       "      <td>55.4756</td>\n",
       "      <td>0.00</td>\n",
       "      <td>0.000</td>\n",
       "      <td>NaN</td>\n",
       "      <td>NaN</td>\n",
       "      <td>NaN</td>\n",
       "      <td>NaN</td>\n",
       "      <td>1.0</td>\n",
       "      <td>14</td>\n",
       "      <td>2</td>\n",
       "    </tr>\n",
       "    <tr>\n",
       "      <th>3435</th>\n",
       "      <td>FF</td>\n",
       "      <td>2016-08-13</td>\n",
       "      <td>93.2</td>\n",
       "      <td>-1.8476</td>\n",
       "      <td>6.0063</td>\n",
       "      <td>Aaron Judge</td>\n",
       "      <td>592450</td>\n",
       "      <td>542882</td>\n",
       "      <td>NaN</td>\n",
       "      <td>called_strike</td>\n",
       "      <td>...</td>\n",
       "      <td>54.4299</td>\n",
       "      <td>0.00</td>\n",
       "      <td>0.000</td>\n",
       "      <td>NaN</td>\n",
       "      <td>NaN</td>\n",
       "      <td>NaN</td>\n",
       "      <td>NaN</td>\n",
       "      <td>NaN</td>\n",
       "      <td>14</td>\n",
       "      <td>1</td>\n",
       "    </tr>\n",
       "  </tbody>\n",
       "</table>\n",
       "<p>3436 rows × 78 columns</p>\n",
       "</div>"
      ],
      "text/plain": [
       "     pitch_type   game_date  release_speed  release_pos_updated_x  \\\n",
       "0            FF  2017-09-30           95.7                -2.3581   \n",
       "1            FF  2017-09-30           96.3                -2.5577   \n",
       "2            FF  2017-09-30           95.2                -2.3861   \n",
       "3            FT  2017-09-30           93.4                 4.2502   \n",
       "4            FT  2017-09-30           92.8                 4.1144   \n",
       "...         ...         ...            ...                    ...   \n",
       "3431         CH  2016-08-13           85.6                -1.9659   \n",
       "3432         CH  2016-08-13           87.6                -1.9318   \n",
       "3433         CH  2016-08-13           87.2                -2.0285   \n",
       "3434         CU  2016-08-13           79.7                -1.7108   \n",
       "3435         FF  2016-08-13           93.2                -1.8476   \n",
       "\n",
       "      release_pos_updated_z  player_name  batter  pitcher     events  \\\n",
       "0                    5.9240  Aaron Judge  592450   608678  strikeout   \n",
       "1                    5.9023  Aaron Judge  592450   608678        NaN   \n",
       "2                    5.8346  Aaron Judge  592450   608678        NaN   \n",
       "3                    4.6506  Aaron Judge  592450   571901       walk   \n",
       "4                    4.4696  Aaron Judge  592450   571901        NaN   \n",
       "...                     ...          ...     ...      ...        ...   \n",
       "3431                 5.9113  Aaron Judge  592450   542882        NaN   \n",
       "3432                 5.9349  Aaron Judge  592450   542882   home_run   \n",
       "3433                 5.8656  Aaron Judge  592450   542882        NaN   \n",
       "3434                 6.1926  Aaron Judge  592450   542882        NaN   \n",
       "3435                 6.0063  Aaron Judge  592450   542882        NaN   \n",
       "\n",
       "              description  ...  release_pos_updated_y  \\\n",
       "0         swinging_strike  ...                54.0129   \n",
       "1           called_strike  ...                54.1114   \n",
       "2           called_strike  ...                54.0285   \n",
       "3                    ball  ...                54.7309   \n",
       "4           called_strike  ...                54.5228   \n",
       "...                   ...  ...                    ...   \n",
       "3431                 ball  ...                54.8144   \n",
       "3432  hit_into_play_score  ...                54.8064   \n",
       "3433                 ball  ...                54.7770   \n",
       "3434                 foul  ...                55.4756   \n",
       "3435        called_strike  ...                54.4299   \n",
       "\n",
       "      estimated_ba_using_speedangle  estimated_woba_using_speedangle  \\\n",
       "0                              0.00                            0.000   \n",
       "1                              0.00                            0.000   \n",
       "2                              0.00                            0.000   \n",
       "3                              0.00                            0.000   \n",
       "4                              0.00                            0.000   \n",
       "...                             ...                              ...   \n",
       "3431                           0.00                            0.000   \n",
       "3432                           0.98                            1.937   \n",
       "3433                           0.00                            0.000   \n",
       "3434                           0.00                            0.000   \n",
       "3435                           0.00                            0.000   \n",
       "\n",
       "      woba_value  woba_denom babip_value iso_value launch_speed_angle  \\\n",
       "0            0.0         1.0         0.0       0.0                NaN   \n",
       "1            NaN         NaN         NaN       NaN                NaN   \n",
       "2            NaN         NaN         NaN       NaN                NaN   \n",
       "3            0.7         1.0         0.0       0.0                NaN   \n",
       "4            NaN         NaN         NaN       NaN                NaN   \n",
       "...          ...         ...         ...       ...                ...   \n",
       "3431         NaN         NaN         NaN       NaN                NaN   \n",
       "3432         2.0         1.0         0.0       3.0                6.0   \n",
       "3433         NaN         NaN         NaN       NaN                NaN   \n",
       "3434         NaN         NaN         NaN       NaN                1.0   \n",
       "3435         NaN         NaN         NaN       NaN                NaN   \n",
       "\n",
       "     at_bat_number pitch_number  \n",
       "0               53            3  \n",
       "1               53            2  \n",
       "2               53            1  \n",
       "3               36            5  \n",
       "4               36            4  \n",
       "...            ...          ...  \n",
       "3431            36            1  \n",
       "3432            14            4  \n",
       "3433            14            3  \n",
       "3434            14            2  \n",
       "3435            14            1  \n",
       "\n",
       "[3436 rows x 78 columns]"
      ]
     },
     "execution_count": 54,
     "metadata": {},
     "output_type": "execute_result"
    }
   ],
   "source": [
    "# For loop to change the names of column in judge where pos is present and change the pos to pos_updated\n",
    "new_col = list()\n",
    "for col_name, col_value in judge.items():\n",
    "    if 'pos' in col_name:\n",
    "        word = re.sub('pos','pos_updated',col_name)\n",
    "        new_col.append(word)\n",
    "    else:\n",
    "        new_col.append(col_name)\n",
    "        \n",
    "judge1 = judge\n",
    "judge1.columns = new_col        \n",
    "        \n",
    "print(new_col)\n",
    "judge1            "
   ]
  },
  {
   "cell_type": "code",
   "execution_count": null,
   "metadata": {},
   "outputs": [
    {
     "name": "stdout",
     "output_type": "stream",
     "text": [
      "RS\n",
      "Ray\n"
     ]
    }
   ],
   "source": []
  },
  {
   "cell_type": "code",
   "execution_count": null,
   "metadata": {},
   "outputs": [
    {
     "data": {
      "text/plain": [
       "dict_items([('Aaron', 'RS'), ('Judge', 'Ray')])"
      ]
     },
     "execution_count": 73,
     "metadata": {},
     "output_type": "execute_result"
    }
   ],
   "source": [
    "dict_repl.items()"
   ]
  },
  {
   "cell_type": "code",
   "execution_count": null,
   "metadata": {},
   "outputs": [
    {
     "data": {
      "text/plain": [
       "Index(['pitch_type', 'game_date', 'release_speed', 'release_pos_x',\n",
       "       'release_pos_z', 'player_name', 'batter', 'pitcher', 'events',\n",
       "       'description', 'spin_dir', 'spin_rate_deprecated',\n",
       "       'break_angle_deprecated', 'break_length_deprecated', 'zone', 'des',\n",
       "       'game_type', 'stand', 'p_throws', 'home_team', 'away_team', 'type',\n",
       "       'hit_location', 'bb_type', 'balls', 'strikes', 'game_year', 'pfx_x',\n",
       "       'pfx_z', 'plate_x', 'plate_z', 'on_3b', 'on_2b', 'on_1b',\n",
       "       'outs_when_up', 'inning', 'inning_topbot', 'hc_x', 'hc_y',\n",
       "       'tfs_deprecated', 'tfs_zulu_deprecated', 'pos2_person_id', 'umpire',\n",
       "       'sv_id', 'vx0', 'vy0', 'vz0', 'ax', 'ay', 'az', 'sz_top', 'sz_bot',\n",
       "       'hit_distance_sc', 'launch_speed', 'launch_angle', 'effective_speed',\n",
       "       'release_spin_rate', 'release_extension', 'game_pk', 'pos1_person_id',\n",
       "       'pos2_person_id.1', 'pos3_person_id', 'pos4_person_id',\n",
       "       'pos5_person_id', 'pos6_person_id', 'pos7_person_id', 'pos8_person_id',\n",
       "       'pos9_person_id', 'release_pos_y', 'estimated_ba_using_speedangle',\n",
       "       'estimated_woba_using_speedangle', 'woba_value', 'woba_denom',\n",
       "       'babip_value', 'iso_value', 'launch_speed_angle', 'at_bat_number',\n",
       "       'pitch_number'],\n",
       "      dtype='object')"
      ]
     },
     "execution_count": 33,
     "metadata": {},
     "output_type": "execute_result"
    }
   ],
   "source": [
    "judge.columns"
   ]
  },
  {
   "cell_type": "code",
   "execution_count": null,
   "metadata": {},
   "outputs": [
    {
     "data": {
      "text/html": [
       "<div>\n",
       "<style scoped>\n",
       "    .dataframe tbody tr th:only-of-type {\n",
       "        vertical-align: middle;\n",
       "    }\n",
       "\n",
       "    .dataframe tbody tr th {\n",
       "        vertical-align: top;\n",
       "    }\n",
       "\n",
       "    .dataframe thead th {\n",
       "        text-align: right;\n",
       "    }\n",
       "</style>\n",
       "<table border=\"1\" class=\"dataframe\">\n",
       "  <thead>\n",
       "    <tr style=\"text-align: right;\">\n",
       "      <th></th>\n",
       "      <th>pitch_type</th>\n",
       "      <th>game_date</th>\n",
       "      <th>release_speed</th>\n",
       "      <th>release_pos_x</th>\n",
       "      <th>release_pos_z</th>\n",
       "      <th>player_name</th>\n",
       "      <th>batter</th>\n",
       "      <th>pitcher</th>\n",
       "      <th>events</th>\n",
       "      <th>description</th>\n",
       "      <th>...</th>\n",
       "      <th>release_pos_y</th>\n",
       "      <th>estimated_ba_using_speedangle</th>\n",
       "      <th>estimated_woba_using_speedangle</th>\n",
       "      <th>woba_value</th>\n",
       "      <th>woba_denom</th>\n",
       "      <th>babip_value</th>\n",
       "      <th>iso_value</th>\n",
       "      <th>launch_speed_angle</th>\n",
       "      <th>at_bat_number</th>\n",
       "      <th>pitch_number</th>\n",
       "    </tr>\n",
       "  </thead>\n",
       "  <tbody>\n",
       "    <tr>\n",
       "      <th>0</th>\n",
       "      <td>SL</td>\n",
       "      <td>2017-10-01</td>\n",
       "      <td>86.4</td>\n",
       "      <td>-1.0592</td>\n",
       "      <td>5.9057</td>\n",
       "      <td>Giancarlo Stanton</td>\n",
       "      <td>519317</td>\n",
       "      <td>527055</td>\n",
       "      <td>strikeout</td>\n",
       "      <td>swinging_strike</td>\n",
       "      <td>...</td>\n",
       "      <td>54.7356</td>\n",
       "      <td>0.000</td>\n",
       "      <td>0.000</td>\n",
       "      <td>0.0</td>\n",
       "      <td>1.0</td>\n",
       "      <td>0.0</td>\n",
       "      <td>0.0</td>\n",
       "      <td>NaN</td>\n",
       "      <td>80</td>\n",
       "      <td>4</td>\n",
       "    </tr>\n",
       "    <tr>\n",
       "      <th>1</th>\n",
       "      <td>FF</td>\n",
       "      <td>2017-10-01</td>\n",
       "      <td>98.1</td>\n",
       "      <td>-1.5517</td>\n",
       "      <td>5.7016</td>\n",
       "      <td>Giancarlo Stanton</td>\n",
       "      <td>519317</td>\n",
       "      <td>527055</td>\n",
       "      <td>NaN</td>\n",
       "      <td>foul</td>\n",
       "      <td>...</td>\n",
       "      <td>54.9704</td>\n",
       "      <td>0.000</td>\n",
       "      <td>0.000</td>\n",
       "      <td>NaN</td>\n",
       "      <td>NaN</td>\n",
       "      <td>NaN</td>\n",
       "      <td>NaN</td>\n",
       "      <td>4.0</td>\n",
       "      <td>80</td>\n",
       "      <td>3</td>\n",
       "    </tr>\n",
       "    <tr>\n",
       "      <th>2</th>\n",
       "      <td>FT</td>\n",
       "      <td>2017-10-01</td>\n",
       "      <td>97.0</td>\n",
       "      <td>-1.3408</td>\n",
       "      <td>5.6190</td>\n",
       "      <td>Giancarlo Stanton</td>\n",
       "      <td>519317</td>\n",
       "      <td>527055</td>\n",
       "      <td>NaN</td>\n",
       "      <td>foul</td>\n",
       "      <td>...</td>\n",
       "      <td>54.3777</td>\n",
       "      <td>0.000</td>\n",
       "      <td>0.000</td>\n",
       "      <td>NaN</td>\n",
       "      <td>NaN</td>\n",
       "      <td>NaN</td>\n",
       "      <td>NaN</td>\n",
       "      <td>NaN</td>\n",
       "      <td>80</td>\n",
       "      <td>2</td>\n",
       "    </tr>\n",
       "    <tr>\n",
       "      <th>3</th>\n",
       "      <td>FT</td>\n",
       "      <td>2017-10-01</td>\n",
       "      <td>98.0</td>\n",
       "      <td>-1.4515</td>\n",
       "      <td>5.8013</td>\n",
       "      <td>Giancarlo Stanton</td>\n",
       "      <td>519317</td>\n",
       "      <td>527055</td>\n",
       "      <td>NaN</td>\n",
       "      <td>foul</td>\n",
       "      <td>...</td>\n",
       "      <td>54.6421</td>\n",
       "      <td>0.000</td>\n",
       "      <td>0.000</td>\n",
       "      <td>NaN</td>\n",
       "      <td>NaN</td>\n",
       "      <td>NaN</td>\n",
       "      <td>NaN</td>\n",
       "      <td>3.0</td>\n",
       "      <td>80</td>\n",
       "      <td>1</td>\n",
       "    </tr>\n",
       "    <tr>\n",
       "      <th>4</th>\n",
       "      <td>FT</td>\n",
       "      <td>2017-10-01</td>\n",
       "      <td>94.2</td>\n",
       "      <td>-0.9315</td>\n",
       "      <td>7.0124</td>\n",
       "      <td>Giancarlo Stanton</td>\n",
       "      <td>519317</td>\n",
       "      <td>462382</td>\n",
       "      <td>field_out</td>\n",
       "      <td>hit_into_play</td>\n",
       "      <td>...</td>\n",
       "      <td>54.6464</td>\n",
       "      <td>0.048</td>\n",
       "      <td>0.045</td>\n",
       "      <td>0.0</td>\n",
       "      <td>1.0</td>\n",
       "      <td>0.0</td>\n",
       "      <td>0.0</td>\n",
       "      <td>2.0</td>\n",
       "      <td>64</td>\n",
       "      <td>6</td>\n",
       "    </tr>\n",
       "    <tr>\n",
       "      <th>...</th>\n",
       "      <td>...</td>\n",
       "      <td>...</td>\n",
       "      <td>...</td>\n",
       "      <td>...</td>\n",
       "      <td>...</td>\n",
       "      <td>...</td>\n",
       "      <td>...</td>\n",
       "      <td>...</td>\n",
       "      <td>...</td>\n",
       "      <td>...</td>\n",
       "      <td>...</td>\n",
       "      <td>...</td>\n",
       "      <td>...</td>\n",
       "      <td>...</td>\n",
       "      <td>...</td>\n",
       "      <td>...</td>\n",
       "      <td>...</td>\n",
       "      <td>...</td>\n",
       "      <td>...</td>\n",
       "      <td>...</td>\n",
       "      <td>...</td>\n",
       "    </tr>\n",
       "    <tr>\n",
       "      <th>95</th>\n",
       "      <td>CH</td>\n",
       "      <td>2017-09-26</td>\n",
       "      <td>79.7</td>\n",
       "      <td>1.9553</td>\n",
       "      <td>6.2379</td>\n",
       "      <td>Giancarlo Stanton</td>\n",
       "      <td>519317</td>\n",
       "      <td>542881</td>\n",
       "      <td>NaN</td>\n",
       "      <td>called_strike</td>\n",
       "      <td>...</td>\n",
       "      <td>55.0172</td>\n",
       "      <td>0.000</td>\n",
       "      <td>0.000</td>\n",
       "      <td>NaN</td>\n",
       "      <td>NaN</td>\n",
       "      <td>NaN</td>\n",
       "      <td>NaN</td>\n",
       "      <td>NaN</td>\n",
       "      <td>25</td>\n",
       "      <td>1</td>\n",
       "    </tr>\n",
       "    <tr>\n",
       "      <th>96</th>\n",
       "      <td>CH</td>\n",
       "      <td>2017-09-26</td>\n",
       "      <td>82.8</td>\n",
       "      <td>1.7026</td>\n",
       "      <td>6.3230</td>\n",
       "      <td>Giancarlo Stanton</td>\n",
       "      <td>519317</td>\n",
       "      <td>542881</td>\n",
       "      <td>field_out</td>\n",
       "      <td>hit_into_play</td>\n",
       "      <td>...</td>\n",
       "      <td>54.9022</td>\n",
       "      <td>0.057</td>\n",
       "      <td>0.053</td>\n",
       "      <td>0.0</td>\n",
       "      <td>1.0</td>\n",
       "      <td>0.0</td>\n",
       "      <td>0.0</td>\n",
       "      <td>2.0</td>\n",
       "      <td>2</td>\n",
       "      <td>6</td>\n",
       "    </tr>\n",
       "    <tr>\n",
       "      <th>97</th>\n",
       "      <td>FF</td>\n",
       "      <td>2017-09-26</td>\n",
       "      <td>91.7</td>\n",
       "      <td>1.9910</td>\n",
       "      <td>6.0800</td>\n",
       "      <td>Giancarlo Stanton</td>\n",
       "      <td>519317</td>\n",
       "      <td>542881</td>\n",
       "      <td>NaN</td>\n",
       "      <td>called_strike</td>\n",
       "      <td>...</td>\n",
       "      <td>54.5563</td>\n",
       "      <td>0.000</td>\n",
       "      <td>0.000</td>\n",
       "      <td>NaN</td>\n",
       "      <td>NaN</td>\n",
       "      <td>NaN</td>\n",
       "      <td>NaN</td>\n",
       "      <td>NaN</td>\n",
       "      <td>2</td>\n",
       "      <td>5</td>\n",
       "    </tr>\n",
       "    <tr>\n",
       "      <th>98</th>\n",
       "      <td>FT</td>\n",
       "      <td>2017-09-26</td>\n",
       "      <td>90.9</td>\n",
       "      <td>1.7438</td>\n",
       "      <td>6.2052</td>\n",
       "      <td>Giancarlo Stanton</td>\n",
       "      <td>519317</td>\n",
       "      <td>542881</td>\n",
       "      <td>NaN</td>\n",
       "      <td>foul</td>\n",
       "      <td>...</td>\n",
       "      <td>54.4777</td>\n",
       "      <td>0.000</td>\n",
       "      <td>0.000</td>\n",
       "      <td>NaN</td>\n",
       "      <td>NaN</td>\n",
       "      <td>NaN</td>\n",
       "      <td>NaN</td>\n",
       "      <td>5.0</td>\n",
       "      <td>2</td>\n",
       "      <td>4</td>\n",
       "    </tr>\n",
       "    <tr>\n",
       "      <th>99</th>\n",
       "      <td>CH</td>\n",
       "      <td>2017-09-26</td>\n",
       "      <td>80.6</td>\n",
       "      <td>1.8867</td>\n",
       "      <td>6.2411</td>\n",
       "      <td>Giancarlo Stanton</td>\n",
       "      <td>519317</td>\n",
       "      <td>542881</td>\n",
       "      <td>NaN</td>\n",
       "      <td>ball</td>\n",
       "      <td>...</td>\n",
       "      <td>54.7996</td>\n",
       "      <td>0.000</td>\n",
       "      <td>0.000</td>\n",
       "      <td>NaN</td>\n",
       "      <td>NaN</td>\n",
       "      <td>NaN</td>\n",
       "      <td>NaN</td>\n",
       "      <td>NaN</td>\n",
       "      <td>2</td>\n",
       "      <td>3</td>\n",
       "    </tr>\n",
       "  </tbody>\n",
       "</table>\n",
       "<p>100 rows × 78 columns</p>\n",
       "</div>"
      ],
      "text/plain": [
       "   pitch_type   game_date  release_speed  release_pos_x  release_pos_z  \\\n",
       "0          SL  2017-10-01           86.4        -1.0592         5.9057   \n",
       "1          FF  2017-10-01           98.1        -1.5517         5.7016   \n",
       "2          FT  2017-10-01           97.0        -1.3408         5.6190   \n",
       "3          FT  2017-10-01           98.0        -1.4515         5.8013   \n",
       "4          FT  2017-10-01           94.2        -0.9315         7.0124   \n",
       "..        ...         ...            ...            ...            ...   \n",
       "95         CH  2017-09-26           79.7         1.9553         6.2379   \n",
       "96         CH  2017-09-26           82.8         1.7026         6.3230   \n",
       "97         FF  2017-09-26           91.7         1.9910         6.0800   \n",
       "98         FT  2017-09-26           90.9         1.7438         6.2052   \n",
       "99         CH  2017-09-26           80.6         1.8867         6.2411   \n",
       "\n",
       "          player_name  batter  pitcher     events      description  ...  \\\n",
       "0   Giancarlo Stanton  519317   527055  strikeout  swinging_strike  ...   \n",
       "1   Giancarlo Stanton  519317   527055        NaN             foul  ...   \n",
       "2   Giancarlo Stanton  519317   527055        NaN             foul  ...   \n",
       "3   Giancarlo Stanton  519317   527055        NaN             foul  ...   \n",
       "4   Giancarlo Stanton  519317   462382  field_out    hit_into_play  ...   \n",
       "..                ...     ...      ...        ...              ...  ...   \n",
       "95  Giancarlo Stanton  519317   542881        NaN    called_strike  ...   \n",
       "96  Giancarlo Stanton  519317   542881  field_out    hit_into_play  ...   \n",
       "97  Giancarlo Stanton  519317   542881        NaN    called_strike  ...   \n",
       "98  Giancarlo Stanton  519317   542881        NaN             foul  ...   \n",
       "99  Giancarlo Stanton  519317   542881        NaN             ball  ...   \n",
       "\n",
       "    release_pos_y  estimated_ba_using_speedangle  \\\n",
       "0         54.7356                          0.000   \n",
       "1         54.9704                          0.000   \n",
       "2         54.3777                          0.000   \n",
       "3         54.6421                          0.000   \n",
       "4         54.6464                          0.048   \n",
       "..            ...                            ...   \n",
       "95        55.0172                          0.000   \n",
       "96        54.9022                          0.057   \n",
       "97        54.5563                          0.000   \n",
       "98        54.4777                          0.000   \n",
       "99        54.7996                          0.000   \n",
       "\n",
       "    estimated_woba_using_speedangle  woba_value  woba_denom babip_value  \\\n",
       "0                             0.000         0.0         1.0         0.0   \n",
       "1                             0.000         NaN         NaN         NaN   \n",
       "2                             0.000         NaN         NaN         NaN   \n",
       "3                             0.000         NaN         NaN         NaN   \n",
       "4                             0.045         0.0         1.0         0.0   \n",
       "..                              ...         ...         ...         ...   \n",
       "95                            0.000         NaN         NaN         NaN   \n",
       "96                            0.053         0.0         1.0         0.0   \n",
       "97                            0.000         NaN         NaN         NaN   \n",
       "98                            0.000         NaN         NaN         NaN   \n",
       "99                            0.000         NaN         NaN         NaN   \n",
       "\n",
       "   iso_value launch_speed_angle at_bat_number pitch_number  \n",
       "0        0.0                NaN            80            4  \n",
       "1        NaN                4.0            80            3  \n",
       "2        NaN                NaN            80            2  \n",
       "3        NaN                3.0            80            1  \n",
       "4        0.0                2.0            64            6  \n",
       "..       ...                ...           ...          ...  \n",
       "95       NaN                NaN            25            1  \n",
       "96       0.0                2.0             2            6  \n",
       "97       NaN                NaN             2            5  \n",
       "98       NaN                5.0             2            4  \n",
       "99       NaN                NaN             2            3  \n",
       "\n",
       "[100 rows x 78 columns]"
      ]
     },
     "execution_count": 30,
     "metadata": {},
     "output_type": "execute_result"
    }
   ],
   "source": [
    "stanton.head(100)"
   ]
  },
  {
   "cell_type": "markdown",
   "metadata": {},
   "source": [
    "Strings:\n",
    "\n",
    "1. Reverse a string word by word: \"Hello world\" -> \"world Hello\"\n",
    "2. Replace vowels with their uppercase counterparts: \"apple\" -> \"ApPlE\"\n",
    "3. Extract all numbers from a string: \"There are 3 apples and 2 bananas.\" -> [3, 2]\n",
    "4. Count occurrences of each character: \"Mississippi\" -> {'M': 1, 'i': 4, 's': 4, 'p': 2, 'a': 1}\n",
    "5. Create a Caesar cipher encryption/decryption: Shift characters by a given number\n",
    "\n",
    "DataFrames:\n",
    "\n",
    "1. Calculate average of each column: Print average values for each column\n",
    "2. Filter rows based on multiple conditions: Select rows where two columns meet specific criteria\n",
    "3. Find unique values in a specific column: List all unique values in a chosen column\n",
    "4. Group rows by a column and calculate summary statistics: Group by category and show mean, std, etc. for numerical columns\n",
    "5. Join two DataFrames on a common column: Merge data based on shared information\n",
    "\n",
    "Dictionaries:\n",
    "\n",
    "1. Sort dictionary by keys or values: Order alphabetically or by numerical value\n",
    "2. Create a new dictionary with reversed key-value pairs: \"a\": 1 -> {1: \"a\"}\n",
    "3. Find the most frequent key-value pair: Identify the key with the highest associated value\n",
    "4. Remove all keys with empty values: Clean the dictionary for further analysis\n",
    "5. Update values based on specific conditions: Change values that meet certain criteria\n",
    "\n",
    "Lists:\n",
    "\n",
    "1. Remove duplicate elements from a list: Keep only unique values\n",
    "2. Find the longest substring without repeating characters: \"abcabcbb\" -> \"abc\"\n",
    "3. Flatten a nested list: Convert [[1, 2], [3, 4]] to [1, 2, 3, 4]\n",
    "4. Calculate the factorial of a number: 5! = 120\n",
    "5. Generate a Fibonacci sequence up to a limit: [0, 1, 1, 2, 3, 5, ...]\n",
    "\n",
    "Text Manipulation:\n",
    "\n",
    "1. Clean text data by removing punctuation and stop words: Prepare text for analysis\n",
    "2. Tokenize a sentence into words: Split \"This is a sentence.\" into [\"This\", \"is\", \"a\", \"sentence.\"]\n",
    "3. Perform named entity recognition (NER): Identify entities like people, locations, etc.\n",
    "4. Stem or lemmatize words: Normalize words to their base form\n",
    "5. Calculate document similarity using TF-IDF: Compare textual content\n",
    "\n",
    "Combined:\n",
    "\n",
    "1. Convert a string to a dictionary based on key-value pairs: \"name=John,age=30\" -> {\"name\": \"John\", \"age\": 30}\n",
    "2. Iterate through a DataFrame and build a list of dictionaries: Extract specific data into a new format\n",
    "3. Combine elements from dictionaries in a list based on a common key: Merge data from multiple sources\n",
    "4. Create a nested dictionary structure from a list of lists: Organize hierarchical data\n",
    "5. Use a for loop to build a regular expression pattern: Match complex patterns in text\n",
    "\n",
    "Advanced:\n",
    "\n",
    "1. Use a for loop with enumerate to access both index and value in a list: Efficient iteration with index tracking\n",
    "2. Implement a generator expression for concise data manipulation: Create iterables efficiently\n",
    "3. Combine for loops with list comprehensions for complex data transformations: Build complex data structures in a single line\n",
    "4. Use recursion with for loops to solve problems like tree traversal: Solve problems requiring backtracking\n",
    "5. Write a custom progress bar using a for loop and print statements: Track computational progress for user feedback\n",
    "\n",
    "Bonus:\n",
    "\n",
    "Create a word cloud visualization from a list of words: Visually represent word frequencies\n",
    "Build a simple chatbot using nested for loops and conditional statements: Respond to user input in a structured way\n",
    "Scrape data from a website using for loops and libraries like Beautiful Soup: Extract information from web pages\n",
    "Solve a classic algorithm problem like sorting or searching using for loops: Implement"
   ]
  },
  {
   "cell_type": "code",
   "execution_count": null,
   "metadata": {},
   "outputs": [
    {
     "name": "stdout",
     "output_type": "stream",
     "text": [
      "['poo', 'car', 'caz', 'pool', 'fig', 'ab123', 'ab123@', 'rans']\n"
     ]
    }
   ],
   "source": [
    "# if foo and ba are found replace them with poo and ca, with flagging (is_modified is a flag)\n",
    "# if break statement is used in for loop)\n",
    "# creating dictionary for replacement\n",
    "\n",
    "repl_ = {\n",
    "    \"foo\":\"poo\",\n",
    "    \"ba\":\"ca\"\n",
    "}\n",
    "\n",
    "names = [\"foo\", \"bar\", \"baz\", \"fool\", \"fig\", \"ab123\", 'ab123@', \"rans\"]\n",
    "\n",
    "new_lst = []\n",
    "for i in names:\n",
    "    is_modified = False\n",
    "    for key, value in repl_.items():\n",
    "        if key in i:\n",
    "            word = re.sub(key,value,i)\n",
    "            is_modified = True\n",
    "            new_lst.append(word)\n",
    "            break\n",
    "    if not is_modified:\n",
    "        new_lst.append(i)    \n",
    "    #else:\n",
    "        #new_lst.append(word) \n",
    "            \n",
    "print(new_lst)                        "
   ]
  },
  {
   "cell_type": "code",
   "execution_count": 16,
   "metadata": {},
   "outputs": [],
   "source": [
    "# For loop on des to replace where Aaron is found to replace it with RS and Judge with Ray\n",
    "\n",
    "dict_repl = {\n",
    "    'Aaron': 'RS',\n",
    "    'Judge': 'Ray'\n",
    "}\n",
    "\n",
    "judge1 = judge\n",
    "judge1[\"des\"] = judge1[\"des\"].replace(np.nan, \" \")"
   ]
  },
  {
   "cell_type": "code",
   "execution_count": null,
   "metadata": {},
   "outputs": [],
   "source": []
  },
  {
   "cell_type": "code",
   "execution_count": null,
   "metadata": {},
   "outputs": [
    {
     "data": {
      "text/html": [
       "<div>\n",
       "<style scoped>\n",
       "    .dataframe tbody tr th:only-of-type {\n",
       "        vertical-align: middle;\n",
       "    }\n",
       "\n",
       "    .dataframe tbody tr th {\n",
       "        vertical-align: top;\n",
       "    }\n",
       "\n",
       "    .dataframe thead th {\n",
       "        text-align: right;\n",
       "    }\n",
       "</style>\n",
       "<table border=\"1\" class=\"dataframe\">\n",
       "  <thead>\n",
       "    <tr style=\"text-align: right;\">\n",
       "      <th></th>\n",
       "      <th>des</th>\n",
       "    </tr>\n",
       "  </thead>\n",
       "  <tbody>\n",
       "    <tr>\n",
       "      <th>0</th>\n",
       "      <td>Aaron Judge strikes out swinging.</td>\n",
       "    </tr>\n",
       "    <tr>\n",
       "      <th>1</th>\n",
       "      <td>None</td>\n",
       "    </tr>\n",
       "    <tr>\n",
       "      <th>2</th>\n",
       "      <td>None</td>\n",
       "    </tr>\n",
       "    <tr>\n",
       "      <th>3</th>\n",
       "      <td>Aaron Judge walks.   Aaron Hicks to 2nd.</td>\n",
       "    </tr>\n",
       "    <tr>\n",
       "      <th>4</th>\n",
       "      <td>None</td>\n",
       "    </tr>\n",
       "  </tbody>\n",
       "</table>\n",
       "</div>"
      ],
      "text/plain": [
       "                                          des\n",
       "0         Aaron Judge strikes out swinging.  \n",
       "1                                        None\n",
       "2                                        None\n",
       "3  Aaron Judge walks.   Aaron Hicks to 2nd.  \n",
       "4                                        None"
      ]
     },
     "execution_count": 110,
     "metadata": {},
     "output_type": "execute_result"
    }
   ],
   "source": [
    "judge1[[\"des\"]].head()"
   ]
  },
  {
   "cell_type": "code",
   "execution_count": 24,
   "metadata": {},
   "outputs": [
    {
     "ename": "TypeError",
     "evalue": "expected string or bytes-like object, got 'list'",
     "output_type": "error",
     "traceback": [
      "\u001b[1;31m---------------------------------------------------------------------------\u001b[0m",
      "\u001b[1;31mTypeError\u001b[0m                                 Traceback (most recent call last)",
      "Cell \u001b[1;32mIn[24], line 27\u001b[0m\n\u001b[0;32m     24\u001b[0m     compl_string\u001b[38;5;241m.\u001b[39mappend(sent)    \n\u001b[0;32m     26\u001b[0m \u001b[38;5;66;03m# replacement_string(text)\u001b[39;00m\n\u001b[1;32m---> 27\u001b[0m \u001b[43mreplacement_string\u001b[49m\u001b[43m(\u001b[49m\u001b[43mtext1\u001b[49m\u001b[43m)\u001b[49m\n",
      "Cell \u001b[1;32mIn[24], line 10\u001b[0m, in \u001b[0;36mreplacement_string\u001b[1;34m(text1)\u001b[0m\n\u001b[0;32m      8\u001b[0m compl_string \u001b[38;5;241m=\u001b[39m []\n\u001b[0;32m      9\u001b[0m \u001b[38;5;28;01mfor\u001b[39;00m i \u001b[38;5;129;01min\u001b[39;00m text1:\n\u001b[1;32m---> 10\u001b[0m     text_list \u001b[38;5;241m=\u001b[39m \u001b[43mre\u001b[49m\u001b[38;5;241;43m.\u001b[39;49m\u001b[43msplit\u001b[49m\u001b[43m(\u001b[49m\u001b[38;5;124;43m\"\u001b[39;49m\u001b[38;5;124;43m \u001b[39;49m\u001b[38;5;124;43m\"\u001b[39;49m\u001b[43m,\u001b[49m\u001b[43mtext1\u001b[49m\u001b[43m)\u001b[49m \u001b[38;5;66;03m# first the text is splitted to form a list [] [\"strikes\", \"Aaron\", \"Judge\", \"out\", \"swinging\"]\u001b[39;00m\n\u001b[0;32m     11\u001b[0m     new_text \u001b[38;5;241m=\u001b[39m []\n\u001b[0;32m     12\u001b[0m     \u001b[38;5;28;01mfor\u001b[39;00m text \u001b[38;5;129;01min\u001b[39;00m text_list: \u001b[38;5;66;03m# 1. \"strikes\" in [\"strikes\", \"Aaron\", \"Judge\", \"out\", \"swinging\"]\u001b[39;00m\n",
      "File \u001b[1;32mc:\\Users\\Ransingh\\AppData\\Local\\Programs\\Python\\Python312\\Lib\\re\\__init__.py:207\u001b[0m, in \u001b[0;36msplit\u001b[1;34m(pattern, string, maxsplit, flags)\u001b[0m\n\u001b[0;32m    199\u001b[0m \u001b[38;5;28;01mdef\u001b[39;00m \u001b[38;5;21msplit\u001b[39m(pattern, string, maxsplit\u001b[38;5;241m=\u001b[39m\u001b[38;5;241m0\u001b[39m, flags\u001b[38;5;241m=\u001b[39m\u001b[38;5;241m0\u001b[39m):\n\u001b[0;32m    200\u001b[0m \u001b[38;5;250m    \u001b[39m\u001b[38;5;124;03m\"\"\"Split the source string by the occurrences of the pattern,\u001b[39;00m\n\u001b[0;32m    201\u001b[0m \u001b[38;5;124;03m    returning a list containing the resulting substrings.  If\u001b[39;00m\n\u001b[0;32m    202\u001b[0m \u001b[38;5;124;03m    capturing parentheses are used in pattern, then the text of all\u001b[39;00m\n\u001b[1;32m   (...)\u001b[0m\n\u001b[0;32m    205\u001b[0m \u001b[38;5;124;03m    and the remainder of the string is returned as the final element\u001b[39;00m\n\u001b[0;32m    206\u001b[0m \u001b[38;5;124;03m    of the list.\"\"\"\u001b[39;00m\n\u001b[1;32m--> 207\u001b[0m     \u001b[38;5;28;01mreturn\u001b[39;00m \u001b[43m_compile\u001b[49m\u001b[43m(\u001b[49m\u001b[43mpattern\u001b[49m\u001b[43m,\u001b[49m\u001b[43m \u001b[49m\u001b[43mflags\u001b[49m\u001b[43m)\u001b[49m\u001b[38;5;241;43m.\u001b[39;49m\u001b[43msplit\u001b[49m\u001b[43m(\u001b[49m\u001b[43mstring\u001b[49m\u001b[43m,\u001b[49m\u001b[43m \u001b[49m\u001b[43mmaxsplit\u001b[49m\u001b[43m)\u001b[49m\n",
      "\u001b[1;31mTypeError\u001b[0m: expected string or bytes-like object, got 'list'"
     ]
    }
   ],
   "source": [
    "import re\n",
    "\n",
    "\n",
    "\n",
    "text = \"Ransingh Aaron Study Python\"\n",
    "\n",
    "for i in text1:\n",
    "        text_list = re.split(\" \",text1) # first the text is splitted to form a list [] [\"strikes\", \"Aaron\", \"Judge\", \"out\", \"swinging\"]\n",
    "        new_text = []\n",
    "        for text in text_list: # 1. \"strikes\" in [\"strikes\", \"Aaron\", \"Judge\", \"out\", \"swinging\"]\n",
    "            is_modified = False # initializing is_modified to False\n",
    "            for key, value in dict_repl.items(): # key -> 1. \"Aaron\", 2. \"Judge\" , value -> 1. \"RS\", 2. \"Ray\" \n",
    "                if key in text: # Aaron in strikes , for Judge in strike => break,  # Aaron in Aeron , Judge in Aeron\n",
    "                    is_modified = True # False => break                             # True\n",
    "                    new_word = re.sub(key,value,text)                               # Aaron to RS,\n",
    "                    new_text.append(new_word)                                       # [\"strike\", \"RS\", ]\n",
    "                    break\n",
    "            if is_modified == False: # this is run only if break statement is reached\n",
    "                new_text.append(text)            # strike                                         \n",
    "        \n",
    "    sent =  \" \".join(new_text)\n",
    "   \n",
    "\n",
    "# replacement_string(text)\n",
    "replacement_string(text)"
   ]
  },
  {
   "cell_type": "code",
   "execution_count": null,
   "metadata": {},
   "outputs": [],
   "source": [
    "\n",
    "    "
   ]
  },
  {
   "cell_type": "code",
   "execution_count": 10,
   "metadata": {},
   "outputs": [],
   "source": [
    "import pandas as pd\n",
    "judge = pd.read_csv(\"./basketball/judge.csv\")"
   ]
  },
  {
   "cell_type": "code",
   "execution_count": 11,
   "metadata": {},
   "outputs": [],
   "source": [
    "judge2 = judge.loc[:100]"
   ]
  },
  {
   "cell_type": "code",
   "execution_count": 19,
   "metadata": {},
   "outputs": [
    {
     "name": "stderr",
     "output_type": "stream",
     "text": [
      "C:\\Users\\Ransingh\\AppData\\Local\\Temp\\ipykernel_37860\\4129444303.py:1: SettingWithCopyWarning: \n",
      "A value is trying to be set on a copy of a slice from a DataFrame.\n",
      "Try using .loc[row_indexer,col_indexer] = value instead\n",
      "\n",
      "See the caveats in the documentation: https://pandas.pydata.org/pandas-docs/stable/user_guide/indexing.html#returning-a-view-versus-a-copy\n",
      "  judge2['des'] = judge2['des'].replace(np.nan,\" \")\n"
     ]
    }
   ],
   "source": [
    "judge2['des'] = judge2['des'].replace(np.nan,\" \")"
   ]
  },
  {
   "cell_type": "code",
   "execution_count": 20,
   "metadata": {},
   "outputs": [
    {
     "data": {
      "text/plain": [
       "0             Aaron Judge strikes out swinging.  \n",
       "1                                                \n",
       "2                                                \n",
       "3      Aaron Judge walks.   Aaron Hicks to 2nd.  \n",
       "4                                                \n",
       "                          ...                    \n",
       "96                                               \n",
       "97                           Aaron Judge walks.  \n",
       "98                                               \n",
       "99                                               \n",
       "100                                              \n",
       "Name: des, Length: 101, dtype: object"
      ]
     },
     "execution_count": 20,
     "metadata": {},
     "output_type": "execute_result"
    }
   ],
   "source": [
    "judge2['des']"
   ]
  },
  {
   "cell_type": "code",
   "execution_count": 12,
   "metadata": {},
   "outputs": [
    {
     "data": {
      "text/html": [
       "<div>\n",
       "<style scoped>\n",
       "    .dataframe tbody tr th:only-of-type {\n",
       "        vertical-align: middle;\n",
       "    }\n",
       "\n",
       "    .dataframe tbody tr th {\n",
       "        vertical-align: top;\n",
       "    }\n",
       "\n",
       "    .dataframe thead th {\n",
       "        text-align: right;\n",
       "    }\n",
       "</style>\n",
       "<table border=\"1\" class=\"dataframe\">\n",
       "  <thead>\n",
       "    <tr style=\"text-align: right;\">\n",
       "      <th></th>\n",
       "      <th>pitch_type</th>\n",
       "      <th>game_date</th>\n",
       "      <th>release_speed</th>\n",
       "      <th>release_pos_x</th>\n",
       "      <th>release_pos_z</th>\n",
       "      <th>player_name</th>\n",
       "      <th>batter</th>\n",
       "      <th>pitcher</th>\n",
       "      <th>events</th>\n",
       "      <th>description</th>\n",
       "      <th>...</th>\n",
       "      <th>release_pos_y</th>\n",
       "      <th>estimated_ba_using_speedangle</th>\n",
       "      <th>estimated_woba_using_speedangle</th>\n",
       "      <th>woba_value</th>\n",
       "      <th>woba_denom</th>\n",
       "      <th>babip_value</th>\n",
       "      <th>iso_value</th>\n",
       "      <th>launch_speed_angle</th>\n",
       "      <th>at_bat_number</th>\n",
       "      <th>pitch_number</th>\n",
       "    </tr>\n",
       "  </thead>\n",
       "  <tbody>\n",
       "    <tr>\n",
       "      <th>0</th>\n",
       "      <td>FF</td>\n",
       "      <td>2017-09-30</td>\n",
       "      <td>95.7</td>\n",
       "      <td>-2.3581</td>\n",
       "      <td>5.9240</td>\n",
       "      <td>Aaron Judge</td>\n",
       "      <td>592450</td>\n",
       "      <td>608678</td>\n",
       "      <td>strikeout</td>\n",
       "      <td>swinging_strike</td>\n",
       "      <td>...</td>\n",
       "      <td>54.0129</td>\n",
       "      <td>0.0</td>\n",
       "      <td>0.0</td>\n",
       "      <td>0.0</td>\n",
       "      <td>1.0</td>\n",
       "      <td>0.0</td>\n",
       "      <td>0.0</td>\n",
       "      <td>NaN</td>\n",
       "      <td>53</td>\n",
       "      <td>3</td>\n",
       "    </tr>\n",
       "    <tr>\n",
       "      <th>1</th>\n",
       "      <td>FF</td>\n",
       "      <td>2017-09-30</td>\n",
       "      <td>96.3</td>\n",
       "      <td>-2.5577</td>\n",
       "      <td>5.9023</td>\n",
       "      <td>Aaron Judge</td>\n",
       "      <td>592450</td>\n",
       "      <td>608678</td>\n",
       "      <td>NaN</td>\n",
       "      <td>called_strike</td>\n",
       "      <td>...</td>\n",
       "      <td>54.1114</td>\n",
       "      <td>0.0</td>\n",
       "      <td>0.0</td>\n",
       "      <td>NaN</td>\n",
       "      <td>NaN</td>\n",
       "      <td>NaN</td>\n",
       "      <td>NaN</td>\n",
       "      <td>NaN</td>\n",
       "      <td>53</td>\n",
       "      <td>2</td>\n",
       "    </tr>\n",
       "    <tr>\n",
       "      <th>2</th>\n",
       "      <td>FF</td>\n",
       "      <td>2017-09-30</td>\n",
       "      <td>95.2</td>\n",
       "      <td>-2.3861</td>\n",
       "      <td>5.8346</td>\n",
       "      <td>Aaron Judge</td>\n",
       "      <td>592450</td>\n",
       "      <td>608678</td>\n",
       "      <td>NaN</td>\n",
       "      <td>called_strike</td>\n",
       "      <td>...</td>\n",
       "      <td>54.0285</td>\n",
       "      <td>0.0</td>\n",
       "      <td>0.0</td>\n",
       "      <td>NaN</td>\n",
       "      <td>NaN</td>\n",
       "      <td>NaN</td>\n",
       "      <td>NaN</td>\n",
       "      <td>NaN</td>\n",
       "      <td>53</td>\n",
       "      <td>1</td>\n",
       "    </tr>\n",
       "    <tr>\n",
       "      <th>3</th>\n",
       "      <td>FT</td>\n",
       "      <td>2017-09-30</td>\n",
       "      <td>93.4</td>\n",
       "      <td>4.2502</td>\n",
       "      <td>4.6506</td>\n",
       "      <td>Aaron Judge</td>\n",
       "      <td>592450</td>\n",
       "      <td>571901</td>\n",
       "      <td>walk</td>\n",
       "      <td>ball</td>\n",
       "      <td>...</td>\n",
       "      <td>54.7309</td>\n",
       "      <td>0.0</td>\n",
       "      <td>0.0</td>\n",
       "      <td>0.7</td>\n",
       "      <td>1.0</td>\n",
       "      <td>0.0</td>\n",
       "      <td>0.0</td>\n",
       "      <td>NaN</td>\n",
       "      <td>36</td>\n",
       "      <td>5</td>\n",
       "    </tr>\n",
       "    <tr>\n",
       "      <th>4</th>\n",
       "      <td>FT</td>\n",
       "      <td>2017-09-30</td>\n",
       "      <td>92.8</td>\n",
       "      <td>4.1144</td>\n",
       "      <td>4.4696</td>\n",
       "      <td>Aaron Judge</td>\n",
       "      <td>592450</td>\n",
       "      <td>571901</td>\n",
       "      <td>NaN</td>\n",
       "      <td>called_strike</td>\n",
       "      <td>...</td>\n",
       "      <td>54.5228</td>\n",
       "      <td>0.0</td>\n",
       "      <td>0.0</td>\n",
       "      <td>NaN</td>\n",
       "      <td>NaN</td>\n",
       "      <td>NaN</td>\n",
       "      <td>NaN</td>\n",
       "      <td>NaN</td>\n",
       "      <td>36</td>\n",
       "      <td>4</td>\n",
       "    </tr>\n",
       "    <tr>\n",
       "      <th>...</th>\n",
       "      <td>...</td>\n",
       "      <td>...</td>\n",
       "      <td>...</td>\n",
       "      <td>...</td>\n",
       "      <td>...</td>\n",
       "      <td>...</td>\n",
       "      <td>...</td>\n",
       "      <td>...</td>\n",
       "      <td>...</td>\n",
       "      <td>...</td>\n",
       "      <td>...</td>\n",
       "      <td>...</td>\n",
       "      <td>...</td>\n",
       "      <td>...</td>\n",
       "      <td>...</td>\n",
       "      <td>...</td>\n",
       "      <td>...</td>\n",
       "      <td>...</td>\n",
       "      <td>...</td>\n",
       "      <td>...</td>\n",
       "      <td>...</td>\n",
       "    </tr>\n",
       "    <tr>\n",
       "      <th>96</th>\n",
       "      <td>CH</td>\n",
       "      <td>2017-09-26</td>\n",
       "      <td>90.7</td>\n",
       "      <td>2.2751</td>\n",
       "      <td>6.6861</td>\n",
       "      <td>Aaron Judge</td>\n",
       "      <td>592450</td>\n",
       "      <td>605483</td>\n",
       "      <td>NaN</td>\n",
       "      <td>swinging_strike</td>\n",
       "      <td>...</td>\n",
       "      <td>53.9781</td>\n",
       "      <td>0.0</td>\n",
       "      <td>0.0</td>\n",
       "      <td>NaN</td>\n",
       "      <td>NaN</td>\n",
       "      <td>NaN</td>\n",
       "      <td>NaN</td>\n",
       "      <td>NaN</td>\n",
       "      <td>8</td>\n",
       "      <td>1</td>\n",
       "    </tr>\n",
       "    <tr>\n",
       "      <th>97</th>\n",
       "      <td>FF</td>\n",
       "      <td>2017-09-25</td>\n",
       "      <td>92.1</td>\n",
       "      <td>-1.4879</td>\n",
       "      <td>5.9310</td>\n",
       "      <td>Aaron Judge</td>\n",
       "      <td>592450</td>\n",
       "      <td>573046</td>\n",
       "      <td>walk</td>\n",
       "      <td>ball</td>\n",
       "      <td>...</td>\n",
       "      <td>53.8953</td>\n",
       "      <td>0.0</td>\n",
       "      <td>0.0</td>\n",
       "      <td>0.7</td>\n",
       "      <td>1.0</td>\n",
       "      <td>0.0</td>\n",
       "      <td>0.0</td>\n",
       "      <td>NaN</td>\n",
       "      <td>69</td>\n",
       "      <td>5</td>\n",
       "    </tr>\n",
       "    <tr>\n",
       "      <th>98</th>\n",
       "      <td>FF</td>\n",
       "      <td>2017-09-25</td>\n",
       "      <td>91.0</td>\n",
       "      <td>-1.5880</td>\n",
       "      <td>5.9950</td>\n",
       "      <td>Aaron Judge</td>\n",
       "      <td>592450</td>\n",
       "      <td>573046</td>\n",
       "      <td>NaN</td>\n",
       "      <td>ball</td>\n",
       "      <td>...</td>\n",
       "      <td>53.9449</td>\n",
       "      <td>0.0</td>\n",
       "      <td>0.0</td>\n",
       "      <td>NaN</td>\n",
       "      <td>NaN</td>\n",
       "      <td>NaN</td>\n",
       "      <td>NaN</td>\n",
       "      <td>NaN</td>\n",
       "      <td>69</td>\n",
       "      <td>4</td>\n",
       "    </tr>\n",
       "    <tr>\n",
       "      <th>99</th>\n",
       "      <td>FT</td>\n",
       "      <td>2017-09-25</td>\n",
       "      <td>90.9</td>\n",
       "      <td>-1.6920</td>\n",
       "      <td>5.8639</td>\n",
       "      <td>Aaron Judge</td>\n",
       "      <td>592450</td>\n",
       "      <td>573046</td>\n",
       "      <td>NaN</td>\n",
       "      <td>foul</td>\n",
       "      <td>...</td>\n",
       "      <td>53.5112</td>\n",
       "      <td>0.0</td>\n",
       "      <td>0.0</td>\n",
       "      <td>NaN</td>\n",
       "      <td>NaN</td>\n",
       "      <td>NaN</td>\n",
       "      <td>NaN</td>\n",
       "      <td>NaN</td>\n",
       "      <td>69</td>\n",
       "      <td>3</td>\n",
       "    </tr>\n",
       "    <tr>\n",
       "      <th>100</th>\n",
       "      <td>FF</td>\n",
       "      <td>2017-09-25</td>\n",
       "      <td>91.0</td>\n",
       "      <td>-1.5490</td>\n",
       "      <td>5.9417</td>\n",
       "      <td>Aaron Judge</td>\n",
       "      <td>592450</td>\n",
       "      <td>573046</td>\n",
       "      <td>NaN</td>\n",
       "      <td>ball</td>\n",
       "      <td>...</td>\n",
       "      <td>54.1307</td>\n",
       "      <td>0.0</td>\n",
       "      <td>0.0</td>\n",
       "      <td>NaN</td>\n",
       "      <td>NaN</td>\n",
       "      <td>NaN</td>\n",
       "      <td>NaN</td>\n",
       "      <td>NaN</td>\n",
       "      <td>69</td>\n",
       "      <td>2</td>\n",
       "    </tr>\n",
       "  </tbody>\n",
       "</table>\n",
       "<p>101 rows × 78 columns</p>\n",
       "</div>"
      ],
      "text/plain": [
       "    pitch_type   game_date  release_speed  release_pos_x  release_pos_z  \\\n",
       "0           FF  2017-09-30           95.7        -2.3581         5.9240   \n",
       "1           FF  2017-09-30           96.3        -2.5577         5.9023   \n",
       "2           FF  2017-09-30           95.2        -2.3861         5.8346   \n",
       "3           FT  2017-09-30           93.4         4.2502         4.6506   \n",
       "4           FT  2017-09-30           92.8         4.1144         4.4696   \n",
       "..         ...         ...            ...            ...            ...   \n",
       "96          CH  2017-09-26           90.7         2.2751         6.6861   \n",
       "97          FF  2017-09-25           92.1        -1.4879         5.9310   \n",
       "98          FF  2017-09-25           91.0        -1.5880         5.9950   \n",
       "99          FT  2017-09-25           90.9        -1.6920         5.8639   \n",
       "100         FF  2017-09-25           91.0        -1.5490         5.9417   \n",
       "\n",
       "     player_name  batter  pitcher     events      description  ...  \\\n",
       "0    Aaron Judge  592450   608678  strikeout  swinging_strike  ...   \n",
       "1    Aaron Judge  592450   608678        NaN    called_strike  ...   \n",
       "2    Aaron Judge  592450   608678        NaN    called_strike  ...   \n",
       "3    Aaron Judge  592450   571901       walk             ball  ...   \n",
       "4    Aaron Judge  592450   571901        NaN    called_strike  ...   \n",
       "..           ...     ...      ...        ...              ...  ...   \n",
       "96   Aaron Judge  592450   605483        NaN  swinging_strike  ...   \n",
       "97   Aaron Judge  592450   573046       walk             ball  ...   \n",
       "98   Aaron Judge  592450   573046        NaN             ball  ...   \n",
       "99   Aaron Judge  592450   573046        NaN             foul  ...   \n",
       "100  Aaron Judge  592450   573046        NaN             ball  ...   \n",
       "\n",
       "     release_pos_y  estimated_ba_using_speedangle  \\\n",
       "0          54.0129                            0.0   \n",
       "1          54.1114                            0.0   \n",
       "2          54.0285                            0.0   \n",
       "3          54.7309                            0.0   \n",
       "4          54.5228                            0.0   \n",
       "..             ...                            ...   \n",
       "96         53.9781                            0.0   \n",
       "97         53.8953                            0.0   \n",
       "98         53.9449                            0.0   \n",
       "99         53.5112                            0.0   \n",
       "100        54.1307                            0.0   \n",
       "\n",
       "     estimated_woba_using_speedangle  woba_value  woba_denom babip_value  \\\n",
       "0                                0.0         0.0         1.0         0.0   \n",
       "1                                0.0         NaN         NaN         NaN   \n",
       "2                                0.0         NaN         NaN         NaN   \n",
       "3                                0.0         0.7         1.0         0.0   \n",
       "4                                0.0         NaN         NaN         NaN   \n",
       "..                               ...         ...         ...         ...   \n",
       "96                               0.0         NaN         NaN         NaN   \n",
       "97                               0.0         0.7         1.0         0.0   \n",
       "98                               0.0         NaN         NaN         NaN   \n",
       "99                               0.0         NaN         NaN         NaN   \n",
       "100                              0.0         NaN         NaN         NaN   \n",
       "\n",
       "    iso_value launch_speed_angle at_bat_number pitch_number  \n",
       "0         0.0                NaN            53            3  \n",
       "1         NaN                NaN            53            2  \n",
       "2         NaN                NaN            53            1  \n",
       "3         0.0                NaN            36            5  \n",
       "4         NaN                NaN            36            4  \n",
       "..        ...                ...           ...          ...  \n",
       "96        NaN                NaN             8            1  \n",
       "97        0.0                NaN            69            5  \n",
       "98        NaN                NaN            69            4  \n",
       "99        NaN                NaN            69            3  \n",
       "100       NaN                NaN            69            2  \n",
       "\n",
       "[101 rows x 78 columns]"
      ]
     },
     "execution_count": 12,
     "metadata": {},
     "output_type": "execute_result"
    }
   ],
   "source": [
    "judge2"
   ]
  },
  {
   "cell_type": "markdown",
   "metadata": {},
   "source": [
    "# Explanation of the above code:\n",
    "1. first the text is splitted to form a list\n",
    "2. Then we iterate over the text in the list\n",
    "   1. we made a flag named is_modified which would change iff the pattern is found in the list elements\n",
    "   2. if found in keys the counter changes to text to the values in key in the text\n",
    "   3. it keep on appending to the list\n",
    "   4. break is reached if no matches is found\n",
    "3. if no matches is found , is_modify remain as false and we append the text to list\n",
    "4. finally we join everything\n",
    "\n",
    "\n"
   ]
  },
  {
   "cell_type": "code",
   "execution_count": null,
   "metadata": {},
   "outputs": [
    {
     "data": {
      "text/plain": [
       "0                     Aaron Judge strikes out swinging.  \n",
       "1                                                    None\n",
       "2                                                    None\n",
       "3              Aaron Judge walks.   Aaron Hicks to 2nd.  \n",
       "4                                                    None\n",
       "                              ...                        \n",
       "3431                                                 None\n",
       "3432    Aaron Judge homers (1) on a fly ball to center...\n",
       "3433                                                 None\n",
       "3434                                                 None\n",
       "3435                                                 None\n",
       "Name: des, Length: 3436, dtype: object"
      ]
     },
     "execution_count": 117,
     "metadata": {},
     "output_type": "execute_result"
    }
   ],
   "source": []
  },
  {
   "cell_type": "code",
   "execution_count": null,
   "metadata": {},
   "outputs": [
    {
     "data": {
      "text/plain": [
       "'Ransingh'"
      ]
     },
     "execution_count": 47,
     "metadata": {},
     "output_type": "execute_result"
    }
   ],
   "source": [
    "names = [\"rannsingh\",\"sssatyajit\",\"raayyyy\",\"ray1\",\"satyajit\"]\n",
    "\n",
    "# new_names = [\"ransingh\",\"satyajit\",\"ray\",\"ray1\",\"satyajit\"]\n",
    "\n",
    "name = \"Rannsiinggh\"\n",
    "\n",
    "output = \"\"\n",
    "prev_char = None  # Keep track of the previous character\n",
    "\n",
    "for char in name:\n",
    "    if char != prev_char:  # Add character if it's different from the previous one\n",
    "        output += char\n",
    "        prev_char = char\n",
    "        \n",
    "output        "
   ]
  },
  {
   "cell_type": "code",
   "execution_count": null,
   "metadata": {},
   "outputs": [
    {
     "data": {
      "text/plain": [
       "'Ransingh'"
      ]
     },
     "execution_count": 51,
     "metadata": {},
     "output_type": "execute_result"
    }
   ],
   "source": [
    "# doing the above using index\n",
    "output = \"\"\n",
    "prev_char = None\n",
    "\n",
    "for i in range(len(name)):\n",
    "    if name[i]!=prev_char:\n",
    "        output+=name[i]\n",
    "        prev_char = name[i]\n",
    "        \n",
    "output        "
   ]
  },
  {
   "cell_type": "markdown",
   "metadata": {},
   "source": [
    "Here we initialized the previous character to None and them made the update to it inside the if condition inside for loop, so that the updates can be matches with the current words.\n",
    "\n",
    "\n",
    "# In the for loop thus it is very important to keep\n",
    "1. Flags or checks with True/False for conditional updates, like the is_modified variable we used\n",
    "2. empty list or string that can be updated as per the requirement using append and += respectively\n",
    "3. Initial value assigning (to None) to kick start some conditional checking when not assigning may end up with error(eg. range initiated with 0, when we use to match previous element for initial value the index may become -1 which is not correct)\n",
    "4. For dataframe, we do things for single then use apply to make the changes through out. This helps in avoid complicated nested loop"
   ]
  },
  {
   "cell_type": "code",
   "execution_count": null,
   "metadata": {},
   "outputs": [
    {
     "data": {
      "text/plain": [
       "['ransingh', 'satyajit', 'ray', 'ray1', 'satyajit']"
      ]
     },
     "execution_count": 52,
     "metadata": {},
     "output_type": "execute_result"
    }
   ],
   "source": [
    "names = [\"rannsingh\",\"sssatyajit\",\"raayyyy\",\"ray1\",\"satyajit\"]\n",
    "\n",
    "new_name = list()     # empty list\n",
    "\n",
    "for name in names:\n",
    "    prev_char = None  # initiator\n",
    "    new_wrd = \"\"      # empty  word\n",
    "    for i in range(len(name)):\n",
    "        if name[i]!=prev_char:\n",
    "            new_wrd+=name[i]\n",
    "            prev_char=name[i]\n",
    "        new_word = new_wrd     # we did it outside the if loop as we are extracting the complete word with out repeatation, this finishes the task of inner for loop\n",
    "    new_name.append(new_word)  # this is part of outer for loop whose task is to update the list\n",
    "    \n",
    "new_name            "
   ]
  },
  {
   "cell_type": "code",
   "execution_count": 26,
   "metadata": {},
   "outputs": [
    {
     "name": "stdout",
     "output_type": "stream",
     "text": [
      "Help on function escape in module re:\n",
      "\n",
      "escape(pattern)\n",
      "    Escape special characters in a string.\n",
      "\n"
     ]
    }
   ],
   "source": [
    "help(re.escape)"
   ]
  },
  {
   "cell_type": "code",
   "execution_count": 30,
   "metadata": {},
   "outputs": [
    {
     "data": {
      "text/plain": [
       "'Aaron\\\\ '"
      ]
     },
     "execution_count": 30,
     "metadata": {},
     "output_type": "execute_result"
    }
   ],
   "source": [
    "re.escape(\"Aaron \")"
   ]
  },
  {
   "cell_type": "code",
   "execution_count": 33,
   "metadata": {},
   "outputs": [
    {
     "name": "stdout",
     "output_type": "stream",
     "text": [
      "['Ransingh RS Study Python', ' ', 'RS Ray reads data science', 'ok allright']\n"
     ]
    }
   ],
   "source": [
    "import re # This brings in a special toolbox called \"regular expressions\" that helps find patterns in text.\n",
    "\n",
    "def replacement_string(text1: list):\n",
    "    compl_string = [] # to store the modified sentences.\n",
    "    for text in text1:  # This starts a loop that looks at each sentence in the list one by one.\n",
    "        new_text = re.sub(\"|\".join(re.escape(key) for key in dict_repl), # It uses the re tool to find words that need replacing.\n",
    "                          lambda m: dict_repl[m.group(0)], text) # \n",
    "        compl_string.append(new_text)\n",
    "    return compl_string\n",
    "\n",
    "# Example usage:\n",
    "text1 = [\"Ransingh Aaron Study Python\", \" \", \"Aaron Judge reads data science\", \"ok allright\"]\n",
    "dict_repl = {'Aaron': 'RS', 'Judge': 'Ray'}\n",
    "\n",
    "result = replacement_string(text1)\n",
    "print(result)  # Output: ['Ransingh RS Study Python', ' ', 'RS Ray reads data science', 'ok allright']\n"
   ]
  },
  {
   "cell_type": "code",
   "execution_count": 36,
   "metadata": {},
   "outputs": [
    {
     "name": "stdout",
     "output_type": "stream",
     "text": [
      "Ransingh RS Study Python\n"
     ]
    }
   ],
   "source": [
    "text = \"Ransingh Aaron Study Python\"\n",
    "dict_repl = {'Aaron': 'RS', 'Judge': 'Ray'}\n",
    "\n",
    "new_text = re.sub(\"Aaron|Judge\", lambda m: dict_repl[m.group(0)], text) # ????????????\n",
    "print(new_text)  # Output: \"Ransingh RS Study Python\"\n",
    "\n"
   ]
  },
  {
   "cell_type": "code",
   "execution_count": 38,
   "metadata": {},
   "outputs": [
    {
     "ename": "AttributeError",
     "evalue": "'str' object has no attribute 'group'",
     "output_type": "error",
     "traceback": [
      "\u001b[1;31m---------------------------------------------------------------------------\u001b[0m",
      "\u001b[1;31mAttributeError\u001b[0m                            Traceback (most recent call last)",
      "Cell \u001b[1;32mIn[38], line 1\u001b[0m\n\u001b[1;32m----> 1\u001b[0m dict_repl[\u001b[38;5;124;43m'\u001b[39;49m\u001b[38;5;124;43mAaron\u001b[39;49m\u001b[38;5;124;43m'\u001b[39;49m\u001b[38;5;241;43m.\u001b[39;49m\u001b[43mgroup\u001b[49m(\u001b[38;5;241m0\u001b[39m)]\n",
      "\u001b[1;31mAttributeError\u001b[0m: 'str' object has no attribute 'group'"
     ]
    }
   ],
   "source": [
    "dict_repl['Aaron'.group(0)]"
   ]
  }
 ],
 "metadata": {
  "kernelspec": {
   "display_name": "Python 3",
   "language": "python",
   "name": "python3"
  },
  "language_info": {
   "codemirror_mode": {
    "name": "ipython",
    "version": 3
   },
   "file_extension": ".py",
   "mimetype": "text/x-python",
   "name": "python",
   "nbconvert_exporter": "python",
   "pygments_lexer": "ipython3",
   "version": "3.12.1"
  }
 },
 "nbformat": 4,
 "nbformat_minor": 2
}
