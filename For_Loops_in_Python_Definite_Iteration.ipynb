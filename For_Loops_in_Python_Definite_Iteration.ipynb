{
 "cells": [
  {
   "cell_type": "code",
   "execution_count": 1,
   "metadata": {},
   "outputs": [
    {
     "name": "stderr",
     "output_type": "stream",
     "text": [
      "C:\\Users\\Ransingh\\AppData\\Local\\Temp\\ipykernel_32604\\2162656668.py:1: DeprecationWarning: \n",
      "Pyarrow will become a required dependency of pandas in the next major release of pandas (pandas 3.0),\n",
      "(to allow more performant data types, such as the Arrow string type, and better interoperability with other libraries)\n",
      "but was not found to be installed on your system.\n",
      "If this would cause problems for you,\n",
      "please provide us feedback at https://github.com/pandas-dev/pandas/issues/54466\n",
      "        \n",
      "  import pandas as pd\n"
     ]
    }
   ],
   "source": [
    "import pandas as pd\n",
    "import numpy as np"
   ]
  },
  {
   "cell_type": "markdown",
   "metadata": {},
   "source": [
    "1. For loop on df\n",
    "2. on list\n",
    "3. on string\n",
    "4. on dictionary\n",
    "5. enumerate, items, iterrows, range\n",
    "6. for else\n",
    "7. for (if else) else"
   ]
  },
  {
   "cell_type": "markdown",
   "metadata": {},
   "source": [
    "1. for i in list\n",
    "2. for i,j in dict.items()\n",
    "3. for i in range(start, end)\n",
    "4. for i in df.columns\n",
    "5. for row_index, row_data in df.iterrows()\n",
    "6. for colm_name, column_data in df.items()\n",
    "7. for index, element in enumerate -> list, tuple, set, string, np.array\n",
    "8. appending inside for + if elif loop\n",
    "9. indexing concept in string vs list , what could be done what could'nt be\n",
    "10. what function or feature on string helps in iterating over it - split, join, compile in re, replace,\n",
    "11. function + for\n",
    "12. function + for + (if + elif + else)\n",
    "13. function + for + (if + elif + else) + else\n",
    "14. function with try :for + (if + elif + else) + break + else except\n",
    "15. how to know how many parts an iterable has ?"
   ]
  },
  {
   "cell_type": "code",
   "execution_count": 2,
   "metadata": {},
   "outputs": [
    {
     "ename": "TypeError",
     "evalue": "cannot unpack non-iterable int object",
     "output_type": "error",
     "traceback": [
      "\u001b[1;31m---------------------------------------------------------------------------\u001b[0m",
      "\u001b[1;31mTypeError\u001b[0m                                 Traceback (most recent call last)",
      "Cell \u001b[1;32mIn[2], line 1\u001b[0m\n\u001b[1;32m----> 1\u001b[0m \u001b[38;5;28;01mfor\u001b[39;00m i, j \u001b[38;5;129;01min\u001b[39;00m [\u001b[38;5;241m4\u001b[39m, \u001b[38;5;241m3\u001b[39m, \u001b[38;5;241m2\u001b[39m, \u001b[38;5;241m1\u001b[39m]:\n\u001b[0;32m      2\u001b[0m     \u001b[38;5;28mprint\u001b[39m(\u001b[38;5;124mf\u001b[39m\u001b[38;5;124m\"\u001b[39m\u001b[38;5;124mi: \u001b[39m\u001b[38;5;132;01m{\u001b[39;00mi\u001b[38;5;132;01m}\u001b[39;00m\u001b[38;5;124m, j: \u001b[39m\u001b[38;5;132;01m{\u001b[39;00mj\u001b[38;5;132;01m}\u001b[39;00m\u001b[38;5;124m\"\u001b[39m)\n",
      "\u001b[1;31mTypeError\u001b[0m: cannot unpack non-iterable int object"
     ]
    }
   ],
   "source": [
    "for i, j in [4, 3, 2, 1]:\n",
    "    print(f\"i: {i}, j: {j}\")"
   ]
  },
  {
   "cell_type": "code",
   "execution_count": 3,
   "metadata": {},
   "outputs": [
    {
     "name": "stdout",
     "output_type": "stream",
     "text": [
      "Item: 4\n",
      "Item: 3\n",
      "Item: 2\n",
      "Item: 1\n"
     ]
    }
   ],
   "source": [
    "for item in [4, 3, 2, 1]:\n",
    "    print(f\"Item: {item}\")"
   ]
  },
  {
   "cell_type": "code",
   "execution_count": 4,
   "metadata": {},
   "outputs": [
    {
     "name": "stdout",
     "output_type": "stream",
     "text": [
      "i: 4, j: four\n",
      "i: 3, j: three\n",
      "i: 2, j: two\n",
      "i: 1, j: one\n"
     ]
    }
   ],
   "source": [
    "for i, j in [(4, 'four'), (3, 'three'), (2, 'two'), (1, 'one')]:\n",
    "    print(f\"i: {i}, j: {j}\")"
   ]
  }
 ],
 "metadata": {
  "kernelspec": {
   "display_name": "Python 3",
   "language": "python",
   "name": "python3"
  },
  "language_info": {
   "codemirror_mode": {
    "name": "ipython",
    "version": 3
   },
   "file_extension": ".py",
   "mimetype": "text/x-python",
   "name": "python",
   "nbconvert_exporter": "python",
   "pygments_lexer": "ipython3",
   "version": "3.12.1"
  }
 },
 "nbformat": 4,
 "nbformat_minor": 2
}
